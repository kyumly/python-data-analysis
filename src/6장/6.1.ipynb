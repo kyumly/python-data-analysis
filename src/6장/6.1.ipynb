{
 "cells": [
  {
   "cell_type": "code",
   "execution_count": 5,
   "metadata": {
    "collapsed": true,
    "pycharm": {
     "name": "#%%\n"
    }
   },
   "outputs": [
    {
     "data": {
      "text/plain": "                      date  Appliances  lights         T1       RH_1  \\\n0      2016-01-11 17:00:00          60      30  19.890000  47.596667   \n1      2016-01-11 17:10:00          60      30  19.890000  46.693333   \n2      2016-01-11 17:20:00          50      30  19.890000  46.300000   \n3      2016-01-11 17:30:00          50      40  19.890000  46.066667   \n4      2016-01-11 17:40:00          60      40  19.890000  46.333333   \n...                    ...         ...     ...        ...        ...   \n17419  2016-05-11 16:10:00          70       0  25.633333  46.826667   \n17420  2016-05-11 16:20:00          80       0  25.675000  47.175000   \n17421  2016-05-11 16:30:00          70       0  25.533333  48.333333   \n17422  2016-05-11 16:40:00          80       0  25.500000  49.226667   \n17423  2016-05-11 16:50:00          80       0  25.500000  49.766667   \n\n              T2       RH_2     T3       RH_3         T4       RH_4  \\\n0      19.200000  44.790000  19.79  44.730000  19.000000  45.566667   \n1      19.200000  44.722500  19.79  44.790000  19.000000  45.992500   \n2      19.200000  44.626667  19.79  44.933333  18.926667  45.890000   \n3      19.200000  44.590000  19.79  45.000000  18.890000  45.723333   \n4      19.200000  44.530000  19.79  45.000000  18.890000  45.530000   \n...          ...        ...    ...        ...        ...        ...   \n17419  26.456000  41.834000  26.20  44.054000  26.100000  44.090000   \n17420  26.375714  42.708571  26.20  44.090000  26.100000  44.200000   \n17421  26.196000  44.532000  26.20  44.280000  26.100000  44.382857   \n17422  25.892857  46.124286  26.20  44.825714  26.040000  44.898000   \n17423  25.660000  47.280000  26.18  45.314000  26.000000  45.641250   \n\n              T5       RH_5  \n0      17.166667  55.200000  \n1      17.166667  55.200000  \n2      17.166667  55.090000  \n3      17.166667  55.090000  \n4      17.200000  55.090000  \n...          ...        ...  \n17419  24.000000  50.626667  \n17420  24.000000  50.700000  \n17421  24.033333  50.830000  \n17422  24.100000  51.296667  \n17423  24.000000  51.726667  \n\n[17424 rows x 13 columns]",
      "text/html": "<div>\n<style scoped>\n    .dataframe tbody tr th:only-of-type {\n        vertical-align: middle;\n    }\n\n    .dataframe tbody tr th {\n        vertical-align: top;\n    }\n\n    .dataframe thead th {\n        text-align: right;\n    }\n</style>\n<table border=\"1\" class=\"dataframe\">\n  <thead>\n    <tr style=\"text-align: right;\">\n      <th></th>\n      <th>date</th>\n      <th>Appliances</th>\n      <th>lights</th>\n      <th>T1</th>\n      <th>RH_1</th>\n      <th>T2</th>\n      <th>RH_2</th>\n      <th>T3</th>\n      <th>RH_3</th>\n      <th>T4</th>\n      <th>RH_4</th>\n      <th>T5</th>\n      <th>RH_5</th>\n    </tr>\n  </thead>\n  <tbody>\n    <tr>\n      <th>0</th>\n      <td>2016-01-11 17:00:00</td>\n      <td>60</td>\n      <td>30</td>\n      <td>19.890000</td>\n      <td>47.596667</td>\n      <td>19.200000</td>\n      <td>44.790000</td>\n      <td>19.79</td>\n      <td>44.730000</td>\n      <td>19.000000</td>\n      <td>45.566667</td>\n      <td>17.166667</td>\n      <td>55.200000</td>\n    </tr>\n    <tr>\n      <th>1</th>\n      <td>2016-01-11 17:10:00</td>\n      <td>60</td>\n      <td>30</td>\n      <td>19.890000</td>\n      <td>46.693333</td>\n      <td>19.200000</td>\n      <td>44.722500</td>\n      <td>19.79</td>\n      <td>44.790000</td>\n      <td>19.000000</td>\n      <td>45.992500</td>\n      <td>17.166667</td>\n      <td>55.200000</td>\n    </tr>\n    <tr>\n      <th>2</th>\n      <td>2016-01-11 17:20:00</td>\n      <td>50</td>\n      <td>30</td>\n      <td>19.890000</td>\n      <td>46.300000</td>\n      <td>19.200000</td>\n      <td>44.626667</td>\n      <td>19.79</td>\n      <td>44.933333</td>\n      <td>18.926667</td>\n      <td>45.890000</td>\n      <td>17.166667</td>\n      <td>55.090000</td>\n    </tr>\n    <tr>\n      <th>3</th>\n      <td>2016-01-11 17:30:00</td>\n      <td>50</td>\n      <td>40</td>\n      <td>19.890000</td>\n      <td>46.066667</td>\n      <td>19.200000</td>\n      <td>44.590000</td>\n      <td>19.79</td>\n      <td>45.000000</td>\n      <td>18.890000</td>\n      <td>45.723333</td>\n      <td>17.166667</td>\n      <td>55.090000</td>\n    </tr>\n    <tr>\n      <th>4</th>\n      <td>2016-01-11 17:40:00</td>\n      <td>60</td>\n      <td>40</td>\n      <td>19.890000</td>\n      <td>46.333333</td>\n      <td>19.200000</td>\n      <td>44.530000</td>\n      <td>19.79</td>\n      <td>45.000000</td>\n      <td>18.890000</td>\n      <td>45.530000</td>\n      <td>17.200000</td>\n      <td>55.090000</td>\n    </tr>\n    <tr>\n      <th>...</th>\n      <td>...</td>\n      <td>...</td>\n      <td>...</td>\n      <td>...</td>\n      <td>...</td>\n      <td>...</td>\n      <td>...</td>\n      <td>...</td>\n      <td>...</td>\n      <td>...</td>\n      <td>...</td>\n      <td>...</td>\n      <td>...</td>\n    </tr>\n    <tr>\n      <th>17419</th>\n      <td>2016-05-11 16:10:00</td>\n      <td>70</td>\n      <td>0</td>\n      <td>25.633333</td>\n      <td>46.826667</td>\n      <td>26.456000</td>\n      <td>41.834000</td>\n      <td>26.20</td>\n      <td>44.054000</td>\n      <td>26.100000</td>\n      <td>44.090000</td>\n      <td>24.000000</td>\n      <td>50.626667</td>\n    </tr>\n    <tr>\n      <th>17420</th>\n      <td>2016-05-11 16:20:00</td>\n      <td>80</td>\n      <td>0</td>\n      <td>25.675000</td>\n      <td>47.175000</td>\n      <td>26.375714</td>\n      <td>42.708571</td>\n      <td>26.20</td>\n      <td>44.090000</td>\n      <td>26.100000</td>\n      <td>44.200000</td>\n      <td>24.000000</td>\n      <td>50.700000</td>\n    </tr>\n    <tr>\n      <th>17421</th>\n      <td>2016-05-11 16:30:00</td>\n      <td>70</td>\n      <td>0</td>\n      <td>25.533333</td>\n      <td>48.333333</td>\n      <td>26.196000</td>\n      <td>44.532000</td>\n      <td>26.20</td>\n      <td>44.280000</td>\n      <td>26.100000</td>\n      <td>44.382857</td>\n      <td>24.033333</td>\n      <td>50.830000</td>\n    </tr>\n    <tr>\n      <th>17422</th>\n      <td>2016-05-11 16:40:00</td>\n      <td>80</td>\n      <td>0</td>\n      <td>25.500000</td>\n      <td>49.226667</td>\n      <td>25.892857</td>\n      <td>46.124286</td>\n      <td>26.20</td>\n      <td>44.825714</td>\n      <td>26.040000</td>\n      <td>44.898000</td>\n      <td>24.100000</td>\n      <td>51.296667</td>\n    </tr>\n    <tr>\n      <th>17423</th>\n      <td>2016-05-11 16:50:00</td>\n      <td>80</td>\n      <td>0</td>\n      <td>25.500000</td>\n      <td>49.766667</td>\n      <td>25.660000</td>\n      <td>47.280000</td>\n      <td>26.18</td>\n      <td>45.314000</td>\n      <td>26.000000</td>\n      <td>45.641250</td>\n      <td>24.000000</td>\n      <td>51.726667</td>\n    </tr>\n  </tbody>\n</table>\n<p>17424 rows × 13 columns</p>\n</div>"
     },
     "execution_count": 5,
     "metadata": {},
     "output_type": "execute_result"
    }
   ],
   "source": [
    "import os\n",
    "import pandas as pd\n",
    "\n",
    "enr = pd.read_csv('../data/energydata.csv', sep=',')\n",
    "\n",
    "dat_df = pd.DataFrame(enr)\n",
    "\n",
    "dat_df"
   ]
  },
  {
   "cell_type": "code",
   "execution_count": 6,
   "outputs": [
    {
     "name": "stdout",
     "output_type": "stream",
     "text": [
      "(17424, 13)\n"
     ]
    }
   ],
   "source": [
    "print(dat_df.shape)"
   ],
   "metadata": {
    "collapsed": false,
    "pycharm": {
     "name": "#%%\n"
    }
   }
  },
  {
   "cell_type": "code",
   "execution_count": 7,
   "outputs": [
    {
     "data": {
      "text/plain": "date           object\nAppliances      int64\nlights          int64\nT1            float64\nRH_1          float64\nT2            float64\nRH_2          float64\nT3            float64\nRH_3          float64\nT4            float64\nRH_4          float64\nT5            float64\nRH_5          float64\ndtype: object"
     },
     "execution_count": 7,
     "metadata": {},
     "output_type": "execute_result"
    }
   ],
   "source": [
    "dat_df.dtypes"
   ],
   "metadata": {
    "collapsed": false,
    "pycharm": {
     "name": "#%%\n"
    }
   }
  },
  {
   "cell_type": "code",
   "execution_count": 12,
   "outputs": [
    {
     "name": "stdout",
     "output_type": "stream",
     "text": [
      "datetime64[ns]\n",
      "<class 'pandas._libs.tslibs.timestamps.Timestamp'>\n"
     ]
    }
   ],
   "source": [
    "dat_df['date'] = pd.to_datetime(dat_df['date'], format='%Y-%m-%d %H:%M:%S')\n",
    "print(dat_df['date'].dtypes)\n",
    "\n",
    "print(type(dat_df['date'][0]))"
   ],
   "metadata": {
    "collapsed": false,
    "pycharm": {
     "name": "#%%\n"
    }
   }
  },
  {
   "cell_type": "code",
   "execution_count": 17,
   "outputs": [
    {
     "data": {
      "text/plain": "0     0.0\n1    10.0\n2    10.0\n3    10.0\n4    10.0\nName: dif_min, dtype: float64"
     },
     "execution_count": 17,
     "metadata": {},
     "output_type": "execute_result"
    }
   ],
   "source": [
    "dat_df['dif_min'] = dat_df['date'].diff().dt.total_seconds()/60\n",
    "dat_df['dif_min'] = dat_df['dif_min'].fillna(0)\n",
    "dat_df['dif_min'].head()"
   ],
   "metadata": {
    "collapsed": false,
    "pycharm": {
     "name": "#%%\n"
    }
   }
  },
  {
   "cell_type": "code",
   "execution_count": 22,
   "outputs": [
    {
     "data": {
      "text/plain": "                 date  cum_min\n0 2016-01-11 17:00:00      0.0\n1 2016-01-11 17:10:00     10.0\n2 2016-01-11 17:20:00     20.0\n3 2016-01-11 17:30:00     30.0\n4 2016-01-11 17:40:00     40.0",
      "text/html": "<div>\n<style scoped>\n    .dataframe tbody tr th:only-of-type {\n        vertical-align: middle;\n    }\n\n    .dataframe tbody tr th {\n        vertical-align: top;\n    }\n\n    .dataframe thead th {\n        text-align: right;\n    }\n</style>\n<table border=\"1\" class=\"dataframe\">\n  <thead>\n    <tr style=\"text-align: right;\">\n      <th></th>\n      <th>date</th>\n      <th>cum_min</th>\n    </tr>\n  </thead>\n  <tbody>\n    <tr>\n      <th>0</th>\n      <td>2016-01-11 17:00:00</td>\n      <td>0.0</td>\n    </tr>\n    <tr>\n      <th>1</th>\n      <td>2016-01-11 17:10:00</td>\n      <td>10.0</td>\n    </tr>\n    <tr>\n      <th>2</th>\n      <td>2016-01-11 17:20:00</td>\n      <td>20.0</td>\n    </tr>\n    <tr>\n      <th>3</th>\n      <td>2016-01-11 17:30:00</td>\n      <td>30.0</td>\n    </tr>\n    <tr>\n      <th>4</th>\n      <td>2016-01-11 17:40:00</td>\n      <td>40.0</td>\n    </tr>\n  </tbody>\n</table>\n</div>"
     },
     "execution_count": 22,
     "metadata": {},
     "output_type": "execute_result"
    }
   ],
   "source": [
    "dat_df['cum_min'] = dat_df['dif_min'].cumsum()\n",
    "dat_df[['date', 'cum_min']].head()"
   ],
   "metadata": {
    "collapsed": false,
    "pycharm": {
     "name": "#%%\n"
    }
   }
  },
  {
   "cell_type": "markdown",
   "source": [
    "연습문제1"
   ],
   "metadata": {
    "collapsed": false
   }
  },
  {
   "cell_type": "code",
   "execution_count": 26,
   "outputs": [
    {
     "name": "stdout",
     "output_type": "stream",
     "text": [
      "[   0    1    2 ... 2901 2902 2903]\n"
     ]
    },
    {
     "data": {
      "text/plain": "                 date  cum_min  cum_hour\n0 2016-01-11 17:00:00      0.0         0\n1 2016-01-11 17:10:00     10.0         0\n2 2016-01-11 17:20:00     20.0         0\n3 2016-01-11 17:30:00     30.0         0\n4 2016-01-11 17:40:00     40.0         0\n5 2016-01-11 17:50:00     50.0         0\n6 2016-01-11 18:00:00     60.0         1\n7 2016-01-11 18:10:00     70.0         1\n8 2016-01-11 18:20:00     80.0         1\n9 2016-01-11 18:30:00     90.0         1",
      "text/html": "<div>\n<style scoped>\n    .dataframe tbody tr th:only-of-type {\n        vertical-align: middle;\n    }\n\n    .dataframe tbody tr th {\n        vertical-align: top;\n    }\n\n    .dataframe thead th {\n        text-align: right;\n    }\n</style>\n<table border=\"1\" class=\"dataframe\">\n  <thead>\n    <tr style=\"text-align: right;\">\n      <th></th>\n      <th>date</th>\n      <th>cum_min</th>\n      <th>cum_hour</th>\n    </tr>\n  </thead>\n  <tbody>\n    <tr>\n      <th>0</th>\n      <td>2016-01-11 17:00:00</td>\n      <td>0.0</td>\n      <td>0</td>\n    </tr>\n    <tr>\n      <th>1</th>\n      <td>2016-01-11 17:10:00</td>\n      <td>10.0</td>\n      <td>0</td>\n    </tr>\n    <tr>\n      <th>2</th>\n      <td>2016-01-11 17:20:00</td>\n      <td>20.0</td>\n      <td>0</td>\n    </tr>\n    <tr>\n      <th>3</th>\n      <td>2016-01-11 17:30:00</td>\n      <td>30.0</td>\n      <td>0</td>\n    </tr>\n    <tr>\n      <th>4</th>\n      <td>2016-01-11 17:40:00</td>\n      <td>40.0</td>\n      <td>0</td>\n    </tr>\n    <tr>\n      <th>5</th>\n      <td>2016-01-11 17:50:00</td>\n      <td>50.0</td>\n      <td>0</td>\n    </tr>\n    <tr>\n      <th>6</th>\n      <td>2016-01-11 18:00:00</td>\n      <td>60.0</td>\n      <td>1</td>\n    </tr>\n    <tr>\n      <th>7</th>\n      <td>2016-01-11 18:10:00</td>\n      <td>70.0</td>\n      <td>1</td>\n    </tr>\n    <tr>\n      <th>8</th>\n      <td>2016-01-11 18:20:00</td>\n      <td>80.0</td>\n      <td>1</td>\n    </tr>\n    <tr>\n      <th>9</th>\n      <td>2016-01-11 18:30:00</td>\n      <td>90.0</td>\n      <td>1</td>\n    </tr>\n  </tbody>\n</table>\n</div>"
     },
     "execution_count": 26,
     "metadata": {},
     "output_type": "execute_result"
    }
   ],
   "source": [
    "dat_df['cum_hour'] = (dat_df['cum_min']/60).round(2).astype(int)\n",
    "\n",
    "# 1시간 단위의 연결번호를 확인\n",
    "print(dat_df['cum_hour'].unique())\n",
    "\n",
    "# 원래의 날짜와 경과시간(시)을 표시元\n",
    "dat_df[['date', 'cum_min', 'cum_hour']].head(10)"
   ],
   "metadata": {
    "collapsed": false,
    "pycharm": {
     "name": "#%%\n"
    }
   }
  },
  {
   "cell_type": "markdown",
   "source": [
    "1.3 결손값 확인"
   ],
   "metadata": {
    "collapsed": false
   }
  },
  {
   "cell_type": "code",
   "execution_count": 24,
   "outputs": [
    {
     "name": "stdout",
     "output_type": "stream",
     "text": [
      "9699     1\n",
      "8604     1\n",
      "14047    1\n",
      "8586     1\n",
      "11427    1\n",
      "        ..\n",
      "5813     0\n",
      "5814     0\n",
      "5815     0\n",
      "5816     0\n",
      "17423    0\n",
      "Length: 17424, dtype: int64\n",
      "date          0\n",
      "Appliances    0\n",
      "lights        0\n",
      "T1            1\n",
      "RH_1          0\n",
      "T2            0\n",
      "RH_2          1\n",
      "T3            2\n",
      "RH_3          0\n",
      "T4            0\n",
      "RH_4          0\n",
      "T5            1\n",
      "RH_5          0\n",
      "dif_min       0\n",
      "cum_min       0\n",
      "dtype: int64\n"
     ]
    }
   ],
   "source": [
    "print(dat_df.isnull().sum(axis=1).sort_values(ascending=False))\n",
    "print(dat_df.isnull().sum(axis=0))"
   ],
   "metadata": {
    "collapsed": false,
    "pycharm": {
     "name": "#%%\n"
    }
   }
  },
  {
   "cell_type": "code",
   "execution_count": 25,
   "outputs": [
    {
     "data": {
      "text/plain": "         Appliances        lights            T1          RH_1            T2  \\\ncount  17424.000000  17424.000000  17423.000000  17424.000000  17424.000000   \nmean      97.136134      4.032943     21.370848     39.892301     19.960777   \nstd      103.247863      8.131761      1.407637      3.716096      1.949825   \nmin       10.000000      0.000000     16.790000     27.023333     16.100000   \n25%       50.000000      0.000000     20.600000     37.163333     18.666667   \n50%       60.000000      0.000000     21.390000     39.326667     19.700000   \n75%      100.000000      0.000000     22.200000     42.566875     20.926667   \nmax     1080.000000     70.000000     25.700000     63.360000     29.856667   \n\n               RH_2            T3          RH_3            T4          RH_4  \\\ncount  17423.000000  17422.000000  17424.000000  17424.000000  17424.000000   \nmean      40.209553     21.851889     39.165869     20.437045     38.753288   \nstd        3.836293      1.705699      3.210397      1.775985      4.274644   \nmin       20.463333     17.200000     30.663333     15.100000     27.660000   \n25%       37.863333     20.600000     36.790000     19.338333     35.326667   \n50%       40.360000     21.790000     38.420667     20.390000     38.133333   \n75%       43.000000     22.890000     41.433333     21.500000     41.658333   \nmax       56.026667     27.600000     50.163333     26.200000     51.090000   \n\n                 T5          RH_5       dif_min        cum_min  \ncount  17423.000000  17424.000000  17424.000000   17424.000000  \nmean      19.198926     51.053839      9.999426   87115.000000  \nstd        1.525227      9.092618      0.075758   50300.198807  \nmin       15.330000     29.815000      0.000000       0.000000  \n25%       18.100000     45.400000     10.000000   43557.500000  \n50%       19.100000     48.900000     10.000000   87115.000000  \n75%       20.200000     53.830278     10.000000  130672.500000  \nmax       25.745000     96.321667     10.000000  174230.000000  ",
      "text/html": "<div>\n<style scoped>\n    .dataframe tbody tr th:only-of-type {\n        vertical-align: middle;\n    }\n\n    .dataframe tbody tr th {\n        vertical-align: top;\n    }\n\n    .dataframe thead th {\n        text-align: right;\n    }\n</style>\n<table border=\"1\" class=\"dataframe\">\n  <thead>\n    <tr style=\"text-align: right;\">\n      <th></th>\n      <th>Appliances</th>\n      <th>lights</th>\n      <th>T1</th>\n      <th>RH_1</th>\n      <th>T2</th>\n      <th>RH_2</th>\n      <th>T3</th>\n      <th>RH_3</th>\n      <th>T4</th>\n      <th>RH_4</th>\n      <th>T5</th>\n      <th>RH_5</th>\n      <th>dif_min</th>\n      <th>cum_min</th>\n    </tr>\n  </thead>\n  <tbody>\n    <tr>\n      <th>count</th>\n      <td>17424.000000</td>\n      <td>17424.000000</td>\n      <td>17423.000000</td>\n      <td>17424.000000</td>\n      <td>17424.000000</td>\n      <td>17423.000000</td>\n      <td>17422.000000</td>\n      <td>17424.000000</td>\n      <td>17424.000000</td>\n      <td>17424.000000</td>\n      <td>17423.000000</td>\n      <td>17424.000000</td>\n      <td>17424.000000</td>\n      <td>17424.000000</td>\n    </tr>\n    <tr>\n      <th>mean</th>\n      <td>97.136134</td>\n      <td>4.032943</td>\n      <td>21.370848</td>\n      <td>39.892301</td>\n      <td>19.960777</td>\n      <td>40.209553</td>\n      <td>21.851889</td>\n      <td>39.165869</td>\n      <td>20.437045</td>\n      <td>38.753288</td>\n      <td>19.198926</td>\n      <td>51.053839</td>\n      <td>9.999426</td>\n      <td>87115.000000</td>\n    </tr>\n    <tr>\n      <th>std</th>\n      <td>103.247863</td>\n      <td>8.131761</td>\n      <td>1.407637</td>\n      <td>3.716096</td>\n      <td>1.949825</td>\n      <td>3.836293</td>\n      <td>1.705699</td>\n      <td>3.210397</td>\n      <td>1.775985</td>\n      <td>4.274644</td>\n      <td>1.525227</td>\n      <td>9.092618</td>\n      <td>0.075758</td>\n      <td>50300.198807</td>\n    </tr>\n    <tr>\n      <th>min</th>\n      <td>10.000000</td>\n      <td>0.000000</td>\n      <td>16.790000</td>\n      <td>27.023333</td>\n      <td>16.100000</td>\n      <td>20.463333</td>\n      <td>17.200000</td>\n      <td>30.663333</td>\n      <td>15.100000</td>\n      <td>27.660000</td>\n      <td>15.330000</td>\n      <td>29.815000</td>\n      <td>0.000000</td>\n      <td>0.000000</td>\n    </tr>\n    <tr>\n      <th>25%</th>\n      <td>50.000000</td>\n      <td>0.000000</td>\n      <td>20.600000</td>\n      <td>37.163333</td>\n      <td>18.666667</td>\n      <td>37.863333</td>\n      <td>20.600000</td>\n      <td>36.790000</td>\n      <td>19.338333</td>\n      <td>35.326667</td>\n      <td>18.100000</td>\n      <td>45.400000</td>\n      <td>10.000000</td>\n      <td>43557.500000</td>\n    </tr>\n    <tr>\n      <th>50%</th>\n      <td>60.000000</td>\n      <td>0.000000</td>\n      <td>21.390000</td>\n      <td>39.326667</td>\n      <td>19.700000</td>\n      <td>40.360000</td>\n      <td>21.790000</td>\n      <td>38.420667</td>\n      <td>20.390000</td>\n      <td>38.133333</td>\n      <td>19.100000</td>\n      <td>48.900000</td>\n      <td>10.000000</td>\n      <td>87115.000000</td>\n    </tr>\n    <tr>\n      <th>75%</th>\n      <td>100.000000</td>\n      <td>0.000000</td>\n      <td>22.200000</td>\n      <td>42.566875</td>\n      <td>20.926667</td>\n      <td>43.000000</td>\n      <td>22.890000</td>\n      <td>41.433333</td>\n      <td>21.500000</td>\n      <td>41.658333</td>\n      <td>20.200000</td>\n      <td>53.830278</td>\n      <td>10.000000</td>\n      <td>130672.500000</td>\n    </tr>\n    <tr>\n      <th>max</th>\n      <td>1080.000000</td>\n      <td>70.000000</td>\n      <td>25.700000</td>\n      <td>63.360000</td>\n      <td>29.856667</td>\n      <td>56.026667</td>\n      <td>27.600000</td>\n      <td>50.163333</td>\n      <td>26.200000</td>\n      <td>51.090000</td>\n      <td>25.745000</td>\n      <td>96.321667</td>\n      <td>10.000000</td>\n      <td>174230.000000</td>\n    </tr>\n  </tbody>\n</table>\n</div>"
     },
     "execution_count": 25,
     "metadata": {},
     "output_type": "execute_result"
    }
   ],
   "source": [
    "dat_df.describe()"
   ],
   "metadata": {
    "collapsed": false,
    "pycharm": {
     "name": "#%%\n"
    }
   }
  },
  {
   "cell_type": "markdown",
   "source": [
    "연습문제2"
   ],
   "metadata": {
    "collapsed": false
   }
  },
  {
   "cell_type": "code",
   "execution_count": 30,
   "outputs": [
    {
     "data": {
      "text/plain": "          Appliances     lights         T1       RH_1         T2       RH_2  \\\ncum_hour                                                                      \n0          55.000000  35.000000  19.890000  46.502778  19.200000  44.626528   \n1         176.666667  51.666667  19.897778  45.879028  19.268889  44.438889   \n2         173.333333  25.000000  20.495556  52.805556  19.925556  46.061667   \n3         125.000000  35.000000  20.961111  48.453333  20.251111  45.632639   \n4         103.333333  23.333333  21.311667  45.768333  20.587778  44.961111   \n...              ...        ...        ...        ...        ...        ...   \n2899       56.666667   0.000000  24.967500  48.517361  27.379524  40.701429   \n2900       73.333333   0.000000  25.175000  48.101111  27.150571  40.955762   \n2901       80.000000   0.000000  25.417222  47.490000  26.933018  40.943518   \n2902       76.666667   0.000000  25.594444  46.773889  26.698095  40.865714   \n2903       75.000000   0.000000  25.573611  48.014722  26.192000  44.012429   \n\n                 T3       RH_3         T4       RH_4         T5       RH_5  \\\ncum_hour                                                                     \n0         19.790000  44.897778  18.932778  45.738750  17.166667  55.116667   \n1         19.770000  44.863333  18.908333  46.066667  17.111111  54.977778   \n2         20.052222  47.227361  18.969444  47.815556  17.136111  55.869861   \n3         20.213889  47.268889  19.190833  49.227917  17.615556  74.027778   \n4         20.373333  46.164444  19.425556  47.918889  18.427222  69.037778   \n...             ...        ...        ...        ...        ...        ...   \n2899      25.823119  45.245363  26.069643  44.474363  23.866389  52.234722   \n2900      25.955476  44.834286  26.100000  44.225524  23.890000  51.651111   \n2901      26.070000  44.574286  26.120476  43.966810  23.963333  51.218889   \n2902      26.188095  44.153619  26.144762  43.699095  24.000000  50.573056   \n2903      26.196667  44.442286  26.073333  44.538351  24.033333  50.968889   \n\n            dif_min   cum_min  \ncum_hour                       \n0          8.333333      25.0  \n1         10.000000      85.0  \n2         10.000000     145.0  \n3         10.000000     205.0  \n4         10.000000     265.0  \n...             ...       ...  \n2899      10.000000  173965.0  \n2900      10.000000  174025.0  \n2901      10.000000  174085.0  \n2902      10.000000  174145.0  \n2903      10.000000  174205.0  \n\n[2904 rows x 14 columns]",
      "text/html": "<div>\n<style scoped>\n    .dataframe tbody tr th:only-of-type {\n        vertical-align: middle;\n    }\n\n    .dataframe tbody tr th {\n        vertical-align: top;\n    }\n\n    .dataframe thead th {\n        text-align: right;\n    }\n</style>\n<table border=\"1\" class=\"dataframe\">\n  <thead>\n    <tr style=\"text-align: right;\">\n      <th></th>\n      <th>Appliances</th>\n      <th>lights</th>\n      <th>T1</th>\n      <th>RH_1</th>\n      <th>T2</th>\n      <th>RH_2</th>\n      <th>T3</th>\n      <th>RH_3</th>\n      <th>T4</th>\n      <th>RH_4</th>\n      <th>T5</th>\n      <th>RH_5</th>\n      <th>dif_min</th>\n      <th>cum_min</th>\n    </tr>\n    <tr>\n      <th>cum_hour</th>\n      <th></th>\n      <th></th>\n      <th></th>\n      <th></th>\n      <th></th>\n      <th></th>\n      <th></th>\n      <th></th>\n      <th></th>\n      <th></th>\n      <th></th>\n      <th></th>\n      <th></th>\n      <th></th>\n    </tr>\n  </thead>\n  <tbody>\n    <tr>\n      <th>0</th>\n      <td>55.000000</td>\n      <td>35.000000</td>\n      <td>19.890000</td>\n      <td>46.502778</td>\n      <td>19.200000</td>\n      <td>44.626528</td>\n      <td>19.790000</td>\n      <td>44.897778</td>\n      <td>18.932778</td>\n      <td>45.738750</td>\n      <td>17.166667</td>\n      <td>55.116667</td>\n      <td>8.333333</td>\n      <td>25.0</td>\n    </tr>\n    <tr>\n      <th>1</th>\n      <td>176.666667</td>\n      <td>51.666667</td>\n      <td>19.897778</td>\n      <td>45.879028</td>\n      <td>19.268889</td>\n      <td>44.438889</td>\n      <td>19.770000</td>\n      <td>44.863333</td>\n      <td>18.908333</td>\n      <td>46.066667</td>\n      <td>17.111111</td>\n      <td>54.977778</td>\n      <td>10.000000</td>\n      <td>85.0</td>\n    </tr>\n    <tr>\n      <th>2</th>\n      <td>173.333333</td>\n      <td>25.000000</td>\n      <td>20.495556</td>\n      <td>52.805556</td>\n      <td>19.925556</td>\n      <td>46.061667</td>\n      <td>20.052222</td>\n      <td>47.227361</td>\n      <td>18.969444</td>\n      <td>47.815556</td>\n      <td>17.136111</td>\n      <td>55.869861</td>\n      <td>10.000000</td>\n      <td>145.0</td>\n    </tr>\n    <tr>\n      <th>3</th>\n      <td>125.000000</td>\n      <td>35.000000</td>\n      <td>20.961111</td>\n      <td>48.453333</td>\n      <td>20.251111</td>\n      <td>45.632639</td>\n      <td>20.213889</td>\n      <td>47.268889</td>\n      <td>19.190833</td>\n      <td>49.227917</td>\n      <td>17.615556</td>\n      <td>74.027778</td>\n      <td>10.000000</td>\n      <td>205.0</td>\n    </tr>\n    <tr>\n      <th>4</th>\n      <td>103.333333</td>\n      <td>23.333333</td>\n      <td>21.311667</td>\n      <td>45.768333</td>\n      <td>20.587778</td>\n      <td>44.961111</td>\n      <td>20.373333</td>\n      <td>46.164444</td>\n      <td>19.425556</td>\n      <td>47.918889</td>\n      <td>18.427222</td>\n      <td>69.037778</td>\n      <td>10.000000</td>\n      <td>265.0</td>\n    </tr>\n    <tr>\n      <th>...</th>\n      <td>...</td>\n      <td>...</td>\n      <td>...</td>\n      <td>...</td>\n      <td>...</td>\n      <td>...</td>\n      <td>...</td>\n      <td>...</td>\n      <td>...</td>\n      <td>...</td>\n      <td>...</td>\n      <td>...</td>\n      <td>...</td>\n      <td>...</td>\n    </tr>\n    <tr>\n      <th>2899</th>\n      <td>56.666667</td>\n      <td>0.000000</td>\n      <td>24.967500</td>\n      <td>48.517361</td>\n      <td>27.379524</td>\n      <td>40.701429</td>\n      <td>25.823119</td>\n      <td>45.245363</td>\n      <td>26.069643</td>\n      <td>44.474363</td>\n      <td>23.866389</td>\n      <td>52.234722</td>\n      <td>10.000000</td>\n      <td>173965.0</td>\n    </tr>\n    <tr>\n      <th>2900</th>\n      <td>73.333333</td>\n      <td>0.000000</td>\n      <td>25.175000</td>\n      <td>48.101111</td>\n      <td>27.150571</td>\n      <td>40.955762</td>\n      <td>25.955476</td>\n      <td>44.834286</td>\n      <td>26.100000</td>\n      <td>44.225524</td>\n      <td>23.890000</td>\n      <td>51.651111</td>\n      <td>10.000000</td>\n      <td>174025.0</td>\n    </tr>\n    <tr>\n      <th>2901</th>\n      <td>80.000000</td>\n      <td>0.000000</td>\n      <td>25.417222</td>\n      <td>47.490000</td>\n      <td>26.933018</td>\n      <td>40.943518</td>\n      <td>26.070000</td>\n      <td>44.574286</td>\n      <td>26.120476</td>\n      <td>43.966810</td>\n      <td>23.963333</td>\n      <td>51.218889</td>\n      <td>10.000000</td>\n      <td>174085.0</td>\n    </tr>\n    <tr>\n      <th>2902</th>\n      <td>76.666667</td>\n      <td>0.000000</td>\n      <td>25.594444</td>\n      <td>46.773889</td>\n      <td>26.698095</td>\n      <td>40.865714</td>\n      <td>26.188095</td>\n      <td>44.153619</td>\n      <td>26.144762</td>\n      <td>43.699095</td>\n      <td>24.000000</td>\n      <td>50.573056</td>\n      <td>10.000000</td>\n      <td>174145.0</td>\n    </tr>\n    <tr>\n      <th>2903</th>\n      <td>75.000000</td>\n      <td>0.000000</td>\n      <td>25.573611</td>\n      <td>48.014722</td>\n      <td>26.192000</td>\n      <td>44.012429</td>\n      <td>26.196667</td>\n      <td>44.442286</td>\n      <td>26.073333</td>\n      <td>44.538351</td>\n      <td>24.033333</td>\n      <td>50.968889</td>\n      <td>10.000000</td>\n      <td>174205.0</td>\n    </tr>\n  </tbody>\n</table>\n<p>2904 rows × 14 columns</p>\n</div>"
     },
     "execution_count": 30,
     "metadata": {},
     "output_type": "execute_result"
    }
   ],
   "source": [
    "dat_df.groupby('cum_hour').mean()"
   ],
   "metadata": {
    "collapsed": false,
    "pycharm": {
     "name": "#%%\n"
    }
   }
  },
  {
   "cell_type": "code",
   "execution_count": 31,
   "outputs": [
    {
     "data": {
      "text/plain": "          Appliances     lights        T1      RH_1        T2      RH_2  \\\ncum_hour                                                                  \n0           5.477226   5.477226  0.000000  0.586449  0.000000  0.111888   \n1         208.678381  11.690452  0.094249  0.318235  0.098334  0.049065   \n2         141.515606  17.606817  0.276355  2.629391  0.251738  1.145478   \n3          37.282704   8.366600  0.089086  1.753466  0.064141  0.505110   \n4           5.163978   5.163978  0.132945  0.245834  0.116651  0.172597   \n...              ...        ...       ...       ...       ...       ...   \n2899        8.164966   0.000000  0.060807  0.315921  0.068783  0.134971   \n2900       10.327956   0.000000  0.087121  0.162845  0.075704  0.234359   \n2901        8.944272   0.000000  0.096227  0.226087  0.041438  0.208747   \n2902        5.163978   0.000000  0.013608  0.102749  0.114184  0.326220   \n2903        5.477226   0.000000  0.073488  1.290780  0.352119  2.353424   \n\n                T3      RH_3        T4      RH_4        T5       RH_5  \\\ncum_hour                                                                \n0         0.000000  0.112421  0.053972  0.179315  0.021082   0.068605   \n1         0.030984  0.046380  0.044907  0.303102  0.027217   0.040369   \n2         0.140676  1.626932  0.048736  0.875112  0.042709   0.746929   \n3         0.050527  0.573855  0.166626  0.602464  0.276379   8.971516   \n4         0.040825  0.143738  0.070669  0.373986  0.373960  11.515309   \n...            ...       ...       ...       ...       ...        ...   \n2899      0.063521  0.330220  0.026317  0.202504  0.036673   0.243608   \n2900      0.053904  0.112308  0.000000  0.052098  0.000000   0.131363   \n2901      0.046904  0.133233  0.033826  0.132233  0.046380   0.188452   \n2902      0.029161  0.103132  0.045595  0.116289  0.000000   0.184645   \n2903      0.008165  0.516181  0.043205  0.625488  0.042164   0.447877   \n\n           dif_min    cum_min  \ncum_hour                       \n0         4.082483  18.708287  \n1         0.000000  18.708287  \n2         0.000000  18.708287  \n3         0.000000  18.708287  \n4         0.000000  18.708287  \n...            ...        ...  \n2899      0.000000  18.708287  \n2900      0.000000  18.708287  \n2901      0.000000  18.708287  \n2902      0.000000  18.708287  \n2903      0.000000  18.708287  \n\n[2904 rows x 14 columns]",
      "text/html": "<div>\n<style scoped>\n    .dataframe tbody tr th:only-of-type {\n        vertical-align: middle;\n    }\n\n    .dataframe tbody tr th {\n        vertical-align: top;\n    }\n\n    .dataframe thead th {\n        text-align: right;\n    }\n</style>\n<table border=\"1\" class=\"dataframe\">\n  <thead>\n    <tr style=\"text-align: right;\">\n      <th></th>\n      <th>Appliances</th>\n      <th>lights</th>\n      <th>T1</th>\n      <th>RH_1</th>\n      <th>T2</th>\n      <th>RH_2</th>\n      <th>T3</th>\n      <th>RH_3</th>\n      <th>T4</th>\n      <th>RH_4</th>\n      <th>T5</th>\n      <th>RH_5</th>\n      <th>dif_min</th>\n      <th>cum_min</th>\n    </tr>\n    <tr>\n      <th>cum_hour</th>\n      <th></th>\n      <th></th>\n      <th></th>\n      <th></th>\n      <th></th>\n      <th></th>\n      <th></th>\n      <th></th>\n      <th></th>\n      <th></th>\n      <th></th>\n      <th></th>\n      <th></th>\n      <th></th>\n    </tr>\n  </thead>\n  <tbody>\n    <tr>\n      <th>0</th>\n      <td>5.477226</td>\n      <td>5.477226</td>\n      <td>0.000000</td>\n      <td>0.586449</td>\n      <td>0.000000</td>\n      <td>0.111888</td>\n      <td>0.000000</td>\n      <td>0.112421</td>\n      <td>0.053972</td>\n      <td>0.179315</td>\n      <td>0.021082</td>\n      <td>0.068605</td>\n      <td>4.082483</td>\n      <td>18.708287</td>\n    </tr>\n    <tr>\n      <th>1</th>\n      <td>208.678381</td>\n      <td>11.690452</td>\n      <td>0.094249</td>\n      <td>0.318235</td>\n      <td>0.098334</td>\n      <td>0.049065</td>\n      <td>0.030984</td>\n      <td>0.046380</td>\n      <td>0.044907</td>\n      <td>0.303102</td>\n      <td>0.027217</td>\n      <td>0.040369</td>\n      <td>0.000000</td>\n      <td>18.708287</td>\n    </tr>\n    <tr>\n      <th>2</th>\n      <td>141.515606</td>\n      <td>17.606817</td>\n      <td>0.276355</td>\n      <td>2.629391</td>\n      <td>0.251738</td>\n      <td>1.145478</td>\n      <td>0.140676</td>\n      <td>1.626932</td>\n      <td>0.048736</td>\n      <td>0.875112</td>\n      <td>0.042709</td>\n      <td>0.746929</td>\n      <td>0.000000</td>\n      <td>18.708287</td>\n    </tr>\n    <tr>\n      <th>3</th>\n      <td>37.282704</td>\n      <td>8.366600</td>\n      <td>0.089086</td>\n      <td>1.753466</td>\n      <td>0.064141</td>\n      <td>0.505110</td>\n      <td>0.050527</td>\n      <td>0.573855</td>\n      <td>0.166626</td>\n      <td>0.602464</td>\n      <td>0.276379</td>\n      <td>8.971516</td>\n      <td>0.000000</td>\n      <td>18.708287</td>\n    </tr>\n    <tr>\n      <th>4</th>\n      <td>5.163978</td>\n      <td>5.163978</td>\n      <td>0.132945</td>\n      <td>0.245834</td>\n      <td>0.116651</td>\n      <td>0.172597</td>\n      <td>0.040825</td>\n      <td>0.143738</td>\n      <td>0.070669</td>\n      <td>0.373986</td>\n      <td>0.373960</td>\n      <td>11.515309</td>\n      <td>0.000000</td>\n      <td>18.708287</td>\n    </tr>\n    <tr>\n      <th>...</th>\n      <td>...</td>\n      <td>...</td>\n      <td>...</td>\n      <td>...</td>\n      <td>...</td>\n      <td>...</td>\n      <td>...</td>\n      <td>...</td>\n      <td>...</td>\n      <td>...</td>\n      <td>...</td>\n      <td>...</td>\n      <td>...</td>\n      <td>...</td>\n    </tr>\n    <tr>\n      <th>2899</th>\n      <td>8.164966</td>\n      <td>0.000000</td>\n      <td>0.060807</td>\n      <td>0.315921</td>\n      <td>0.068783</td>\n      <td>0.134971</td>\n      <td>0.063521</td>\n      <td>0.330220</td>\n      <td>0.026317</td>\n      <td>0.202504</td>\n      <td>0.036673</td>\n      <td>0.243608</td>\n      <td>0.000000</td>\n      <td>18.708287</td>\n    </tr>\n    <tr>\n      <th>2900</th>\n      <td>10.327956</td>\n      <td>0.000000</td>\n      <td>0.087121</td>\n      <td>0.162845</td>\n      <td>0.075704</td>\n      <td>0.234359</td>\n      <td>0.053904</td>\n      <td>0.112308</td>\n      <td>0.000000</td>\n      <td>0.052098</td>\n      <td>0.000000</td>\n      <td>0.131363</td>\n      <td>0.000000</td>\n      <td>18.708287</td>\n    </tr>\n    <tr>\n      <th>2901</th>\n      <td>8.944272</td>\n      <td>0.000000</td>\n      <td>0.096227</td>\n      <td>0.226087</td>\n      <td>0.041438</td>\n      <td>0.208747</td>\n      <td>0.046904</td>\n      <td>0.133233</td>\n      <td>0.033826</td>\n      <td>0.132233</td>\n      <td>0.046380</td>\n      <td>0.188452</td>\n      <td>0.000000</td>\n      <td>18.708287</td>\n    </tr>\n    <tr>\n      <th>2902</th>\n      <td>5.163978</td>\n      <td>0.000000</td>\n      <td>0.013608</td>\n      <td>0.102749</td>\n      <td>0.114184</td>\n      <td>0.326220</td>\n      <td>0.029161</td>\n      <td>0.103132</td>\n      <td>0.045595</td>\n      <td>0.116289</td>\n      <td>0.000000</td>\n      <td>0.184645</td>\n      <td>0.000000</td>\n      <td>18.708287</td>\n    </tr>\n    <tr>\n      <th>2903</th>\n      <td>5.477226</td>\n      <td>0.000000</td>\n      <td>0.073488</td>\n      <td>1.290780</td>\n      <td>0.352119</td>\n      <td>2.353424</td>\n      <td>0.008165</td>\n      <td>0.516181</td>\n      <td>0.043205</td>\n      <td>0.625488</td>\n      <td>0.042164</td>\n      <td>0.447877</td>\n      <td>0.000000</td>\n      <td>18.708287</td>\n    </tr>\n  </tbody>\n</table>\n<p>2904 rows × 14 columns</p>\n</div>"
     },
     "execution_count": 31,
     "metadata": {},
     "output_type": "execute_result"
    }
   ],
   "source": [
    "dat_df.groupby('cum_hour').std()"
   ],
   "metadata": {
    "collapsed": false,
    "pycharm": {
     "name": "#%%\n"
    }
   }
  },
  {
   "cell_type": "code",
   "execution_count": 32,
   "outputs": [
    {
     "data": {
      "text/plain": "<Figure size 432x288 with 1 Axes>",
      "image/png": "[encoded data removed]"
     },
     "metadata": {
      "needs_background": "light"
     },
     "output_type": "display_data"
    }
   ],
   "source": [
    "import matplotlib.pyplot as plt\n",
    "\n",
    "plt.plot(dat_df['cum_min'], dat_df['Appliances'])\n",
    "\n",
    "plt.xlabel('cum_min')\n",
    "plt.ylabel('Appliances')\n",
    "\n",
    "plt.show()"
   ],
   "metadata": {
    "collapsed": false,
    "pycharm": {
     "name": "#%%\n"
    }
   }
  },
  {
   "cell_type": "code",
   "execution_count": null,
   "outputs": [],
   "source": [],
   "metadata": {
    "collapsed": false,
    "pycharm": {
     "name": "#%%\n"
    }
   }
  }
 ],
 "metadata": {
  "kernelspec": {
   "display_name": "Python 3",
   "language": "python",
   "name": "python3"
  },
  "language_info": {
   "codemirror_mode": {
    "name": "ipython",
    "version": 2
   },
   "file_extension": ".py",
   "mimetype": "text/x-python",
   "name": "python",
   "nbconvert_exporter": "python",
   "pygments_lexer": "ipython2",
   "version": "2.7.6"
  }
 },
 "nbformat": 4,
 "nbformat_minor": 0
}