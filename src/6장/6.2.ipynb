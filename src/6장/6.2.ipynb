{
 "cells": [
  {
   "cell_type": "code",
   "execution_count": 2,
   "metadata": {
    "collapsed": true
   },
   "outputs": [
    {
     "data": {
      "text/plain": "                      date  Appliances  lights         T1       RH_1  \\\n0      2016-01-11 17:00:00          60      30  19.890000  47.596667   \n1      2016-01-11 17:10:00          60      30  19.890000  46.693333   \n2      2016-01-11 17:20:00          50      30  19.890000  46.300000   \n3      2016-01-11 17:30:00          50      40  19.890000  46.066667   \n4      2016-01-11 17:40:00          60      40  19.890000  46.333333   \n...                    ...         ...     ...        ...        ...   \n17419  2016-05-11 16:10:00          70       0  25.633333  46.826667   \n17420  2016-05-11 16:20:00          80       0  25.675000  47.175000   \n17421  2016-05-11 16:30:00          70       0  25.533333  48.333333   \n17422  2016-05-11 16:40:00          80       0  25.500000  49.226667   \n17423  2016-05-11 16:50:00          80       0  25.500000  49.766667   \n\n              T2       RH_2     T3       RH_3         T4       RH_4  \\\n0      19.200000  44.790000  19.79  44.730000  19.000000  45.566667   \n1      19.200000  44.722500  19.79  44.790000  19.000000  45.992500   \n2      19.200000  44.626667  19.79  44.933333  18.926667  45.890000   \n3      19.200000  44.590000  19.79  45.000000  18.890000  45.723333   \n4      19.200000  44.530000  19.79  45.000000  18.890000  45.530000   \n...          ...        ...    ...        ...        ...        ...   \n17419  26.456000  41.834000  26.20  44.054000  26.100000  44.090000   \n17420  26.375714  42.708571  26.20  44.090000  26.100000  44.200000   \n17421  26.196000  44.532000  26.20  44.280000  26.100000  44.382857   \n17422  25.892857  46.124286  26.20  44.825714  26.040000  44.898000   \n17423  25.660000  47.280000  26.18  45.314000  26.000000  45.641250   \n\n              T5       RH_5  \n0      17.166667  55.200000  \n1      17.166667  55.200000  \n2      17.166667  55.090000  \n3      17.166667  55.090000  \n4      17.200000  55.090000  \n...          ...        ...  \n17419  24.000000  50.626667  \n17420  24.000000  50.700000  \n17421  24.033333  50.830000  \n17422  24.100000  51.296667  \n17423  24.000000  51.726667  \n\n[17424 rows x 13 columns]",
      "text/html": "<div>\n<style scoped>\n    .dataframe tbody tr th:only-of-type {\n        vertical-align: middle;\n    }\n\n    .dataframe tbody tr th {\n        vertical-align: top;\n    }\n\n    .dataframe thead th {\n        text-align: right;\n    }\n</style>\n<table border=\"1\" class=\"dataframe\">\n  <thead>\n    <tr style=\"text-align: right;\">\n      <th></th>\n      <th>date</th>\n      <th>Appliances</th>\n      <th>lights</th>\n      <th>T1</th>\n      <th>RH_1</th>\n      <th>T2</th>\n      <th>RH_2</th>\n      <th>T3</th>\n      <th>RH_3</th>\n      <th>T4</th>\n      <th>RH_4</th>\n      <th>T5</th>\n      <th>RH_5</th>\n    </tr>\n  </thead>\n  <tbody>\n    <tr>\n      <th>0</th>\n      <td>2016-01-11 17:00:00</td>\n      <td>60</td>\n      <td>30</td>\n      <td>19.890000</td>\n      <td>47.596667</td>\n      <td>19.200000</td>\n      <td>44.790000</td>\n      <td>19.79</td>\n      <td>44.730000</td>\n      <td>19.000000</td>\n      <td>45.566667</td>\n      <td>17.166667</td>\n      <td>55.200000</td>\n    </tr>\n    <tr>\n      <th>1</th>\n      <td>2016-01-11 17:10:00</td>\n      <td>60</td>\n      <td>30</td>\n      <td>19.890000</td>\n      <td>46.693333</td>\n      <td>19.200000</td>\n      <td>44.722500</td>\n      <td>19.79</td>\n      <td>44.790000</td>\n      <td>19.000000</td>\n      <td>45.992500</td>\n      <td>17.166667</td>\n      <td>55.200000</td>\n    </tr>\n    <tr>\n      <th>2</th>\n      <td>2016-01-11 17:20:00</td>\n      <td>50</td>\n      <td>30</td>\n      <td>19.890000</td>\n      <td>46.300000</td>\n      <td>19.200000</td>\n      <td>44.626667</td>\n      <td>19.79</td>\n      <td>44.933333</td>\n      <td>18.926667</td>\n      <td>45.890000</td>\n      <td>17.166667</td>\n      <td>55.090000</td>\n    </tr>\n    <tr>\n      <th>3</th>\n      <td>2016-01-11 17:30:00</td>\n      <td>50</td>\n      <td>40</td>\n      <td>19.890000</td>\n      <td>46.066667</td>\n      <td>19.200000</td>\n      <td>44.590000</td>\n      <td>19.79</td>\n      <td>45.000000</td>\n      <td>18.890000</td>\n      <td>45.723333</td>\n      <td>17.166667</td>\n      <td>55.090000</td>\n    </tr>\n    <tr>\n      <th>4</th>\n      <td>2016-01-11 17:40:00</td>\n      <td>60</td>\n      <td>40</td>\n      <td>19.890000</td>\n      <td>46.333333</td>\n      <td>19.200000</td>\n      <td>44.530000</td>\n      <td>19.79</td>\n      <td>45.000000</td>\n      <td>18.890000</td>\n      <td>45.530000</td>\n      <td>17.200000</td>\n      <td>55.090000</td>\n    </tr>\n    <tr>\n      <th>...</th>\n      <td>...</td>\n      <td>...</td>\n      <td>...</td>\n      <td>...</td>\n      <td>...</td>\n      <td>...</td>\n      <td>...</td>\n      <td>...</td>\n      <td>...</td>\n      <td>...</td>\n      <td>...</td>\n      <td>...</td>\n      <td>...</td>\n    </tr>\n    <tr>\n      <th>17419</th>\n      <td>2016-05-11 16:10:00</td>\n      <td>70</td>\n      <td>0</td>\n      <td>25.633333</td>\n      <td>46.826667</td>\n      <td>26.456000</td>\n      <td>41.834000</td>\n      <td>26.20</td>\n      <td>44.054000</td>\n      <td>26.100000</td>\n      <td>44.090000</td>\n      <td>24.000000</td>\n      <td>50.626667</td>\n    </tr>\n    <tr>\n      <th>17420</th>\n      <td>2016-05-11 16:20:00</td>\n      <td>80</td>\n      <td>0</td>\n      <td>25.675000</td>\n      <td>47.175000</td>\n      <td>26.375714</td>\n      <td>42.708571</td>\n      <td>26.20</td>\n      <td>44.090000</td>\n      <td>26.100000</td>\n      <td>44.200000</td>\n      <td>24.000000</td>\n      <td>50.700000</td>\n    </tr>\n    <tr>\n      <th>17421</th>\n      <td>2016-05-11 16:30:00</td>\n      <td>70</td>\n      <td>0</td>\n      <td>25.533333</td>\n      <td>48.333333</td>\n      <td>26.196000</td>\n      <td>44.532000</td>\n      <td>26.20</td>\n      <td>44.280000</td>\n      <td>26.100000</td>\n      <td>44.382857</td>\n      <td>24.033333</td>\n      <td>50.830000</td>\n    </tr>\n    <tr>\n      <th>17422</th>\n      <td>2016-05-11 16:40:00</td>\n      <td>80</td>\n      <td>0</td>\n      <td>25.500000</td>\n      <td>49.226667</td>\n      <td>25.892857</td>\n      <td>46.124286</td>\n      <td>26.20</td>\n      <td>44.825714</td>\n      <td>26.040000</td>\n      <td>44.898000</td>\n      <td>24.100000</td>\n      <td>51.296667</td>\n    </tr>\n    <tr>\n      <th>17423</th>\n      <td>2016-05-11 16:50:00</td>\n      <td>80</td>\n      <td>0</td>\n      <td>25.500000</td>\n      <td>49.766667</td>\n      <td>25.660000</td>\n      <td>47.280000</td>\n      <td>26.18</td>\n      <td>45.314000</td>\n      <td>26.000000</td>\n      <td>45.641250</td>\n      <td>24.000000</td>\n      <td>51.726667</td>\n    </tr>\n  </tbody>\n</table>\n<p>17424 rows × 13 columns</p>\n</div>"
     },
     "execution_count": 2,
     "metadata": {},
     "output_type": "execute_result"
    }
   ],
   "source": [
    "import os\n",
    "import pandas as pd\n",
    "\n",
    "enr = pd.read_csv('../data/energydata.csv', sep=',')\n",
    "\n",
    "dat_df = pd.DataFrame(enr)\n",
    "\n",
    "dat_df"
   ]
  },
  {
   "cell_type": "code",
   "execution_count": 3,
   "outputs": [
    {
     "data": {
      "text/plain": "                     date  Appliances  lights    T1       RH_1    T2  \\\n8585  2016-03-11 07:50:00          70       0  20.2  37.160000  16.5   \n8586  2016-03-11 08:00:00         280       0  20.2  37.463333  16.6   \n8587  2016-03-11 08:10:00         180      10  20.2  37.530000  16.6   \n\n           RH_2     T3       RH_3         T4       RH_4         T5       RH_5  \n8585  42.430000  20.39  37.500000  19.700000  34.360000  18.000000  46.660000  \n8586  42.766667    NaN  37.500000  19.700000  34.633333  18.066667  46.193333  \n8587  42.966667  20.29  37.363333  19.666667  34.723333  18.100000  45.723333  ",
      "text/html": "<div>\n<style scoped>\n    .dataframe tbody tr th:only-of-type {\n        vertical-align: middle;\n    }\n\n    .dataframe tbody tr th {\n        vertical-align: top;\n    }\n\n    .dataframe thead th {\n        text-align: right;\n    }\n</style>\n<table border=\"1\" class=\"dataframe\">\n  <thead>\n    <tr style=\"text-align: right;\">\n      <th></th>\n      <th>date</th>\n      <th>Appliances</th>\n      <th>lights</th>\n      <th>T1</th>\n      <th>RH_1</th>\n      <th>T2</th>\n      <th>RH_2</th>\n      <th>T3</th>\n      <th>RH_3</th>\n      <th>T4</th>\n      <th>RH_4</th>\n      <th>T5</th>\n      <th>RH_5</th>\n    </tr>\n  </thead>\n  <tbody>\n    <tr>\n      <th>8585</th>\n      <td>2016-03-11 07:50:00</td>\n      <td>70</td>\n      <td>0</td>\n      <td>20.2</td>\n      <td>37.160000</td>\n      <td>16.5</td>\n      <td>42.430000</td>\n      <td>20.39</td>\n      <td>37.500000</td>\n      <td>19.700000</td>\n      <td>34.360000</td>\n      <td>18.000000</td>\n      <td>46.660000</td>\n    </tr>\n    <tr>\n      <th>8586</th>\n      <td>2016-03-11 08:00:00</td>\n      <td>280</td>\n      <td>0</td>\n      <td>20.2</td>\n      <td>37.463333</td>\n      <td>16.6</td>\n      <td>42.766667</td>\n      <td>NaN</td>\n      <td>37.500000</td>\n      <td>19.700000</td>\n      <td>34.633333</td>\n      <td>18.066667</td>\n      <td>46.193333</td>\n    </tr>\n    <tr>\n      <th>8587</th>\n      <td>2016-03-11 08:10:00</td>\n      <td>180</td>\n      <td>10</td>\n      <td>20.2</td>\n      <td>37.530000</td>\n      <td>16.6</td>\n      <td>42.966667</td>\n      <td>20.29</td>\n      <td>37.363333</td>\n      <td>19.666667</td>\n      <td>34.723333</td>\n      <td>18.100000</td>\n      <td>45.723333</td>\n    </tr>\n  </tbody>\n</table>\n</div>"
     },
     "execution_count": 3,
     "metadata": {},
     "output_type": "execute_result"
    }
   ],
   "source": [
    "dat_df[8585:8588]"
   ],
   "metadata": {
    "collapsed": false,
    "pycharm": {
     "name": "#%%\n"
    }
   }
  },
  {
   "cell_type": "code",
   "execution_count": 4,
   "outputs": [
    {
     "data": {
      "text/plain": "                     date  Appliances  lights    T1       RH_1    T2  \\\n8585  2016-03-11 07:50:00          70       0  20.2  37.160000  16.5   \n8586  2016-03-11 08:00:00         280       0  20.2  37.463333  16.6   \n8587  2016-03-11 08:10:00         180      10  20.2  37.530000  16.6   \n\n           RH_2     T3       RH_3         T4       RH_4         T5       RH_5  \n8585  42.430000  20.39  37.500000  19.700000  34.360000  18.000000  46.660000  \n8586  42.766667  20.39  37.500000  19.700000  34.633333  18.066667  46.193333  \n8587  42.966667  20.29  37.363333  19.666667  34.723333  18.100000  45.723333  ",
      "text/html": "<div>\n<style scoped>\n    .dataframe tbody tr th:only-of-type {\n        vertical-align: middle;\n    }\n\n    .dataframe tbody tr th {\n        vertical-align: top;\n    }\n\n    .dataframe thead th {\n        text-align: right;\n    }\n</style>\n<table border=\"1\" class=\"dataframe\">\n  <thead>\n    <tr style=\"text-align: right;\">\n      <th></th>\n      <th>date</th>\n      <th>Appliances</th>\n      <th>lights</th>\n      <th>T1</th>\n      <th>RH_1</th>\n      <th>T2</th>\n      <th>RH_2</th>\n      <th>T3</th>\n      <th>RH_3</th>\n      <th>T4</th>\n      <th>RH_4</th>\n      <th>T5</th>\n      <th>RH_5</th>\n    </tr>\n  </thead>\n  <tbody>\n    <tr>\n      <th>8585</th>\n      <td>2016-03-11 07:50:00</td>\n      <td>70</td>\n      <td>0</td>\n      <td>20.2</td>\n      <td>37.160000</td>\n      <td>16.5</td>\n      <td>42.430000</td>\n      <td>20.39</td>\n      <td>37.500000</td>\n      <td>19.700000</td>\n      <td>34.360000</td>\n      <td>18.000000</td>\n      <td>46.660000</td>\n    </tr>\n    <tr>\n      <th>8586</th>\n      <td>2016-03-11 08:00:00</td>\n      <td>280</td>\n      <td>0</td>\n      <td>20.2</td>\n      <td>37.463333</td>\n      <td>16.6</td>\n      <td>42.766667</td>\n      <td>20.39</td>\n      <td>37.500000</td>\n      <td>19.700000</td>\n      <td>34.633333</td>\n      <td>18.066667</td>\n      <td>46.193333</td>\n    </tr>\n    <tr>\n      <th>8587</th>\n      <td>2016-03-11 08:10:00</td>\n      <td>180</td>\n      <td>10</td>\n      <td>20.2</td>\n      <td>37.530000</td>\n      <td>16.6</td>\n      <td>42.966667</td>\n      <td>20.29</td>\n      <td>37.363333</td>\n      <td>19.666667</td>\n      <td>34.723333</td>\n      <td>18.100000</td>\n      <td>45.723333</td>\n    </tr>\n  </tbody>\n</table>\n</div>"
     },
     "execution_count": 4,
     "metadata": {},
     "output_type": "execute_result"
    }
   ],
   "source": [
    "dat_df[8585:8588].fillna(method='ffill')"
   ],
   "metadata": {
    "collapsed": false,
    "pycharm": {
     "name": "#%%\n"
    }
   }
  },
  {
   "cell_type": "code",
   "execution_count": 5,
   "outputs": [
    {
     "data": {
      "text/plain": "                     date  Appliances  lights    T1       RH_1    T2  \\\n8585  2016-03-11 07:50:00          70       0  20.2  37.160000  16.5   \n8586  2016-03-11 08:00:00         280       0  20.2  37.463333  16.6   \n8587  2016-03-11 08:10:00         180      10  20.2  37.530000  16.6   \n\n           RH_2     T3       RH_3         T4       RH_4         T5       RH_5  \n8585  42.430000  20.39  37.500000  19.700000  34.360000  18.000000  46.660000  \n8586  42.766667  20.34  37.500000  19.700000  34.633333  18.066667  46.193333  \n8587  42.966667  20.29  37.363333  19.666667  34.723333  18.100000  45.723333  ",
      "text/html": "<div>\n<style scoped>\n    .dataframe tbody tr th:only-of-type {\n        vertical-align: middle;\n    }\n\n    .dataframe tbody tr th {\n        vertical-align: top;\n    }\n\n    .dataframe thead th {\n        text-align: right;\n    }\n</style>\n<table border=\"1\" class=\"dataframe\">\n  <thead>\n    <tr style=\"text-align: right;\">\n      <th></th>\n      <th>date</th>\n      <th>Appliances</th>\n      <th>lights</th>\n      <th>T1</th>\n      <th>RH_1</th>\n      <th>T2</th>\n      <th>RH_2</th>\n      <th>T3</th>\n      <th>RH_3</th>\n      <th>T4</th>\n      <th>RH_4</th>\n      <th>T5</th>\n      <th>RH_5</th>\n    </tr>\n  </thead>\n  <tbody>\n    <tr>\n      <th>8585</th>\n      <td>2016-03-11 07:50:00</td>\n      <td>70</td>\n      <td>0</td>\n      <td>20.2</td>\n      <td>37.160000</td>\n      <td>16.5</td>\n      <td>42.430000</td>\n      <td>20.39</td>\n      <td>37.500000</td>\n      <td>19.700000</td>\n      <td>34.360000</td>\n      <td>18.000000</td>\n      <td>46.660000</td>\n    </tr>\n    <tr>\n      <th>8586</th>\n      <td>2016-03-11 08:00:00</td>\n      <td>280</td>\n      <td>0</td>\n      <td>20.2</td>\n      <td>37.463333</td>\n      <td>16.6</td>\n      <td>42.766667</td>\n      <td>20.34</td>\n      <td>37.500000</td>\n      <td>19.700000</td>\n      <td>34.633333</td>\n      <td>18.066667</td>\n      <td>46.193333</td>\n    </tr>\n    <tr>\n      <th>8587</th>\n      <td>2016-03-11 08:10:00</td>\n      <td>180</td>\n      <td>10</td>\n      <td>20.2</td>\n      <td>37.530000</td>\n      <td>16.6</td>\n      <td>42.966667</td>\n      <td>20.29</td>\n      <td>37.363333</td>\n      <td>19.666667</td>\n      <td>34.723333</td>\n      <td>18.100000</td>\n      <td>45.723333</td>\n    </tr>\n  </tbody>\n</table>\n</div>"
     },
     "execution_count": 5,
     "metadata": {},
     "output_type": "execute_result"
    }
   ],
   "source": [
    "dat_df = dat_df.interpolate()\n",
    "dat_df[8585:8588]"
   ],
   "metadata": {
    "collapsed": false,
    "pycharm": {
     "name": "#%%\n"
    }
   }
  },
  {
   "cell_type": "code",
   "execution_count": 6,
   "outputs": [
    {
     "data": {
      "text/plain": "                 date  cum_min\n0 2016-01-11 17:00:00      0.0\n1 2016-01-11 17:10:00     10.0\n2 2016-01-11 17:20:00     20.0\n3 2016-01-11 17:30:00     30.0\n4 2016-01-11 17:40:00     40.0",
      "text/html": "<div>\n<style scoped>\n    .dataframe tbody tr th:only-of-type {\n        vertical-align: middle;\n    }\n\n    .dataframe tbody tr th {\n        vertical-align: top;\n    }\n\n    .dataframe thead th {\n        text-align: right;\n    }\n</style>\n<table border=\"1\" class=\"dataframe\">\n  <thead>\n    <tr style=\"text-align: right;\">\n      <th></th>\n      <th>date</th>\n      <th>cum_min</th>\n    </tr>\n  </thead>\n  <tbody>\n    <tr>\n      <th>0</th>\n      <td>2016-01-11 17:00:00</td>\n      <td>0.0</td>\n    </tr>\n    <tr>\n      <th>1</th>\n      <td>2016-01-11 17:10:00</td>\n      <td>10.0</td>\n    </tr>\n    <tr>\n      <th>2</th>\n      <td>2016-01-11 17:20:00</td>\n      <td>20.0</td>\n    </tr>\n    <tr>\n      <th>3</th>\n      <td>2016-01-11 17:30:00</td>\n      <td>30.0</td>\n    </tr>\n    <tr>\n      <th>4</th>\n      <td>2016-01-11 17:40:00</td>\n      <td>40.0</td>\n    </tr>\n  </tbody>\n</table>\n</div>"
     },
     "execution_count": 6,
     "metadata": {},
     "output_type": "execute_result"
    }
   ],
   "source": [
    "# date를 object형에서 datetime형으로 변환\n",
    "dat_df['date'] = pd.to_datetime(dat_df['date'], format='%Y-%m-%d %H:%M:%S')\n",
    "\n",
    "# 전행과의 시간차를 계산\n",
    "dat_df['dif_min'] = dat_df['date'].diff().dt.total_seconds()/60\n",
    "# 선두 요소의 결손을 0으로 메꾼다\n",
    "dat_df['dif_min'] = dat_df['dif_min'].fillna(0)\n",
    "\n",
    "# 경과시간(분)을 계산\n",
    "dat_df['cum_min'] = dat_df['dif_min'].cumsum()\n",
    "\n",
    "# 선두에서 5행까지 표시\n",
    "dat_df[['date', 'cum_min']].head()"
   ],
   "metadata": {
    "collapsed": false,
    "pycharm": {
     "name": "#%%\n"
    }
   }
  },
  {
   "cell_type": "code",
   "execution_count": 7,
   "outputs": [
    {
     "data": {
      "text/plain": "0       2016-01-11 17:00:00\n1       2016-01-11 17:10:00\n2       2016-01-11 17:20:00\n3       2016-01-11 17:30:00\n4       2016-01-11 17:40:00\n                ...        \n17419   2016-05-11 16:10:00\n17420   2016-05-11 16:20:00\n17421   2016-05-11 16:30:00\n17422   2016-05-11 16:40:00\n17423   2016-05-11 16:50:00\nName: date, Length: 17424, dtype: datetime64[ns]"
     },
     "execution_count": 7,
     "metadata": {},
     "output_type": "execute_result"
    }
   ],
   "source": [
    "dat_df['date']"
   ],
   "metadata": {
    "collapsed": false,
    "pycharm": {
     "name": "#%%\n"
    }
   }
  },
  {
   "cell_type": "markdown",
   "source": [
    "연습문제4"
   ],
   "metadata": {
    "collapsed": false
   }
  },
  {
   "cell_type": "code",
   "execution_count": 8,
   "outputs": [
    {
     "name": "stdout",
     "output_type": "stream",
     "text": [
      "[  0   1   2   3   4   5   6   7   8   9  10  11  12  13  14  15  16  17\n",
      "  18  19  20  21  22  23  24  25  26  27  28  29  30  31  32  33  34  35\n",
      "  36  37  38  39  40  41  42  43  44  45  46  47  48  49  50  51  52  53\n",
      "  54  55  56  57  58  59  60  61  62  63  64  65  66  67  68  69  70  71\n",
      "  72  73  74  75  76  77  78  79  80  81  82  83  84  85  86  87  88  89\n",
      "  90  91  92  93  94  95  96  97  98  99 100 101 102 103 104 105 106 107\n",
      " 108 109 110 111 112 113 114 115 116 117 118 119 120 121 122 123 124 125\n",
      " 126 127 128 129 130 131 132 133 134 135 136 137 138 139 140 141 142 143\n",
      " 144 145 146 147 148 149 150 151 152 153 154 155 156 157 158 159 160 161\n",
      " 162 163 164 165 166 167 168 169 170 171 172 173 174 175 176 177 178 179\n",
      " 180 181 182 183 184 185 186 187 188 189 190 191 192 193 194 195 196 197\n",
      " 198 199 200 201 202 203 204 205 206 207 208 209 210 211 212 213 214 215\n",
      " 216 217 218 219 220 221 222 223 224 225 226 227 228 229 230 231 232 233\n",
      " 234 235 236 237 238 239 240 241 242 243 244 245 246 247 248 249 250 251\n",
      " 252 253 254 255 256 257 258 259 260 261 262 263 264 265 266 267 268 269\n",
      " 270 271 272 273 274 275 276 277 278 279 280 281 282 283 284 285 286 287\n",
      " 288 289 290 291 292 293 294 295 296 297 298 299 300 301 302 303 304 305\n",
      " 306 307 308 309 310 311 312 313 314 315 316 317 318 319 320 321 322 323\n",
      " 324 325 326 327 328 329 330 331 332 333 334 335 336 337 338 339 340 341\n",
      " 342 343 344 345 346 347 348 349 350 351 352 353 354 355 356 357 358 359\n",
      " 360 361 362 363 364 365 366 367 368 369 370 371 372 373 374 375 376 377\n",
      " 378 379 380 381 382 383 384 385 386 387 388 389 390 391 392 393 394 395\n",
      " 396 397 398 399 400 401 402 403 404 405 406 407 408 409 410 411 412 413\n",
      " 414 415 416 417 418 419 420 421 422 423 424 425 426 427 428 429 430 431\n",
      " 432 433 434 435 436 437 438 439 440 441 442 443 444 445 446 447 448 449\n",
      " 450 451 452 453 454 455 456 457 458 459 460 461 462 463 464 465 466 467\n",
      " 468 469 470 471 472 473 474 475 476 477 478 479 480 481 482 483]\n"
     ]
    },
    {
     "data": {
      "text/plain": "                  date  cum_min  cum_6hour\n0  2016-01-11 17:00:00      0.0          0\n1  2016-01-11 17:10:00     10.0          0\n2  2016-01-11 17:20:00     20.0          0\n3  2016-01-11 17:30:00     30.0          0\n4  2016-01-11 17:40:00     40.0          0\n5  2016-01-11 17:50:00     50.0          0\n6  2016-01-11 18:00:00     60.0          0\n7  2016-01-11 18:10:00     70.0          0\n8  2016-01-11 18:20:00     80.0          0\n9  2016-01-11 18:30:00     90.0          0\n10 2016-01-11 18:40:00    100.0          0\n11 2016-01-11 18:50:00    110.0          0\n12 2016-01-11 19:00:00    120.0          0\n13 2016-01-11 19:10:00    130.0          0\n14 2016-01-11 19:20:00    140.0          0\n15 2016-01-11 19:30:00    150.0          0\n16 2016-01-11 19:40:00    160.0          0\n17 2016-01-11 19:50:00    170.0          0\n18 2016-01-11 20:00:00    180.0          0\n19 2016-01-11 20:10:00    190.0          0\n20 2016-01-11 20:20:00    200.0          0\n21 2016-01-11 20:30:00    210.0          0\n22 2016-01-11 20:40:00    220.0          0\n23 2016-01-11 20:50:00    230.0          0\n24 2016-01-11 21:00:00    240.0          0\n25 2016-01-11 21:10:00    250.0          0\n26 2016-01-11 21:20:00    260.0          0\n27 2016-01-11 21:30:00    270.0          0\n28 2016-01-11 21:40:00    280.0          0\n29 2016-01-11 21:50:00    290.0          0\n30 2016-01-11 22:00:00    300.0          0\n31 2016-01-11 22:10:00    310.0          0\n32 2016-01-11 22:20:00    320.0          0\n33 2016-01-11 22:30:00    330.0          0\n34 2016-01-11 22:40:00    340.0          0\n35 2016-01-11 22:50:00    350.0          0\n36 2016-01-11 23:00:00    360.0          1\n37 2016-01-11 23:10:00    370.0          1\n38 2016-01-11 23:20:00    380.0          1\n39 2016-01-11 23:30:00    390.0          1\n40 2016-01-11 23:40:00    400.0          1\n41 2016-01-11 23:50:00    410.0          1\n42 2016-01-12 00:00:00    420.0          1\n43 2016-01-12 00:10:00    430.0          1\n44 2016-01-12 00:20:00    440.0          1\n45 2016-01-12 00:30:00    450.0          1\n46 2016-01-12 00:40:00    460.0          1\n47 2016-01-12 00:50:00    470.0          1\n48 2016-01-12 01:00:00    480.0          1\n49 2016-01-12 01:10:00    490.0          1",
      "text/html": "<div>\n<style scoped>\n    .dataframe tbody tr th:only-of-type {\n        vertical-align: middle;\n    }\n\n    .dataframe tbody tr th {\n        vertical-align: top;\n    }\n\n    .dataframe thead th {\n        text-align: right;\n    }\n</style>\n<table border=\"1\" class=\"dataframe\">\n  <thead>\n    <tr style=\"text-align: right;\">\n      <th></th>\n      <th>date</th>\n      <th>cum_min</th>\n      <th>cum_6hour</th>\n    </tr>\n  </thead>\n  <tbody>\n    <tr>\n      <th>0</th>\n      <td>2016-01-11 17:00:00</td>\n      <td>0.0</td>\n      <td>0</td>\n    </tr>\n    <tr>\n      <th>1</th>\n      <td>2016-01-11 17:10:00</td>\n      <td>10.0</td>\n      <td>0</td>\n    </tr>\n    <tr>\n      <th>2</th>\n      <td>2016-01-11 17:20:00</td>\n      <td>20.0</td>\n      <td>0</td>\n    </tr>\n    <tr>\n      <th>3</th>\n      <td>2016-01-11 17:30:00</td>\n      <td>30.0</td>\n      <td>0</td>\n    </tr>\n    <tr>\n      <th>4</th>\n      <td>2016-01-11 17:40:00</td>\n      <td>40.0</td>\n      <td>0</td>\n    </tr>\n    <tr>\n      <th>5</th>\n      <td>2016-01-11 17:50:00</td>\n      <td>50.0</td>\n      <td>0</td>\n    </tr>\n    <tr>\n      <th>6</th>\n      <td>2016-01-11 18:00:00</td>\n      <td>60.0</td>\n      <td>0</td>\n    </tr>\n    <tr>\n      <th>7</th>\n      <td>2016-01-11 18:10:00</td>\n      <td>70.0</td>\n      <td>0</td>\n    </tr>\n    <tr>\n      <th>8</th>\n      <td>2016-01-11 18:20:00</td>\n      <td>80.0</td>\n      <td>0</td>\n    </tr>\n    <tr>\n      <th>9</th>\n      <td>2016-01-11 18:30:00</td>\n      <td>90.0</td>\n      <td>0</td>\n    </tr>\n    <tr>\n      <th>10</th>\n      <td>2016-01-11 18:40:00</td>\n      <td>100.0</td>\n      <td>0</td>\n    </tr>\n    <tr>\n      <th>11</th>\n      <td>2016-01-11 18:50:00</td>\n      <td>110.0</td>\n      <td>0</td>\n    </tr>\n    <tr>\n      <th>12</th>\n      <td>2016-01-11 19:00:00</td>\n      <td>120.0</td>\n      <td>0</td>\n    </tr>\n    <tr>\n      <th>13</th>\n      <td>2016-01-11 19:10:00</td>\n      <td>130.0</td>\n      <td>0</td>\n    </tr>\n    <tr>\n      <th>14</th>\n      <td>2016-01-11 19:20:00</td>\n      <td>140.0</td>\n      <td>0</td>\n    </tr>\n    <tr>\n      <th>15</th>\n      <td>2016-01-11 19:30:00</td>\n      <td>150.0</td>\n      <td>0</td>\n    </tr>\n    <tr>\n      <th>16</th>\n      <td>2016-01-11 19:40:00</td>\n      <td>160.0</td>\n      <td>0</td>\n    </tr>\n    <tr>\n      <th>17</th>\n      <td>2016-01-11 19:50:00</td>\n      <td>170.0</td>\n      <td>0</td>\n    </tr>\n    <tr>\n      <th>18</th>\n      <td>2016-01-11 20:00:00</td>\n      <td>180.0</td>\n      <td>0</td>\n    </tr>\n    <tr>\n      <th>19</th>\n      <td>2016-01-11 20:10:00</td>\n      <td>190.0</td>\n      <td>0</td>\n    </tr>\n    <tr>\n      <th>20</th>\n      <td>2016-01-11 20:20:00</td>\n      <td>200.0</td>\n      <td>0</td>\n    </tr>\n    <tr>\n      <th>21</th>\n      <td>2016-01-11 20:30:00</td>\n      <td>210.0</td>\n      <td>0</td>\n    </tr>\n    <tr>\n      <th>22</th>\n      <td>2016-01-11 20:40:00</td>\n      <td>220.0</td>\n      <td>0</td>\n    </tr>\n    <tr>\n      <th>23</th>\n      <td>2016-01-11 20:50:00</td>\n      <td>230.0</td>\n      <td>0</td>\n    </tr>\n    <tr>\n      <th>24</th>\n      <td>2016-01-11 21:00:00</td>\n      <td>240.0</td>\n      <td>0</td>\n    </tr>\n    <tr>\n      <th>25</th>\n      <td>2016-01-11 21:10:00</td>\n      <td>250.0</td>\n      <td>0</td>\n    </tr>\n    <tr>\n      <th>26</th>\n      <td>2016-01-11 21:20:00</td>\n      <td>260.0</td>\n      <td>0</td>\n    </tr>\n    <tr>\n      <th>27</th>\n      <td>2016-01-11 21:30:00</td>\n      <td>270.0</td>\n      <td>0</td>\n    </tr>\n    <tr>\n      <th>28</th>\n      <td>2016-01-11 21:40:00</td>\n      <td>280.0</td>\n      <td>0</td>\n    </tr>\n    <tr>\n      <th>29</th>\n      <td>2016-01-11 21:50:00</td>\n      <td>290.0</td>\n      <td>0</td>\n    </tr>\n    <tr>\n      <th>30</th>\n      <td>2016-01-11 22:00:00</td>\n      <td>300.0</td>\n      <td>0</td>\n    </tr>\n    <tr>\n      <th>31</th>\n      <td>2016-01-11 22:10:00</td>\n      <td>310.0</td>\n      <td>0</td>\n    </tr>\n    <tr>\n      <th>32</th>\n      <td>2016-01-11 22:20:00</td>\n      <td>320.0</td>\n      <td>0</td>\n    </tr>\n    <tr>\n      <th>33</th>\n      <td>2016-01-11 22:30:00</td>\n      <td>330.0</td>\n      <td>0</td>\n    </tr>\n    <tr>\n      <th>34</th>\n      <td>2016-01-11 22:40:00</td>\n      <td>340.0</td>\n      <td>0</td>\n    </tr>\n    <tr>\n      <th>35</th>\n      <td>2016-01-11 22:50:00</td>\n      <td>350.0</td>\n      <td>0</td>\n    </tr>\n    <tr>\n      <th>36</th>\n      <td>2016-01-11 23:00:00</td>\n      <td>360.0</td>\n      <td>1</td>\n    </tr>\n    <tr>\n      <th>37</th>\n      <td>2016-01-11 23:10:00</td>\n      <td>370.0</td>\n      <td>1</td>\n    </tr>\n    <tr>\n      <th>38</th>\n      <td>2016-01-11 23:20:00</td>\n      <td>380.0</td>\n      <td>1</td>\n    </tr>\n    <tr>\n      <th>39</th>\n      <td>2016-01-11 23:30:00</td>\n      <td>390.0</td>\n      <td>1</td>\n    </tr>\n    <tr>\n      <th>40</th>\n      <td>2016-01-11 23:40:00</td>\n      <td>400.0</td>\n      <td>1</td>\n    </tr>\n    <tr>\n      <th>41</th>\n      <td>2016-01-11 23:50:00</td>\n      <td>410.0</td>\n      <td>1</td>\n    </tr>\n    <tr>\n      <th>42</th>\n      <td>2016-01-12 00:00:00</td>\n      <td>420.0</td>\n      <td>1</td>\n    </tr>\n    <tr>\n      <th>43</th>\n      <td>2016-01-12 00:10:00</td>\n      <td>430.0</td>\n      <td>1</td>\n    </tr>\n    <tr>\n      <th>44</th>\n      <td>2016-01-12 00:20:00</td>\n      <td>440.0</td>\n      <td>1</td>\n    </tr>\n    <tr>\n      <th>45</th>\n      <td>2016-01-12 00:30:00</td>\n      <td>450.0</td>\n      <td>1</td>\n    </tr>\n    <tr>\n      <th>46</th>\n      <td>2016-01-12 00:40:00</td>\n      <td>460.0</td>\n      <td>1</td>\n    </tr>\n    <tr>\n      <th>47</th>\n      <td>2016-01-12 00:50:00</td>\n      <td>470.0</td>\n      <td>1</td>\n    </tr>\n    <tr>\n      <th>48</th>\n      <td>2016-01-12 01:00:00</td>\n      <td>480.0</td>\n      <td>1</td>\n    </tr>\n    <tr>\n      <th>49</th>\n      <td>2016-01-12 01:10:00</td>\n      <td>490.0</td>\n      <td>1</td>\n    </tr>\n  </tbody>\n</table>\n</div>"
     },
     "execution_count": 8,
     "metadata": {},
     "output_type": "execute_result"
    }
   ],
   "source": [
    "# 연습문제4\n",
    "# 경과시간(6시간)을 계산\n",
    "dat_df['cum_6hour'] = (dat_df['cum_min']/360).round(2).astype(int)\n",
    "\n",
    "# 시간ID의 확인\n",
    "print(dat_df['cum_6hour'].unique())\n",
    "# 선두에서 50행까지 표시\n",
    "dat_df[['date', 'cum_min', 'cum_6hour']].head(50)"
   ],
   "metadata": {
    "collapsed": false,
    "pycharm": {
     "name": "#%%\n"
    }
   }
  },
  {
   "cell_type": "code",
   "execution_count": 9,
   "outputs": [],
   "source": [
    "dat_df = dat_df.drop(['date', 'dif_min', 'cum_min'], axis=1)\n",
    "dat_df_mean = dat_df.groupby('cum_6hour').mean()"
   ],
   "metadata": {
    "collapsed": false,
    "pycharm": {
     "name": "#%%\n"
    }
   }
  },
  {
   "cell_type": "code",
   "execution_count": 10,
   "outputs": [
    {
     "data": {
      "text/plain": "           Appliances     lights         T1       RH_1         T2       RH_2  \\\ncum_6hour                                                                      \n0          150.000000  31.944444  20.688056  47.345394  20.023148  44.973287   \n1           81.944444   7.222222  20.858287  45.627708  20.227315  44.286435   \n2           83.333333   5.555556  19.860463  47.019213  19.140608  44.876698   \n3          101.111111   0.000000  20.037500  44.843009  19.103377  43.495476   \n4           78.611111   7.222222  19.947963  43.275394  19.113860  42.606633   \n\n                  T3       RH_3         T4       RH_4         T5       RH_5  \ncum_6hour                                                                    \n0          20.111481  46.041875  19.255972  47.379074  17.761597  60.359861  \n1          20.213588  45.530833  20.740093  46.503634  18.898519  50.261273  \n2          20.149722  45.269306  19.349259  45.893611  18.163125  50.817454  \n3          19.907778  44.802407  19.748287  43.536204  17.835370  50.444111  \n4          19.788704  44.312037  19.555093  42.804491  17.477870  50.732546  ",
      "text/html": "<div>\n<style scoped>\n    .dataframe tbody tr th:only-of-type {\n        vertical-align: middle;\n    }\n\n    .dataframe tbody tr th {\n        vertical-align: top;\n    }\n\n    .dataframe thead th {\n        text-align: right;\n    }\n</style>\n<table border=\"1\" class=\"dataframe\">\n  <thead>\n    <tr style=\"text-align: right;\">\n      <th></th>\n      <th>Appliances</th>\n      <th>lights</th>\n      <th>T1</th>\n      <th>RH_1</th>\n      <th>T2</th>\n      <th>RH_2</th>\n      <th>T3</th>\n      <th>RH_3</th>\n      <th>T4</th>\n      <th>RH_4</th>\n      <th>T5</th>\n      <th>RH_5</th>\n    </tr>\n    <tr>\n      <th>cum_6hour</th>\n      <th></th>\n      <th></th>\n      <th></th>\n      <th></th>\n      <th></th>\n      <th></th>\n      <th></th>\n      <th></th>\n      <th></th>\n      <th></th>\n      <th></th>\n      <th></th>\n    </tr>\n  </thead>\n  <tbody>\n    <tr>\n      <th>0</th>\n      <td>150.000000</td>\n      <td>31.944444</td>\n      <td>20.688056</td>\n      <td>47.345394</td>\n      <td>20.023148</td>\n      <td>44.973287</td>\n      <td>20.111481</td>\n      <td>46.041875</td>\n      <td>19.255972</td>\n      <td>47.379074</td>\n      <td>17.761597</td>\n      <td>60.359861</td>\n    </tr>\n    <tr>\n      <th>1</th>\n      <td>81.944444</td>\n      <td>7.222222</td>\n      <td>20.858287</td>\n      <td>45.627708</td>\n      <td>20.227315</td>\n      <td>44.286435</td>\n      <td>20.213588</td>\n      <td>45.530833</td>\n      <td>20.740093</td>\n      <td>46.503634</td>\n      <td>18.898519</td>\n      <td>50.261273</td>\n    </tr>\n    <tr>\n      <th>2</th>\n      <td>83.333333</td>\n      <td>5.555556</td>\n      <td>19.860463</td>\n      <td>47.019213</td>\n      <td>19.140608</td>\n      <td>44.876698</td>\n      <td>20.149722</td>\n      <td>45.269306</td>\n      <td>19.349259</td>\n      <td>45.893611</td>\n      <td>18.163125</td>\n      <td>50.817454</td>\n    </tr>\n    <tr>\n      <th>3</th>\n      <td>101.111111</td>\n      <td>0.000000</td>\n      <td>20.037500</td>\n      <td>44.843009</td>\n      <td>19.103377</td>\n      <td>43.495476</td>\n      <td>19.907778</td>\n      <td>44.802407</td>\n      <td>19.748287</td>\n      <td>43.536204</td>\n      <td>17.835370</td>\n      <td>50.444111</td>\n    </tr>\n    <tr>\n      <th>4</th>\n      <td>78.611111</td>\n      <td>7.222222</td>\n      <td>19.947963</td>\n      <td>43.275394</td>\n      <td>19.113860</td>\n      <td>42.606633</td>\n      <td>19.788704</td>\n      <td>44.312037</td>\n      <td>19.555093</td>\n      <td>42.804491</td>\n      <td>17.477870</td>\n      <td>50.732546</td>\n    </tr>\n  </tbody>\n</table>\n</div>"
     },
     "execution_count": 10,
     "metadata": {},
     "output_type": "execute_result"
    }
   ],
   "source": [
    "dat_df_mean.head()"
   ],
   "metadata": {
    "collapsed": false,
    "pycharm": {
     "name": "#%%\n"
    }
   }
  },
  {
   "cell_type": "code",
   "execution_count": 11,
   "outputs": [],
   "source": [
    "dat_df_std = dat_df.groupby('cum_6hour').std()"
   ],
   "metadata": {
    "collapsed": false,
    "pycharm": {
     "name": "#%%\n"
    }
   }
  },
  {
   "cell_type": "code",
   "execution_count": 12,
   "outputs": [
    {
     "data": {
      "text/plain": "           Appliances     lights        T1      RH_1        T2      RH_2  \\\ncum_6hour                                                                  \n0          131.366445  13.901582  0.672443  2.998070  0.653222  0.848637   \n1          101.497908   9.137399  0.460572  0.811346  0.476669  0.342190   \n2          104.853639   9.085135  0.103157  1.039938  0.167655  0.318816   \n3           95.999339   0.000000  0.059026  1.091231  0.069944  0.617057   \n4           83.773599  12.097488  0.151195  0.561101  0.187641  0.418215   \n\n                 T3      RH_3        T4      RH_4        T5      RH_5  \ncum_6hour                                                              \n0          0.278809  1.185530  0.485747  1.282966  0.791008  9.891611  \n1          0.082826  0.103003  0.560148  0.511257  0.272610  0.339389  \n2          0.142110  0.261039  0.273491  0.776746  0.178471  1.138170  \n3          0.046289  0.068936  0.274278  0.622986  0.164863  0.792715  \n4          0.048003  0.180349  0.341428  0.430826  0.075740  0.247231  ",
      "text/html": "<div>\n<style scoped>\n    .dataframe tbody tr th:only-of-type {\n        vertical-align: middle;\n    }\n\n    .dataframe tbody tr th {\n        vertical-align: top;\n    }\n\n    .dataframe thead th {\n        text-align: right;\n    }\n</style>\n<table border=\"1\" class=\"dataframe\">\n  <thead>\n    <tr style=\"text-align: right;\">\n      <th></th>\n      <th>Appliances</th>\n      <th>lights</th>\n      <th>T1</th>\n      <th>RH_1</th>\n      <th>T2</th>\n      <th>RH_2</th>\n      <th>T3</th>\n      <th>RH_3</th>\n      <th>T4</th>\n      <th>RH_4</th>\n      <th>T5</th>\n      <th>RH_5</th>\n    </tr>\n    <tr>\n      <th>cum_6hour</th>\n      <th></th>\n      <th></th>\n      <th></th>\n      <th></th>\n      <th></th>\n      <th></th>\n      <th></th>\n      <th></th>\n      <th></th>\n      <th></th>\n      <th></th>\n      <th></th>\n    </tr>\n  </thead>\n  <tbody>\n    <tr>\n      <th>0</th>\n      <td>131.366445</td>\n      <td>13.901582</td>\n      <td>0.672443</td>\n      <td>2.998070</td>\n      <td>0.653222</td>\n      <td>0.848637</td>\n      <td>0.278809</td>\n      <td>1.185530</td>\n      <td>0.485747</td>\n      <td>1.282966</td>\n      <td>0.791008</td>\n      <td>9.891611</td>\n    </tr>\n    <tr>\n      <th>1</th>\n      <td>101.497908</td>\n      <td>9.137399</td>\n      <td>0.460572</td>\n      <td>0.811346</td>\n      <td>0.476669</td>\n      <td>0.342190</td>\n      <td>0.082826</td>\n      <td>0.103003</td>\n      <td>0.560148</td>\n      <td>0.511257</td>\n      <td>0.272610</td>\n      <td>0.339389</td>\n    </tr>\n    <tr>\n      <th>2</th>\n      <td>104.853639</td>\n      <td>9.085135</td>\n      <td>0.103157</td>\n      <td>1.039938</td>\n      <td>0.167655</td>\n      <td>0.318816</td>\n      <td>0.142110</td>\n      <td>0.261039</td>\n      <td>0.273491</td>\n      <td>0.776746</td>\n      <td>0.178471</td>\n      <td>1.138170</td>\n    </tr>\n    <tr>\n      <th>3</th>\n      <td>95.999339</td>\n      <td>0.000000</td>\n      <td>0.059026</td>\n      <td>1.091231</td>\n      <td>0.069944</td>\n      <td>0.617057</td>\n      <td>0.046289</td>\n      <td>0.068936</td>\n      <td>0.274278</td>\n      <td>0.622986</td>\n      <td>0.164863</td>\n      <td>0.792715</td>\n    </tr>\n    <tr>\n      <th>4</th>\n      <td>83.773599</td>\n      <td>12.097488</td>\n      <td>0.151195</td>\n      <td>0.561101</td>\n      <td>0.187641</td>\n      <td>0.418215</td>\n      <td>0.048003</td>\n      <td>0.180349</td>\n      <td>0.341428</td>\n      <td>0.430826</td>\n      <td>0.075740</td>\n      <td>0.247231</td>\n    </tr>\n  </tbody>\n</table>\n</div>"
     },
     "execution_count": 12,
     "metadata": {},
     "output_type": "execute_result"
    }
   ],
   "source": [
    "dat_df_std.head()"
   ],
   "metadata": {
    "collapsed": false,
    "pycharm": {
     "name": "#%%\n"
    }
   }
  },
  {
   "cell_type": "code",
   "execution_count": 13,
   "outputs": [
    {
     "name": "stdout",
     "output_type": "stream",
     "text": [
      "(484, 24)\n"
     ]
    },
    {
     "data": {
      "text/plain": "           Appliances_x   lights_x       T1_x     RH_1_x       T2_x  \\\ncum_6hour                                                             \n0            150.000000  31.944444  20.688056  47.345394  20.023148   \n1             81.944444   7.222222  20.858287  45.627708  20.227315   \n2             83.333333   5.555556  19.860463  47.019213  19.140608   \n3            101.111111   0.000000  20.037500  44.843009  19.103377   \n4             78.611111   7.222222  19.947963  43.275394  19.113860   \n\n              RH_2_x       T3_x     RH_3_x       T4_x     RH_4_x  ...  \\\ncum_6hour                                                         ...   \n0          44.973287  20.111481  46.041875  19.255972  47.379074  ...   \n1          44.286435  20.213588  45.530833  20.740093  46.503634  ...   \n2          44.876698  20.149722  45.269306  19.349259  45.893611  ...   \n3          43.495476  19.907778  44.802407  19.748287  43.536204  ...   \n4          42.606633  19.788704  44.312037  19.555093  42.804491  ...   \n\n               T1_y    RH_1_y      T2_y    RH_2_y      T3_y    RH_3_y  \\\ncum_6hour                                                               \n0          0.672443  2.998070  0.653222  0.848637  0.278809  1.185530   \n1          0.460572  0.811346  0.476669  0.342190  0.082826  0.103003   \n2          0.103157  1.039938  0.167655  0.318816  0.142110  0.261039   \n3          0.059026  1.091231  0.069944  0.617057  0.046289  0.068936   \n4          0.151195  0.561101  0.187641  0.418215  0.048003  0.180349   \n\n               T4_y    RH_4_y      T5_y    RH_5_y  \ncum_6hour                                          \n0          0.485747  1.282966  0.791008  9.891611  \n1          0.560148  0.511257  0.272610  0.339389  \n2          0.273491  0.776746  0.178471  1.138170  \n3          0.274278  0.622986  0.164863  0.792715  \n4          0.341428  0.430826  0.075740  0.247231  \n\n[5 rows x 24 columns]",
      "text/html": "<div>\n<style scoped>\n    .dataframe tbody tr th:only-of-type {\n        vertical-align: middle;\n    }\n\n    .dataframe tbody tr th {\n        vertical-align: top;\n    }\n\n    .dataframe thead th {\n        text-align: right;\n    }\n</style>\n<table border=\"1\" class=\"dataframe\">\n  <thead>\n    <tr style=\"text-align: right;\">\n      <th></th>\n      <th>Appliances_x</th>\n      <th>lights_x</th>\n      <th>T1_x</th>\n      <th>RH_1_x</th>\n      <th>T2_x</th>\n      <th>RH_2_x</th>\n      <th>T3_x</th>\n      <th>RH_3_x</th>\n      <th>T4_x</th>\n      <th>RH_4_x</th>\n      <th>...</th>\n      <th>T1_y</th>\n      <th>RH_1_y</th>\n      <th>T2_y</th>\n      <th>RH_2_y</th>\n      <th>T3_y</th>\n      <th>RH_3_y</th>\n      <th>T4_y</th>\n      <th>RH_4_y</th>\n      <th>T5_y</th>\n      <th>RH_5_y</th>\n    </tr>\n    <tr>\n      <th>cum_6hour</th>\n      <th></th>\n      <th></th>\n      <th></th>\n      <th></th>\n      <th></th>\n      <th></th>\n      <th></th>\n      <th></th>\n      <th></th>\n      <th></th>\n      <th></th>\n      <th></th>\n      <th></th>\n      <th></th>\n      <th></th>\n      <th></th>\n      <th></th>\n      <th></th>\n      <th></th>\n      <th></th>\n      <th></th>\n    </tr>\n  </thead>\n  <tbody>\n    <tr>\n      <th>0</th>\n      <td>150.000000</td>\n      <td>31.944444</td>\n      <td>20.688056</td>\n      <td>47.345394</td>\n      <td>20.023148</td>\n      <td>44.973287</td>\n      <td>20.111481</td>\n      <td>46.041875</td>\n      <td>19.255972</td>\n      <td>47.379074</td>\n      <td>...</td>\n      <td>0.672443</td>\n      <td>2.998070</td>\n      <td>0.653222</td>\n      <td>0.848637</td>\n      <td>0.278809</td>\n      <td>1.185530</td>\n      <td>0.485747</td>\n      <td>1.282966</td>\n      <td>0.791008</td>\n      <td>9.891611</td>\n    </tr>\n    <tr>\n      <th>1</th>\n      <td>81.944444</td>\n      <td>7.222222</td>\n      <td>20.858287</td>\n      <td>45.627708</td>\n      <td>20.227315</td>\n      <td>44.286435</td>\n      <td>20.213588</td>\n      <td>45.530833</td>\n      <td>20.740093</td>\n      <td>46.503634</td>\n      <td>...</td>\n      <td>0.460572</td>\n      <td>0.811346</td>\n      <td>0.476669</td>\n      <td>0.342190</td>\n      <td>0.082826</td>\n      <td>0.103003</td>\n      <td>0.560148</td>\n      <td>0.511257</td>\n      <td>0.272610</td>\n      <td>0.339389</td>\n    </tr>\n    <tr>\n      <th>2</th>\n      <td>83.333333</td>\n      <td>5.555556</td>\n      <td>19.860463</td>\n      <td>47.019213</td>\n      <td>19.140608</td>\n      <td>44.876698</td>\n      <td>20.149722</td>\n      <td>45.269306</td>\n      <td>19.349259</td>\n      <td>45.893611</td>\n      <td>...</td>\n      <td>0.103157</td>\n      <td>1.039938</td>\n      <td>0.167655</td>\n      <td>0.318816</td>\n      <td>0.142110</td>\n      <td>0.261039</td>\n      <td>0.273491</td>\n      <td>0.776746</td>\n      <td>0.178471</td>\n      <td>1.138170</td>\n    </tr>\n    <tr>\n      <th>3</th>\n      <td>101.111111</td>\n      <td>0.000000</td>\n      <td>20.037500</td>\n      <td>44.843009</td>\n      <td>19.103377</td>\n      <td>43.495476</td>\n      <td>19.907778</td>\n      <td>44.802407</td>\n      <td>19.748287</td>\n      <td>43.536204</td>\n      <td>...</td>\n      <td>0.059026</td>\n      <td>1.091231</td>\n      <td>0.069944</td>\n      <td>0.617057</td>\n      <td>0.046289</td>\n      <td>0.068936</td>\n      <td>0.274278</td>\n      <td>0.622986</td>\n      <td>0.164863</td>\n      <td>0.792715</td>\n    </tr>\n    <tr>\n      <th>4</th>\n      <td>78.611111</td>\n      <td>7.222222</td>\n      <td>19.947963</td>\n      <td>43.275394</td>\n      <td>19.113860</td>\n      <td>42.606633</td>\n      <td>19.788704</td>\n      <td>44.312037</td>\n      <td>19.555093</td>\n      <td>42.804491</td>\n      <td>...</td>\n      <td>0.151195</td>\n      <td>0.561101</td>\n      <td>0.187641</td>\n      <td>0.418215</td>\n      <td>0.048003</td>\n      <td>0.180349</td>\n      <td>0.341428</td>\n      <td>0.430826</td>\n      <td>0.075740</td>\n      <td>0.247231</td>\n    </tr>\n  </tbody>\n</table>\n<p>5 rows × 24 columns</p>\n</div>"
     },
     "execution_count": 13,
     "metadata": {},
     "output_type": "execute_result"
    }
   ],
   "source": [
    "dat_features = pd.merge(dat_df_mean, dat_df_std, left_index=True, right_index=True)\n",
    "\n",
    "print(dat_features.shape)\n",
    "dat_features.head()"
   ],
   "metadata": {
    "collapsed": false,
    "pycharm": {
     "name": "#%%\n"
    }
   }
  },
  {
   "cell_type": "code",
   "execution_count": 15,
   "outputs": [
    {
     "data": {
      "text/plain": "(164, 1)"
     },
     "execution_count": 15,
     "metadata": {},
     "output_type": "execute_result"
    }
   ],
   "source": [
    "event_df = pd.read_csv('../data/event.csv', sep=',')\n",
    "event_df.shape"
   ],
   "metadata": {
    "collapsed": false,
    "pycharm": {
     "name": "#%%\n"
    }
   }
  },
  {
   "cell_type": "code",
   "execution_count": 18,
   "outputs": [
    {
     "data": {
      "text/plain": "                 date  dif_min  cum_6hour\n0 2016-01-12 10:00:00   1020.0          2\n1 2016-01-13 21:00:00   3120.0          8\n2 2016-01-14 10:00:00   3900.0         10\n3 2016-01-14 16:00:00   4260.0         11\n4 2016-01-14 17:00:00   4320.0         12",
      "text/html": "<div>\n<style scoped>\n    .dataframe tbody tr th:only-of-type {\n        vertical-align: middle;\n    }\n\n    .dataframe tbody tr th {\n        vertical-align: top;\n    }\n\n    .dataframe thead th {\n        text-align: right;\n    }\n</style>\n<table border=\"1\" class=\"dataframe\">\n  <thead>\n    <tr style=\"text-align: right;\">\n      <th></th>\n      <th>date</th>\n      <th>dif_min</th>\n      <th>cum_6hour</th>\n    </tr>\n  </thead>\n  <tbody>\n    <tr>\n      <th>0</th>\n      <td>2016-01-12 10:00:00</td>\n      <td>1020.0</td>\n      <td>2</td>\n    </tr>\n    <tr>\n      <th>1</th>\n      <td>2016-01-13 21:00:00</td>\n      <td>3120.0</td>\n      <td>8</td>\n    </tr>\n    <tr>\n      <th>2</th>\n      <td>2016-01-14 10:00:00</td>\n      <td>3900.0</td>\n      <td>10</td>\n    </tr>\n    <tr>\n      <th>3</th>\n      <td>2016-01-14 16:00:00</td>\n      <td>4260.0</td>\n      <td>11</td>\n    </tr>\n    <tr>\n      <th>4</th>\n      <td>2016-01-14 17:00:00</td>\n      <td>4320.0</td>\n      <td>12</td>\n    </tr>\n  </tbody>\n</table>\n</div>"
     },
     "execution_count": 18,
     "metadata": {},
     "output_type": "execute_result"
    }
   ],
   "source": [
    "import datetime as dt\n",
    "\n",
    "event_df['date'] = pd.to_datetime(event_df['date'], format='%Y-%m-%d %H:%M:%S')\n",
    "base_time= '2016-01-11 17:00:00'\n",
    "event_df['dif_min'] = event_df['date'] - dt.datetime.strptime(base_time, '%Y-%m-%d %H:%M:%S')\n",
    "\n",
    "event_df['dif_min'] = event_df['dif_min'].dt.total_seconds()/60\n",
    "\n",
    "event_df['cum_6hour'] = (event_df['dif_min']/360).round(2).astype(int)\n",
    "\n",
    "# 선두에서 5행까지 표시\n",
    "event_df.head()"
   ],
   "metadata": {
    "collapsed": false,
    "pycharm": {
     "name": "#%%\n"
    }
   }
  },
  {
   "cell_type": "code",
   "execution_count": 19,
   "outputs": [
    {
     "data": {
      "text/plain": "           event\ncum_6hour       \n2              1\n8              1\n10             1\n11             1\n12             1",
      "text/html": "<div>\n<style scoped>\n    .dataframe tbody tr th:only-of-type {\n        vertical-align: middle;\n    }\n\n    .dataframe tbody tr th {\n        vertical-align: top;\n    }\n\n    .dataframe thead th {\n        text-align: right;\n    }\n</style>\n<table border=\"1\" class=\"dataframe\">\n  <thead>\n    <tr style=\"text-align: right;\">\n      <th></th>\n      <th>event</th>\n    </tr>\n    <tr>\n      <th>cum_6hour</th>\n      <th></th>\n    </tr>\n  </thead>\n  <tbody>\n    <tr>\n      <th>2</th>\n      <td>1</td>\n    </tr>\n    <tr>\n      <th>8</th>\n      <td>1</td>\n    </tr>\n    <tr>\n      <th>10</th>\n      <td>1</td>\n    </tr>\n    <tr>\n      <th>11</th>\n      <td>1</td>\n    </tr>\n    <tr>\n      <th>12</th>\n      <td>1</td>\n    </tr>\n  </tbody>\n</table>\n</div>"
     },
     "execution_count": 19,
     "metadata": {},
     "output_type": "execute_result"
    }
   ],
   "source": [
    "event_df['event'] = 1\n",
    "\n",
    "event_df = event_df[['cum_6hour', 'event']]\n",
    "event_df = event_df[~event_df.duplicated()]\n",
    "\n",
    "event_df = event_df.set_index(['cum_6hour'])\n",
    "\n",
    "event_df.head()"
   ],
   "metadata": {
    "collapsed": false,
    "pycharm": {
     "name": "#%%\n"
    }
   }
  },
  {
   "cell_type": "code",
   "execution_count": 20,
   "outputs": [
    {
     "name": "stdout",
     "output_type": "stream",
     "text": [
      "(484, 25)\n"
     ]
    },
    {
     "data": {
      "text/plain": "           Appliances_x   lights_x       T1_x     RH_1_x       T2_x  \\\ncum_6hour                                                             \n0            150.000000  31.944444  20.688056  47.345394  20.023148   \n1             81.944444   7.222222  20.858287  45.627708  20.227315   \n2             83.333333   5.555556  19.860463  47.019213  19.140608   \n3            101.111111   0.000000  20.037500  44.843009  19.103377   \n4             78.611111   7.222222  19.947963  43.275394  19.113860   \n\n              RH_2_x       T3_x     RH_3_x       T4_x     RH_4_x  ...  \\\ncum_6hour                                                         ...   \n0          44.973287  20.111481  46.041875  19.255972  47.379074  ...   \n1          44.286435  20.213588  45.530833  20.740093  46.503634  ...   \n2          44.876698  20.149722  45.269306  19.349259  45.893611  ...   \n3          43.495476  19.907778  44.802407  19.748287  43.536204  ...   \n4          42.606633  19.788704  44.312037  19.555093  42.804491  ...   \n\n             RH_1_y      T2_y    RH_2_y      T3_y    RH_3_y      T4_y  \\\ncum_6hour                                                               \n0          2.998070  0.653222  0.848637  0.278809  1.185530  0.485747   \n1          0.811346  0.476669  0.342190  0.082826  0.103003  0.560148   \n2          1.039938  0.167655  0.318816  0.142110  0.261039  0.273491   \n3          1.091231  0.069944  0.617057  0.046289  0.068936  0.274278   \n4          0.561101  0.187641  0.418215  0.048003  0.180349  0.341428   \n\n             RH_4_y      T5_y    RH_5_y  event  \ncum_6hour                                       \n0          1.282966  0.791008  9.891611    0.0  \n1          0.511257  0.272610  0.339389    0.0  \n2          0.776746  0.178471  1.138170    1.0  \n3          0.622986  0.164863  0.792715    0.0  \n4          0.430826  0.075740  0.247231    0.0  \n\n[5 rows x 25 columns]",
      "text/html": "<div>\n<style scoped>\n    .dataframe tbody tr th:only-of-type {\n        vertical-align: middle;\n    }\n\n    .dataframe tbody tr th {\n        vertical-align: top;\n    }\n\n    .dataframe thead th {\n        text-align: right;\n    }\n</style>\n<table border=\"1\" class=\"dataframe\">\n  <thead>\n    <tr style=\"text-align: right;\">\n      <th></th>\n      <th>Appliances_x</th>\n      <th>lights_x</th>\n      <th>T1_x</th>\n      <th>RH_1_x</th>\n      <th>T2_x</th>\n      <th>RH_2_x</th>\n      <th>T3_x</th>\n      <th>RH_3_x</th>\n      <th>T4_x</th>\n      <th>RH_4_x</th>\n      <th>...</th>\n      <th>RH_1_y</th>\n      <th>T2_y</th>\n      <th>RH_2_y</th>\n      <th>T3_y</th>\n      <th>RH_3_y</th>\n      <th>T4_y</th>\n      <th>RH_4_y</th>\n      <th>T5_y</th>\n      <th>RH_5_y</th>\n      <th>event</th>\n    </tr>\n    <tr>\n      <th>cum_6hour</th>\n      <th></th>\n      <th></th>\n      <th></th>\n      <th></th>\n      <th></th>\n      <th></th>\n      <th></th>\n      <th></th>\n      <th></th>\n      <th></th>\n      <th></th>\n      <th></th>\n      <th></th>\n      <th></th>\n      <th></th>\n      <th></th>\n      <th></th>\n      <th></th>\n      <th></th>\n      <th></th>\n      <th></th>\n    </tr>\n  </thead>\n  <tbody>\n    <tr>\n      <th>0</th>\n      <td>150.000000</td>\n      <td>31.944444</td>\n      <td>20.688056</td>\n      <td>47.345394</td>\n      <td>20.023148</td>\n      <td>44.973287</td>\n      <td>20.111481</td>\n      <td>46.041875</td>\n      <td>19.255972</td>\n      <td>47.379074</td>\n      <td>...</td>\n      <td>2.998070</td>\n      <td>0.653222</td>\n      <td>0.848637</td>\n      <td>0.278809</td>\n      <td>1.185530</td>\n      <td>0.485747</td>\n      <td>1.282966</td>\n      <td>0.791008</td>\n      <td>9.891611</td>\n      <td>0.0</td>\n    </tr>\n    <tr>\n      <th>1</th>\n      <td>81.944444</td>\n      <td>7.222222</td>\n      <td>20.858287</td>\n      <td>45.627708</td>\n      <td>20.227315</td>\n      <td>44.286435</td>\n      <td>20.213588</td>\n      <td>45.530833</td>\n      <td>20.740093</td>\n      <td>46.503634</td>\n      <td>...</td>\n      <td>0.811346</td>\n      <td>0.476669</td>\n      <td>0.342190</td>\n      <td>0.082826</td>\n      <td>0.103003</td>\n      <td>0.560148</td>\n      <td>0.511257</td>\n      <td>0.272610</td>\n      <td>0.339389</td>\n      <td>0.0</td>\n    </tr>\n    <tr>\n      <th>2</th>\n      <td>83.333333</td>\n      <td>5.555556</td>\n      <td>19.860463</td>\n      <td>47.019213</td>\n      <td>19.140608</td>\n      <td>44.876698</td>\n      <td>20.149722</td>\n      <td>45.269306</td>\n      <td>19.349259</td>\n      <td>45.893611</td>\n      <td>...</td>\n      <td>1.039938</td>\n      <td>0.167655</td>\n      <td>0.318816</td>\n      <td>0.142110</td>\n      <td>0.261039</td>\n      <td>0.273491</td>\n      <td>0.776746</td>\n      <td>0.178471</td>\n      <td>1.138170</td>\n      <td>1.0</td>\n    </tr>\n    <tr>\n      <th>3</th>\n      <td>101.111111</td>\n      <td>0.000000</td>\n      <td>20.037500</td>\n      <td>44.843009</td>\n      <td>19.103377</td>\n      <td>43.495476</td>\n      <td>19.907778</td>\n      <td>44.802407</td>\n      <td>19.748287</td>\n      <td>43.536204</td>\n      <td>...</td>\n      <td>1.091231</td>\n      <td>0.069944</td>\n      <td>0.617057</td>\n      <td>0.046289</td>\n      <td>0.068936</td>\n      <td>0.274278</td>\n      <td>0.622986</td>\n      <td>0.164863</td>\n      <td>0.792715</td>\n      <td>0.0</td>\n    </tr>\n    <tr>\n      <th>4</th>\n      <td>78.611111</td>\n      <td>7.222222</td>\n      <td>19.947963</td>\n      <td>43.275394</td>\n      <td>19.113860</td>\n      <td>42.606633</td>\n      <td>19.788704</td>\n      <td>44.312037</td>\n      <td>19.555093</td>\n      <td>42.804491</td>\n      <td>...</td>\n      <td>0.561101</td>\n      <td>0.187641</td>\n      <td>0.418215</td>\n      <td>0.048003</td>\n      <td>0.180349</td>\n      <td>0.341428</td>\n      <td>0.430826</td>\n      <td>0.075740</td>\n      <td>0.247231</td>\n      <td>0.0</td>\n    </tr>\n  </tbody>\n</table>\n<p>5 rows × 25 columns</p>\n</div>"
     },
     "execution_count": 20,
     "metadata": {},
     "output_type": "execute_result"
    }
   ],
   "source": [
    "dat_event = dat_features.join(event_df, how='left')\n",
    "dat_event = dat_event.fillna(0)\n",
    "\n",
    "print(dat_event.shape)\n",
    "dat_event.head()"
   ],
   "metadata": {
    "collapsed": false,
    "pycharm": {
     "name": "#%%\n"
    }
   }
  },
  {
   "cell_type": "code",
   "execution_count": 22,
   "outputs": [
    {
     "data": {
      "text/plain": "    Appliances  lights         T1       RH_1         T2       RH_2         T3  \\\n0           60      30  19.890000  47.596667  19.200000  44.790000  19.790000   \n1           60      30  19.890000  46.693333  19.200000  44.722500  19.790000   \n2           50      30  19.890000  46.300000  19.200000  44.626667  19.790000   \n3           50      40  19.890000  46.066667  19.200000  44.590000  19.790000   \n4           60      40  19.890000  46.333333  19.200000  44.530000  19.790000   \n5           50      40  19.890000  46.026667  19.200000  44.500000  19.790000   \n6           60      50  19.890000  45.766667  19.200000  44.500000  19.790000   \n7           60      50  19.856667  45.560000  19.200000  44.500000  19.730000   \n8           60      40  19.790000  45.597500  19.200000  44.433333  19.730000   \n9           70      40  19.856667  46.090000  19.230000  44.400000  19.790000   \n10         230      70  19.926667  45.863333  19.356667  44.400000  19.790000   \n11         580      60  20.066667  46.396667  19.426667  44.400000  19.790000   \n12         430      50  20.133333  48.000000  19.566667  44.400000  19.890000   \n13         250      40  20.260000  52.726667  19.730000  45.100000  19.890000   \n14         100      10  20.426667  55.893333  19.856667  45.833333  20.033333   \n15         100      10  20.566667  53.893333  20.033333  46.756667  20.100000   \n16          90      10  20.730000  52.660000  20.166667  47.223333  20.200000   \n17          70      30  20.856667  53.660000  20.200000  47.056667  20.200000   \n18          80      30  20.890000  51.193333  20.200000  46.330000  20.200000   \n19         140      40  20.890000  49.800000  20.200000  46.026667  20.166667   \n20         120      20  20.890000  48.433333  20.200000  45.722500  20.166667   \n21         190      40  20.963333  47.633333  20.260000  45.530000  20.200000   \n22         110      40  21.033333  47.063333  20.290000  45.223333  20.260000   \n23         110      40  21.100000  46.596667  20.356667  44.963333  20.290000   \n24         110      30  21.133333  46.060000  20.426667  44.760000  20.290000   \n25         110      20  21.200000  45.800000  20.500000  44.760000  20.390000   \n26         100      30  21.290000  45.900000  20.533333  45.090000  20.390000   \n27         100      20  21.356667  45.826667  20.666667  45.163333  20.390000   \n28         100      20  21.390000  45.690000  20.700000  45.060000  20.390000   \n29         100      20  21.500000  45.333333  20.700000  44.933333  20.390000   \n30         110      20  21.500000  45.126667  20.790000  44.633333  20.390000   \n31         400      20  21.533333  44.966667  20.790000  44.360000  20.426667   \n32         400      20  21.600000  44.766667  20.890000  44.223333  20.500000   \n33         390      30  21.600000  44.560000  20.963333  43.963333  20.500000   \n34         240      20  21.600000  44.360000  21.000000  43.833333  20.500000   \n35          60      20  21.600000  44.200000  21.000000  43.700000  20.500000   \n\n         RH_3         T4       RH_4         T5       RH_5  \n0   44.730000  19.000000  45.566667  17.166667  55.200000  \n1   44.790000  19.000000  45.992500  17.166667  55.200000  \n2   44.933333  18.926667  45.890000  17.166667  55.090000  \n3   45.000000  18.890000  45.723333  17.166667  55.090000  \n4   45.000000  18.890000  45.530000  17.200000  55.090000  \n5   44.933333  18.890000  45.730000  17.133333  55.030000  \n6   44.900000  18.890000  45.790000  17.100000  54.966667  \n7   44.900000  18.890000  45.863333  17.100000  54.900000  \n8   44.790000  18.890000  45.790000  17.166667  55.000000  \n9   44.863333  18.890000  46.096667  17.100000  55.000000  \n10  44.900000  18.890000  46.430000  17.100000  55.000000  \n11  44.826667  19.000000  46.430000  17.100000  55.000000  \n12  44.900000  19.000000  46.363333  17.100000  55.090000  \n13  45.493333  19.000000  47.223333  17.100000  55.163333  \n14  47.526667  19.000000  48.696667  17.100000  55.500000  \n15  48.466667  19.000000  48.490000  17.150000  56.042500  \n16  48.530000  18.926667  48.156667  17.166667  56.490000  \n17  48.447500  18.890000  47.963333  17.200000  56.933333  \n18  48.193333  18.963333  48.630000  17.200000  57.060000  \n19  47.633333  19.033333  49.500000  17.593333  70.726667  \n20  47.300000  19.175000  49.947500  18.066667  79.000000  \n21  47.026667  19.260000  49.696667  17.666667  79.730000  \n22  46.826667  19.323333  49.166667  17.600000  79.256667  \n23  46.633333  19.390000  48.426667  17.566667  78.393333  \n24  46.433333  19.390000  48.193333  17.760000  82.460000  \n25  46.223333  19.390000  47.800000  18.356667  82.590000  \n26  46.090000  19.390000  47.560000  18.356667  70.990000  \n27  46.090000  19.390000  47.500000  18.600000  62.430000  \n28  46.090000  19.426667  47.993333  18.666667  59.030000  \n29  46.060000  19.566667  48.466667  18.823333  56.726667  \n30  46.000000  19.666667  48.093333  18.963333  55.333333  \n31  45.933333  19.600000  47.500000  19.033333  54.093333  \n32  45.933333  19.696667  47.626667  19.100000  53.366667  \n33  45.790000  20.096667  47.566667  19.158333  52.472500  \n34  45.730000  20.596667  47.223333  19.200000  51.990000  \n35  45.590000  20.996667  47.030000  19.222500  51.520000  ",
      "text/html": "<div>\n<style scoped>\n    .dataframe tbody tr th:only-of-type {\n        vertical-align: middle;\n    }\n\n    .dataframe tbody tr th {\n        vertical-align: top;\n    }\n\n    .dataframe thead th {\n        text-align: right;\n    }\n</style>\n<table border=\"1\" class=\"dataframe\">\n  <thead>\n    <tr style=\"text-align: right;\">\n      <th></th>\n      <th>Appliances</th>\n      <th>lights</th>\n      <th>T1</th>\n      <th>RH_1</th>\n      <th>T2</th>\n      <th>RH_2</th>\n      <th>T3</th>\n      <th>RH_3</th>\n      <th>T4</th>\n      <th>RH_4</th>\n      <th>T5</th>\n      <th>RH_5</th>\n    </tr>\n  </thead>\n  <tbody>\n    <tr>\n      <th>0</th>\n      <td>60</td>\n      <td>30</td>\n      <td>19.890000</td>\n      <td>47.596667</td>\n      <td>19.200000</td>\n      <td>44.790000</td>\n      <td>19.790000</td>\n      <td>44.730000</td>\n      <td>19.000000</td>\n      <td>45.566667</td>\n      <td>17.166667</td>\n      <td>55.200000</td>\n    </tr>\n    <tr>\n      <th>1</th>\n      <td>60</td>\n      <td>30</td>\n      <td>19.890000</td>\n      <td>46.693333</td>\n      <td>19.200000</td>\n      <td>44.722500</td>\n      <td>19.790000</td>\n      <td>44.790000</td>\n      <td>19.000000</td>\n      <td>45.992500</td>\n      <td>17.166667</td>\n      <td>55.200000</td>\n    </tr>\n    <tr>\n      <th>2</th>\n      <td>50</td>\n      <td>30</td>\n      <td>19.890000</td>\n      <td>46.300000</td>\n      <td>19.200000</td>\n      <td>44.626667</td>\n      <td>19.790000</td>\n      <td>44.933333</td>\n      <td>18.926667</td>\n      <td>45.890000</td>\n      <td>17.166667</td>\n      <td>55.090000</td>\n    </tr>\n    <tr>\n      <th>3</th>\n      <td>50</td>\n      <td>40</td>\n      <td>19.890000</td>\n      <td>46.066667</td>\n      <td>19.200000</td>\n      <td>44.590000</td>\n      <td>19.790000</td>\n      <td>45.000000</td>\n      <td>18.890000</td>\n      <td>45.723333</td>\n      <td>17.166667</td>\n      <td>55.090000</td>\n    </tr>\n    <tr>\n      <th>4</th>\n      <td>60</td>\n      <td>40</td>\n      <td>19.890000</td>\n      <td>46.333333</td>\n      <td>19.200000</td>\n      <td>44.530000</td>\n      <td>19.790000</td>\n      <td>45.000000</td>\n      <td>18.890000</td>\n      <td>45.530000</td>\n      <td>17.200000</td>\n      <td>55.090000</td>\n    </tr>\n    <tr>\n      <th>5</th>\n      <td>50</td>\n      <td>40</td>\n      <td>19.890000</td>\n      <td>46.026667</td>\n      <td>19.200000</td>\n      <td>44.500000</td>\n      <td>19.790000</td>\n      <td>44.933333</td>\n      <td>18.890000</td>\n      <td>45.730000</td>\n      <td>17.133333</td>\n      <td>55.030000</td>\n    </tr>\n    <tr>\n      <th>6</th>\n      <td>60</td>\n      <td>50</td>\n      <td>19.890000</td>\n      <td>45.766667</td>\n      <td>19.200000</td>\n      <td>44.500000</td>\n      <td>19.790000</td>\n      <td>44.900000</td>\n      <td>18.890000</td>\n      <td>45.790000</td>\n      <td>17.100000</td>\n      <td>54.966667</td>\n    </tr>\n    <tr>\n      <th>7</th>\n      <td>60</td>\n      <td>50</td>\n      <td>19.856667</td>\n      <td>45.560000</td>\n      <td>19.200000</td>\n      <td>44.500000</td>\n      <td>19.730000</td>\n      <td>44.900000</td>\n      <td>18.890000</td>\n      <td>45.863333</td>\n      <td>17.100000</td>\n      <td>54.900000</td>\n    </tr>\n    <tr>\n      <th>8</th>\n      <td>60</td>\n      <td>40</td>\n      <td>19.790000</td>\n      <td>45.597500</td>\n      <td>19.200000</td>\n      <td>44.433333</td>\n      <td>19.730000</td>\n      <td>44.790000</td>\n      <td>18.890000</td>\n      <td>45.790000</td>\n      <td>17.166667</td>\n      <td>55.000000</td>\n    </tr>\n    <tr>\n      <th>9</th>\n      <td>70</td>\n      <td>40</td>\n      <td>19.856667</td>\n      <td>46.090000</td>\n      <td>19.230000</td>\n      <td>44.400000</td>\n      <td>19.790000</td>\n      <td>44.863333</td>\n      <td>18.890000</td>\n      <td>46.096667</td>\n      <td>17.100000</td>\n      <td>55.000000</td>\n    </tr>\n    <tr>\n      <th>10</th>\n      <td>230</td>\n      <td>70</td>\n      <td>19.926667</td>\n      <td>45.863333</td>\n      <td>19.356667</td>\n      <td>44.400000</td>\n      <td>19.790000</td>\n      <td>44.900000</td>\n      <td>18.890000</td>\n      <td>46.430000</td>\n      <td>17.100000</td>\n      <td>55.000000</td>\n    </tr>\n    <tr>\n      <th>11</th>\n      <td>580</td>\n      <td>60</td>\n      <td>20.066667</td>\n      <td>46.396667</td>\n      <td>19.426667</td>\n      <td>44.400000</td>\n      <td>19.790000</td>\n      <td>44.826667</td>\n      <td>19.000000</td>\n      <td>46.430000</td>\n      <td>17.100000</td>\n      <td>55.000000</td>\n    </tr>\n    <tr>\n      <th>12</th>\n      <td>430</td>\n      <td>50</td>\n      <td>20.133333</td>\n      <td>48.000000</td>\n      <td>19.566667</td>\n      <td>44.400000</td>\n      <td>19.890000</td>\n      <td>44.900000</td>\n      <td>19.000000</td>\n      <td>46.363333</td>\n      <td>17.100000</td>\n      <td>55.090000</td>\n    </tr>\n    <tr>\n      <th>13</th>\n      <td>250</td>\n      <td>40</td>\n      <td>20.260000</td>\n      <td>52.726667</td>\n      <td>19.730000</td>\n      <td>45.100000</td>\n      <td>19.890000</td>\n      <td>45.493333</td>\n      <td>19.000000</td>\n      <td>47.223333</td>\n      <td>17.100000</td>\n      <td>55.163333</td>\n    </tr>\n    <tr>\n      <th>14</th>\n      <td>100</td>\n      <td>10</td>\n      <td>20.426667</td>\n      <td>55.893333</td>\n      <td>19.856667</td>\n      <td>45.833333</td>\n      <td>20.033333</td>\n      <td>47.526667</td>\n      <td>19.000000</td>\n      <td>48.696667</td>\n      <td>17.100000</td>\n      <td>55.500000</td>\n    </tr>\n    <tr>\n      <th>15</th>\n      <td>100</td>\n      <td>10</td>\n      <td>20.566667</td>\n      <td>53.893333</td>\n      <td>20.033333</td>\n      <td>46.756667</td>\n      <td>20.100000</td>\n      <td>48.466667</td>\n      <td>19.000000</td>\n      <td>48.490000</td>\n      <td>17.150000</td>\n      <td>56.042500</td>\n    </tr>\n    <tr>\n      <th>16</th>\n      <td>90</td>\n      <td>10</td>\n      <td>20.730000</td>\n      <td>52.660000</td>\n      <td>20.166667</td>\n      <td>47.223333</td>\n      <td>20.200000</td>\n      <td>48.530000</td>\n      <td>18.926667</td>\n      <td>48.156667</td>\n      <td>17.166667</td>\n      <td>56.490000</td>\n    </tr>\n    <tr>\n      <th>17</th>\n      <td>70</td>\n      <td>30</td>\n      <td>20.856667</td>\n      <td>53.660000</td>\n      <td>20.200000</td>\n      <td>47.056667</td>\n      <td>20.200000</td>\n      <td>48.447500</td>\n      <td>18.890000</td>\n      <td>47.963333</td>\n      <td>17.200000</td>\n      <td>56.933333</td>\n    </tr>\n    <tr>\n      <th>18</th>\n      <td>80</td>\n      <td>30</td>\n      <td>20.890000</td>\n      <td>51.193333</td>\n      <td>20.200000</td>\n      <td>46.330000</td>\n      <td>20.200000</td>\n      <td>48.193333</td>\n      <td>18.963333</td>\n      <td>48.630000</td>\n      <td>17.200000</td>\n      <td>57.060000</td>\n    </tr>\n    <tr>\n      <th>19</th>\n      <td>140</td>\n      <td>40</td>\n      <td>20.890000</td>\n      <td>49.800000</td>\n      <td>20.200000</td>\n      <td>46.026667</td>\n      <td>20.166667</td>\n      <td>47.633333</td>\n      <td>19.033333</td>\n      <td>49.500000</td>\n      <td>17.593333</td>\n      <td>70.726667</td>\n    </tr>\n    <tr>\n      <th>20</th>\n      <td>120</td>\n      <td>20</td>\n      <td>20.890000</td>\n      <td>48.433333</td>\n      <td>20.200000</td>\n      <td>45.722500</td>\n      <td>20.166667</td>\n      <td>47.300000</td>\n      <td>19.175000</td>\n      <td>49.947500</td>\n      <td>18.066667</td>\n      <td>79.000000</td>\n    </tr>\n    <tr>\n      <th>21</th>\n      <td>190</td>\n      <td>40</td>\n      <td>20.963333</td>\n      <td>47.633333</td>\n      <td>20.260000</td>\n      <td>45.530000</td>\n      <td>20.200000</td>\n      <td>47.026667</td>\n      <td>19.260000</td>\n      <td>49.696667</td>\n      <td>17.666667</td>\n      <td>79.730000</td>\n    </tr>\n    <tr>\n      <th>22</th>\n      <td>110</td>\n      <td>40</td>\n      <td>21.033333</td>\n      <td>47.063333</td>\n      <td>20.290000</td>\n      <td>45.223333</td>\n      <td>20.260000</td>\n      <td>46.826667</td>\n      <td>19.323333</td>\n      <td>49.166667</td>\n      <td>17.600000</td>\n      <td>79.256667</td>\n    </tr>\n    <tr>\n      <th>23</th>\n      <td>110</td>\n      <td>40</td>\n      <td>21.100000</td>\n      <td>46.596667</td>\n      <td>20.356667</td>\n      <td>44.963333</td>\n      <td>20.290000</td>\n      <td>46.633333</td>\n      <td>19.390000</td>\n      <td>48.426667</td>\n      <td>17.566667</td>\n      <td>78.393333</td>\n    </tr>\n    <tr>\n      <th>24</th>\n      <td>110</td>\n      <td>30</td>\n      <td>21.133333</td>\n      <td>46.060000</td>\n      <td>20.426667</td>\n      <td>44.760000</td>\n      <td>20.290000</td>\n      <td>46.433333</td>\n      <td>19.390000</td>\n      <td>48.193333</td>\n      <td>17.760000</td>\n      <td>82.460000</td>\n    </tr>\n    <tr>\n      <th>25</th>\n      <td>110</td>\n      <td>20</td>\n      <td>21.200000</td>\n      <td>45.800000</td>\n      <td>20.500000</td>\n      <td>44.760000</td>\n      <td>20.390000</td>\n      <td>46.223333</td>\n      <td>19.390000</td>\n      <td>47.800000</td>\n      <td>18.356667</td>\n      <td>82.590000</td>\n    </tr>\n    <tr>\n      <th>26</th>\n      <td>100</td>\n      <td>30</td>\n      <td>21.290000</td>\n      <td>45.900000</td>\n      <td>20.533333</td>\n      <td>45.090000</td>\n      <td>20.390000</td>\n      <td>46.090000</td>\n      <td>19.390000</td>\n      <td>47.560000</td>\n      <td>18.356667</td>\n      <td>70.990000</td>\n    </tr>\n    <tr>\n      <th>27</th>\n      <td>100</td>\n      <td>20</td>\n      <td>21.356667</td>\n      <td>45.826667</td>\n      <td>20.666667</td>\n      <td>45.163333</td>\n      <td>20.390000</td>\n      <td>46.090000</td>\n      <td>19.390000</td>\n      <td>47.500000</td>\n      <td>18.600000</td>\n      <td>62.430000</td>\n    </tr>\n    <tr>\n      <th>28</th>\n      <td>100</td>\n      <td>20</td>\n      <td>21.390000</td>\n      <td>45.690000</td>\n      <td>20.700000</td>\n      <td>45.060000</td>\n      <td>20.390000</td>\n      <td>46.090000</td>\n      <td>19.426667</td>\n      <td>47.993333</td>\n      <td>18.666667</td>\n      <td>59.030000</td>\n    </tr>\n    <tr>\n      <th>29</th>\n      <td>100</td>\n      <td>20</td>\n      <td>21.500000</td>\n      <td>45.333333</td>\n      <td>20.700000</td>\n      <td>44.933333</td>\n      <td>20.390000</td>\n      <td>46.060000</td>\n      <td>19.566667</td>\n      <td>48.466667</td>\n      <td>18.823333</td>\n      <td>56.726667</td>\n    </tr>\n    <tr>\n      <th>30</th>\n      <td>110</td>\n      <td>20</td>\n      <td>21.500000</td>\n      <td>45.126667</td>\n      <td>20.790000</td>\n      <td>44.633333</td>\n      <td>20.390000</td>\n      <td>46.000000</td>\n      <td>19.666667</td>\n      <td>48.093333</td>\n      <td>18.963333</td>\n      <td>55.333333</td>\n    </tr>\n    <tr>\n      <th>31</th>\n      <td>400</td>\n      <td>20</td>\n      <td>21.533333</td>\n      <td>44.966667</td>\n      <td>20.790000</td>\n      <td>44.360000</td>\n      <td>20.426667</td>\n      <td>45.933333</td>\n      <td>19.600000</td>\n      <td>47.500000</td>\n      <td>19.033333</td>\n      <td>54.093333</td>\n    </tr>\n    <tr>\n      <th>32</th>\n      <td>400</td>\n      <td>20</td>\n      <td>21.600000</td>\n      <td>44.766667</td>\n      <td>20.890000</td>\n      <td>44.223333</td>\n      <td>20.500000</td>\n      <td>45.933333</td>\n      <td>19.696667</td>\n      <td>47.626667</td>\n      <td>19.100000</td>\n      <td>53.366667</td>\n    </tr>\n    <tr>\n      <th>33</th>\n      <td>390</td>\n      <td>30</td>\n      <td>21.600000</td>\n      <td>44.560000</td>\n      <td>20.963333</td>\n      <td>43.963333</td>\n      <td>20.500000</td>\n      <td>45.790000</td>\n      <td>20.096667</td>\n      <td>47.566667</td>\n      <td>19.158333</td>\n      <td>52.472500</td>\n    </tr>\n    <tr>\n      <th>34</th>\n      <td>240</td>\n      <td>20</td>\n      <td>21.600000</td>\n      <td>44.360000</td>\n      <td>21.000000</td>\n      <td>43.833333</td>\n      <td>20.500000</td>\n      <td>45.730000</td>\n      <td>20.596667</td>\n      <td>47.223333</td>\n      <td>19.200000</td>\n      <td>51.990000</td>\n    </tr>\n    <tr>\n      <th>35</th>\n      <td>60</td>\n      <td>20</td>\n      <td>21.600000</td>\n      <td>44.200000</td>\n      <td>21.000000</td>\n      <td>43.700000</td>\n      <td>20.500000</td>\n      <td>45.590000</td>\n      <td>20.996667</td>\n      <td>47.030000</td>\n      <td>19.222500</td>\n      <td>51.520000</td>\n    </tr>\n  </tbody>\n</table>\n</div>"
     },
     "execution_count": 22,
     "metadata": {},
     "output_type": "execute_result"
    }
   ],
   "source": [
    "tmp = dat_df[dat_df['cum_6hour'] == 0]\n",
    "tmp.columns\n",
    "\n",
    "tmp.drop(['cum_6hour'], axis=1)"
   ],
   "metadata": {
    "collapsed": false,
    "pycharm": {
     "name": "#%%\n"
    }
   }
  },
  {
   "cell_type": "code",
   "execution_count": null,
   "outputs": [],
   "source": [],
   "metadata": {
    "collapsed": false,
    "pycharm": {
     "name": "#%%\n"
    }
   }
  },
  {
   "cell_type": "code",
   "execution_count": 24,
   "outputs": [
    {
     "data": {
      "text/plain": "    Appliances     lights         T1       RH_1         T2       RH_2  \\\n5    55.000000  35.000000  19.890000  46.502778  19.200000  44.626528   \n6    55.000000  38.333333  19.890000  46.197778  19.200000  44.578194   \n7    55.000000  41.666667  19.884444  46.008889  19.200000  44.541111   \n8    56.666667  43.333333  19.867778  45.891806  19.200000  44.508889   \n9    60.000000  43.333333  19.862222  45.895694  19.205000  44.477222   \n10   88.333333  48.333333  19.868333  45.817361  19.231111  44.455556   \n11  176.666667  51.666667  19.897778  45.879028  19.268889  44.438889   \n12  238.333333  51.666667  19.938333  46.251250  19.330000  44.422222   \n13  270.000000  50.000000  20.005556  47.445694  19.418333  44.522222   \n14  276.666667  45.000000  20.111667  49.161667  19.527778  44.755556   \n15  281.666667  40.000000  20.230000  50.462222  19.661667  45.148333   \n16  258.333333  30.000000  20.363889  51.595000  19.796667  45.618889   \n17  173.333333  25.000000  20.495556  52.805556  19.925556  46.061667   \n18  115.000000  21.666667  20.621667  53.337778  20.031111  46.383333   \n19   96.666667  21.666667  20.726667  52.850000  20.109444  46.537778   \n20  100.000000  23.333333  20.803889  51.606667  20.166667  46.519306   \n21  115.000000  28.333333  20.870000  50.563333  20.204444  46.314861   \n22  118.333333  33.333333  20.920556  49.630556  20.225000  45.981528   \n23  125.000000  35.000000  20.961111  48.453333  20.251111  45.632639   \n24  130.000000  35.000000  21.001667  47.597778  20.288889  45.370972   \n25  125.000000  31.666667  21.053333  46.931111  20.338889  45.159861   \n26  121.666667  33.333333  21.120000  46.508889  20.394444  45.054444   \n27  106.666667  30.000000  21.185556  46.207778  20.462222  44.993333   \n28  105.000000  26.666667  21.245000  45.978889  20.530556  44.966111   \n29  103.333333  23.333333  21.311667  45.768333  20.587778  44.961111   \n30  103.333333  21.666667  21.372778  45.612778  20.648333  44.940000   \n31  151.666667  21.666667  21.428333  45.473889  20.696667  44.873333   \n32  201.666667  20.000000  21.480000  45.285000  20.756111  44.728889   \n33  250.000000  21.666667  21.520556  45.073889  20.805556  44.528889   \n34  273.333333  21.666667  21.555556  44.852222  20.855556  44.324444   \n35  266.666667  21.666667  21.572222  44.663333  20.905556  44.118889   \n\n           T3       RH_3         T4       RH_4         T5       RH_5  \\\n5   19.790000  44.897778  18.932778  45.738750  17.166667  55.116667   \n6   19.790000  44.926111  18.914444  45.775972  17.155556  55.077778   \n7   19.780000  44.944444  18.896111  45.754444  17.144444  55.027778   \n8   19.770000  44.920556  18.890000  45.737778  17.144444  55.012778   \n9   19.770000  44.897778  18.890000  45.800000  17.133333  54.997778   \n10  19.770000  44.881111  18.890000  45.950000  17.116667  54.982778   \n11  19.770000  44.863333  18.908333  46.066667  17.111111  54.977778   \n12  19.786667  44.863333  18.926667  46.162222  17.111111  54.998333   \n13  19.813333  44.962222  18.945000  46.388889  17.111111  55.042222   \n14  19.863889  45.418333  18.963333  46.873333  17.100000  55.125556   \n15  19.915556  46.018889  18.981667  47.272222  17.108333  55.299306   \n16  19.983889  46.623889  18.987778  47.560000  17.119444  55.547639   \n17  20.052222  47.227361  18.969444  47.815556  17.136111  55.869861   \n18  20.103889  47.776250  18.963333  48.193333  17.152778  56.198194   \n19  20.150000  48.132917  18.968889  48.572778  17.235000  58.792083   \n20  20.172222  48.095139  18.998056  48.781250  17.396111  62.708750   \n21  20.188889  47.855139  19.041389  48.982361  17.482222  66.656667   \n22  20.198889  47.571250  19.107500  49.150694  17.554444  70.451111   \n23  20.213889  47.268889  19.190833  49.227917  17.615556  74.027778   \n24  20.228889  46.975556  19.261944  49.155139  17.708889  78.261111   \n25  20.266111  46.740556  19.321389  48.871806  17.836111  80.238333   \n26  20.303333  46.538889  19.357222  48.473889  17.884444  78.903333   \n27  20.335000  46.382778  19.378889  48.107778  18.040000  76.020000   \n28  20.356667  46.260000  19.396111  47.912222  18.217778  72.648889   \n29  20.373333  46.164444  19.425556  47.918889  18.427222  69.037778   \n30  20.390000  46.092222  19.471667  47.902222  18.627778  64.516667   \n31  20.396111  46.043889  19.506667  47.852222  18.740556  59.767222   \n32  20.414444  46.017778  19.557778  47.863333  18.864444  56.830000   \n33  20.432778  45.967778  19.675556  47.874444  18.957500  55.170417   \n34  20.451111  45.907778  19.870556  47.746111  19.046389  53.997083   \n35  20.469444  45.829444  20.108889  47.506667  19.112917  53.129306   \n\n    cum_6hour  \n5         0.0  \n6         0.0  \n7         0.0  \n8         0.0  \n9         0.0  \n10        0.0  \n11        0.0  \n12        0.0  \n13        0.0  \n14        0.0  \n15        0.0  \n16        0.0  \n17        0.0  \n18        0.0  \n19        0.0  \n20        0.0  \n21        0.0  \n22        0.0  \n23        0.0  \n24        0.0  \n25        0.0  \n26        0.0  \n27        0.0  \n28        0.0  \n29        0.0  \n30        0.0  \n31        0.0  \n32        0.0  \n33        0.0  \n34        0.0  \n35        0.0  ",
      "text/html": "<div>\n<style scoped>\n    .dataframe tbody tr th:only-of-type {\n        vertical-align: middle;\n    }\n\n    .dataframe tbody tr th {\n        vertical-align: top;\n    }\n\n    .dataframe thead th {\n        text-align: right;\n    }\n</style>\n<table border=\"1\" class=\"dataframe\">\n  <thead>\n    <tr style=\"text-align: right;\">\n      <th></th>\n      <th>Appliances</th>\n      <th>lights</th>\n      <th>T1</th>\n      <th>RH_1</th>\n      <th>T2</th>\n      <th>RH_2</th>\n      <th>T3</th>\n      <th>RH_3</th>\n      <th>T4</th>\n      <th>RH_4</th>\n      <th>T5</th>\n      <th>RH_5</th>\n      <th>cum_6hour</th>\n    </tr>\n  </thead>\n  <tbody>\n    <tr>\n      <th>5</th>\n      <td>55.000000</td>\n      <td>35.000000</td>\n      <td>19.890000</td>\n      <td>46.502778</td>\n      <td>19.200000</td>\n      <td>44.626528</td>\n      <td>19.790000</td>\n      <td>44.897778</td>\n      <td>18.932778</td>\n      <td>45.738750</td>\n      <td>17.166667</td>\n      <td>55.116667</td>\n      <td>0.0</td>\n    </tr>\n    <tr>\n      <th>6</th>\n      <td>55.000000</td>\n      <td>38.333333</td>\n      <td>19.890000</td>\n      <td>46.197778</td>\n      <td>19.200000</td>\n      <td>44.578194</td>\n      <td>19.790000</td>\n      <td>44.926111</td>\n      <td>18.914444</td>\n      <td>45.775972</td>\n      <td>17.155556</td>\n      <td>55.077778</td>\n      <td>0.0</td>\n    </tr>\n    <tr>\n      <th>7</th>\n      <td>55.000000</td>\n      <td>41.666667</td>\n      <td>19.884444</td>\n      <td>46.008889</td>\n      <td>19.200000</td>\n      <td>44.541111</td>\n      <td>19.780000</td>\n      <td>44.944444</td>\n      <td>18.896111</td>\n      <td>45.754444</td>\n      <td>17.144444</td>\n      <td>55.027778</td>\n      <td>0.0</td>\n    </tr>\n    <tr>\n      <th>8</th>\n      <td>56.666667</td>\n      <td>43.333333</td>\n      <td>19.867778</td>\n      <td>45.891806</td>\n      <td>19.200000</td>\n      <td>44.508889</td>\n      <td>19.770000</td>\n      <td>44.920556</td>\n      <td>18.890000</td>\n      <td>45.737778</td>\n      <td>17.144444</td>\n      <td>55.012778</td>\n      <td>0.0</td>\n    </tr>\n    <tr>\n      <th>9</th>\n      <td>60.000000</td>\n      <td>43.333333</td>\n      <td>19.862222</td>\n      <td>45.895694</td>\n      <td>19.205000</td>\n      <td>44.477222</td>\n      <td>19.770000</td>\n      <td>44.897778</td>\n      <td>18.890000</td>\n      <td>45.800000</td>\n      <td>17.133333</td>\n      <td>54.997778</td>\n      <td>0.0</td>\n    </tr>\n    <tr>\n      <th>10</th>\n      <td>88.333333</td>\n      <td>48.333333</td>\n      <td>19.868333</td>\n      <td>45.817361</td>\n      <td>19.231111</td>\n      <td>44.455556</td>\n      <td>19.770000</td>\n      <td>44.881111</td>\n      <td>18.890000</td>\n      <td>45.950000</td>\n      <td>17.116667</td>\n      <td>54.982778</td>\n      <td>0.0</td>\n    </tr>\n    <tr>\n      <th>11</th>\n      <td>176.666667</td>\n      <td>51.666667</td>\n      <td>19.897778</td>\n      <td>45.879028</td>\n      <td>19.268889</td>\n      <td>44.438889</td>\n      <td>19.770000</td>\n      <td>44.863333</td>\n      <td>18.908333</td>\n      <td>46.066667</td>\n      <td>17.111111</td>\n      <td>54.977778</td>\n      <td>0.0</td>\n    </tr>\n    <tr>\n      <th>12</th>\n      <td>238.333333</td>\n      <td>51.666667</td>\n      <td>19.938333</td>\n      <td>46.251250</td>\n      <td>19.330000</td>\n      <td>44.422222</td>\n      <td>19.786667</td>\n      <td>44.863333</td>\n      <td>18.926667</td>\n      <td>46.162222</td>\n      <td>17.111111</td>\n      <td>54.998333</td>\n      <td>0.0</td>\n    </tr>\n    <tr>\n      <th>13</th>\n      <td>270.000000</td>\n      <td>50.000000</td>\n      <td>20.005556</td>\n      <td>47.445694</td>\n      <td>19.418333</td>\n      <td>44.522222</td>\n      <td>19.813333</td>\n      <td>44.962222</td>\n      <td>18.945000</td>\n      <td>46.388889</td>\n      <td>17.111111</td>\n      <td>55.042222</td>\n      <td>0.0</td>\n    </tr>\n    <tr>\n      <th>14</th>\n      <td>276.666667</td>\n      <td>45.000000</td>\n      <td>20.111667</td>\n      <td>49.161667</td>\n      <td>19.527778</td>\n      <td>44.755556</td>\n      <td>19.863889</td>\n      <td>45.418333</td>\n      <td>18.963333</td>\n      <td>46.873333</td>\n      <td>17.100000</td>\n      <td>55.125556</td>\n      <td>0.0</td>\n    </tr>\n    <tr>\n      <th>15</th>\n      <td>281.666667</td>\n      <td>40.000000</td>\n      <td>20.230000</td>\n      <td>50.462222</td>\n      <td>19.661667</td>\n      <td>45.148333</td>\n      <td>19.915556</td>\n      <td>46.018889</td>\n      <td>18.981667</td>\n      <td>47.272222</td>\n      <td>17.108333</td>\n      <td>55.299306</td>\n      <td>0.0</td>\n    </tr>\n    <tr>\n      <th>16</th>\n      <td>258.333333</td>\n      <td>30.000000</td>\n      <td>20.363889</td>\n      <td>51.595000</td>\n      <td>19.796667</td>\n      <td>45.618889</td>\n      <td>19.983889</td>\n      <td>46.623889</td>\n      <td>18.987778</td>\n      <td>47.560000</td>\n      <td>17.119444</td>\n      <td>55.547639</td>\n      <td>0.0</td>\n    </tr>\n    <tr>\n      <th>17</th>\n      <td>173.333333</td>\n      <td>25.000000</td>\n      <td>20.495556</td>\n      <td>52.805556</td>\n      <td>19.925556</td>\n      <td>46.061667</td>\n      <td>20.052222</td>\n      <td>47.227361</td>\n      <td>18.969444</td>\n      <td>47.815556</td>\n      <td>17.136111</td>\n      <td>55.869861</td>\n      <td>0.0</td>\n    </tr>\n    <tr>\n      <th>18</th>\n      <td>115.000000</td>\n      <td>21.666667</td>\n      <td>20.621667</td>\n      <td>53.337778</td>\n      <td>20.031111</td>\n      <td>46.383333</td>\n      <td>20.103889</td>\n      <td>47.776250</td>\n      <td>18.963333</td>\n      <td>48.193333</td>\n      <td>17.152778</td>\n      <td>56.198194</td>\n      <td>0.0</td>\n    </tr>\n    <tr>\n      <th>19</th>\n      <td>96.666667</td>\n      <td>21.666667</td>\n      <td>20.726667</td>\n      <td>52.850000</td>\n      <td>20.109444</td>\n      <td>46.537778</td>\n      <td>20.150000</td>\n      <td>48.132917</td>\n      <td>18.968889</td>\n      <td>48.572778</td>\n      <td>17.235000</td>\n      <td>58.792083</td>\n      <td>0.0</td>\n    </tr>\n    <tr>\n      <th>20</th>\n      <td>100.000000</td>\n      <td>23.333333</td>\n      <td>20.803889</td>\n      <td>51.606667</td>\n      <td>20.166667</td>\n      <td>46.519306</td>\n      <td>20.172222</td>\n      <td>48.095139</td>\n      <td>18.998056</td>\n      <td>48.781250</td>\n      <td>17.396111</td>\n      <td>62.708750</td>\n      <td>0.0</td>\n    </tr>\n    <tr>\n      <th>21</th>\n      <td>115.000000</td>\n      <td>28.333333</td>\n      <td>20.870000</td>\n      <td>50.563333</td>\n      <td>20.204444</td>\n      <td>46.314861</td>\n      <td>20.188889</td>\n      <td>47.855139</td>\n      <td>19.041389</td>\n      <td>48.982361</td>\n      <td>17.482222</td>\n      <td>66.656667</td>\n      <td>0.0</td>\n    </tr>\n    <tr>\n      <th>22</th>\n      <td>118.333333</td>\n      <td>33.333333</td>\n      <td>20.920556</td>\n      <td>49.630556</td>\n      <td>20.225000</td>\n      <td>45.981528</td>\n      <td>20.198889</td>\n      <td>47.571250</td>\n      <td>19.107500</td>\n      <td>49.150694</td>\n      <td>17.554444</td>\n      <td>70.451111</td>\n      <td>0.0</td>\n    </tr>\n    <tr>\n      <th>23</th>\n      <td>125.000000</td>\n      <td>35.000000</td>\n      <td>20.961111</td>\n      <td>48.453333</td>\n      <td>20.251111</td>\n      <td>45.632639</td>\n      <td>20.213889</td>\n      <td>47.268889</td>\n      <td>19.190833</td>\n      <td>49.227917</td>\n      <td>17.615556</td>\n      <td>74.027778</td>\n      <td>0.0</td>\n    </tr>\n    <tr>\n      <th>24</th>\n      <td>130.000000</td>\n      <td>35.000000</td>\n      <td>21.001667</td>\n      <td>47.597778</td>\n      <td>20.288889</td>\n      <td>45.370972</td>\n      <td>20.228889</td>\n      <td>46.975556</td>\n      <td>19.261944</td>\n      <td>49.155139</td>\n      <td>17.708889</td>\n      <td>78.261111</td>\n      <td>0.0</td>\n    </tr>\n    <tr>\n      <th>25</th>\n      <td>125.000000</td>\n      <td>31.666667</td>\n      <td>21.053333</td>\n      <td>46.931111</td>\n      <td>20.338889</td>\n      <td>45.159861</td>\n      <td>20.266111</td>\n      <td>46.740556</td>\n      <td>19.321389</td>\n      <td>48.871806</td>\n      <td>17.836111</td>\n      <td>80.238333</td>\n      <td>0.0</td>\n    </tr>\n    <tr>\n      <th>26</th>\n      <td>121.666667</td>\n      <td>33.333333</td>\n      <td>21.120000</td>\n      <td>46.508889</td>\n      <td>20.394444</td>\n      <td>45.054444</td>\n      <td>20.303333</td>\n      <td>46.538889</td>\n      <td>19.357222</td>\n      <td>48.473889</td>\n      <td>17.884444</td>\n      <td>78.903333</td>\n      <td>0.0</td>\n    </tr>\n    <tr>\n      <th>27</th>\n      <td>106.666667</td>\n      <td>30.000000</td>\n      <td>21.185556</td>\n      <td>46.207778</td>\n      <td>20.462222</td>\n      <td>44.993333</td>\n      <td>20.335000</td>\n      <td>46.382778</td>\n      <td>19.378889</td>\n      <td>48.107778</td>\n      <td>18.040000</td>\n      <td>76.020000</td>\n      <td>0.0</td>\n    </tr>\n    <tr>\n      <th>28</th>\n      <td>105.000000</td>\n      <td>26.666667</td>\n      <td>21.245000</td>\n      <td>45.978889</td>\n      <td>20.530556</td>\n      <td>44.966111</td>\n      <td>20.356667</td>\n      <td>46.260000</td>\n      <td>19.396111</td>\n      <td>47.912222</td>\n      <td>18.217778</td>\n      <td>72.648889</td>\n      <td>0.0</td>\n    </tr>\n    <tr>\n      <th>29</th>\n      <td>103.333333</td>\n      <td>23.333333</td>\n      <td>21.311667</td>\n      <td>45.768333</td>\n      <td>20.587778</td>\n      <td>44.961111</td>\n      <td>20.373333</td>\n      <td>46.164444</td>\n      <td>19.425556</td>\n      <td>47.918889</td>\n      <td>18.427222</td>\n      <td>69.037778</td>\n      <td>0.0</td>\n    </tr>\n    <tr>\n      <th>30</th>\n      <td>103.333333</td>\n      <td>21.666667</td>\n      <td>21.372778</td>\n      <td>45.612778</td>\n      <td>20.648333</td>\n      <td>44.940000</td>\n      <td>20.390000</td>\n      <td>46.092222</td>\n      <td>19.471667</td>\n      <td>47.902222</td>\n      <td>18.627778</td>\n      <td>64.516667</td>\n      <td>0.0</td>\n    </tr>\n    <tr>\n      <th>31</th>\n      <td>151.666667</td>\n      <td>21.666667</td>\n      <td>21.428333</td>\n      <td>45.473889</td>\n      <td>20.696667</td>\n      <td>44.873333</td>\n      <td>20.396111</td>\n      <td>46.043889</td>\n      <td>19.506667</td>\n      <td>47.852222</td>\n      <td>18.740556</td>\n      <td>59.767222</td>\n      <td>0.0</td>\n    </tr>\n    <tr>\n      <th>32</th>\n      <td>201.666667</td>\n      <td>20.000000</td>\n      <td>21.480000</td>\n      <td>45.285000</td>\n      <td>20.756111</td>\n      <td>44.728889</td>\n      <td>20.414444</td>\n      <td>46.017778</td>\n      <td>19.557778</td>\n      <td>47.863333</td>\n      <td>18.864444</td>\n      <td>56.830000</td>\n      <td>0.0</td>\n    </tr>\n    <tr>\n      <th>33</th>\n      <td>250.000000</td>\n      <td>21.666667</td>\n      <td>21.520556</td>\n      <td>45.073889</td>\n      <td>20.805556</td>\n      <td>44.528889</td>\n      <td>20.432778</td>\n      <td>45.967778</td>\n      <td>19.675556</td>\n      <td>47.874444</td>\n      <td>18.957500</td>\n      <td>55.170417</td>\n      <td>0.0</td>\n    </tr>\n    <tr>\n      <th>34</th>\n      <td>273.333333</td>\n      <td>21.666667</td>\n      <td>21.555556</td>\n      <td>44.852222</td>\n      <td>20.855556</td>\n      <td>44.324444</td>\n      <td>20.451111</td>\n      <td>45.907778</td>\n      <td>19.870556</td>\n      <td>47.746111</td>\n      <td>19.046389</td>\n      <td>53.997083</td>\n      <td>0.0</td>\n    </tr>\n    <tr>\n      <th>35</th>\n      <td>266.666667</td>\n      <td>21.666667</td>\n      <td>21.572222</td>\n      <td>44.663333</td>\n      <td>20.905556</td>\n      <td>44.118889</td>\n      <td>20.469444</td>\n      <td>45.829444</td>\n      <td>20.108889</td>\n      <td>47.506667</td>\n      <td>19.112917</td>\n      <td>53.129306</td>\n      <td>0.0</td>\n    </tr>\n  </tbody>\n</table>\n</div>"
     },
     "execution_count": 24,
     "metadata": {},
     "output_type": "execute_result"
    }
   ],
   "source": [
    "tmp= tmp.rolling(6).mean()\n",
    "tmp = tmp.dropna()\n",
    "\n",
    "tmp"
   ],
   "metadata": {
    "collapsed": false,
    "pycharm": {
     "name": "#%%\n"
    }
   }
  },
  {
   "cell_type": "code",
   "execution_count": 26,
   "outputs": [
    {
     "name": "stdout",
     "output_type": "stream",
     "text": [
      "372\n"
     ]
    },
    {
     "data": {
      "text/plain": "             0\n0    55.000000\n1    55.000000\n2    55.000000\n3    56.666667\n4    60.000000\n..         ...\n367  59.767222\n368  56.830000\n369  55.170417\n370  53.997083\n371  53.129306\n\n[372 rows x 1 columns]",
      "text/html": "<div>\n<style scoped>\n    .dataframe tbody tr th:only-of-type {\n        vertical-align: middle;\n    }\n\n    .dataframe tbody tr th {\n        vertical-align: top;\n    }\n\n    .dataframe thead th {\n        text-align: right;\n    }\n</style>\n<table border=\"1\" class=\"dataframe\">\n  <thead>\n    <tr style=\"text-align: right;\">\n      <th></th>\n      <th>0</th>\n    </tr>\n  </thead>\n  <tbody>\n    <tr>\n      <th>0</th>\n      <td>55.000000</td>\n    </tr>\n    <tr>\n      <th>1</th>\n      <td>55.000000</td>\n    </tr>\n    <tr>\n      <th>2</th>\n      <td>55.000000</td>\n    </tr>\n    <tr>\n      <th>3</th>\n      <td>56.666667</td>\n    </tr>\n    <tr>\n      <th>4</th>\n      <td>60.000000</td>\n    </tr>\n    <tr>\n      <th>...</th>\n      <td>...</td>\n    </tr>\n    <tr>\n      <th>367</th>\n      <td>59.767222</td>\n    </tr>\n    <tr>\n      <th>368</th>\n      <td>56.830000</td>\n    </tr>\n    <tr>\n      <th>369</th>\n      <td>55.170417</td>\n    </tr>\n    <tr>\n      <th>370</th>\n      <td>53.997083</td>\n    </tr>\n    <tr>\n      <th>371</th>\n      <td>53.129306</td>\n    </tr>\n  </tbody>\n</table>\n<p>372 rows × 1 columns</p>\n</div>"
     },
     "execution_count": 26,
     "metadata": {},
     "output_type": "execute_result"
    }
   ],
   "source": [
    "import numpy as np\n",
    "\n",
    "# 특징량을 결합\n",
    "tmp2 = (np.array(tmp['Appliances']).tolist() + np.array(tmp['lights']).tolist() +\n",
    "        np.array(tmp['T1']).tolist() + np.array(tmp['RH_1']).tolist() +\n",
    "        np.array(tmp['T2']).tolist() + np.array(tmp['RH_2']).tolist() +\n",
    "        np.array(tmp['T3']).tolist() + np.array(tmp['RH_3']).tolist() +\n",
    "        np.array(tmp['T4']).tolist() + np.array(tmp['RH_4']).tolist() +\n",
    "        np.array(tmp['T5']).tolist() + np.array(tmp['RH_5']).tolist())\n",
    "\n",
    "# 특징량의 길이를 확인\n",
    "print(len(tmp2))\n",
    "# 특징량을 행방향으로 정렬시켜서 확인\n",
    "pd.DataFrame(tmp2)"
   ],
   "metadata": {
    "collapsed": false,
    "pycharm": {
     "name": "#%%\n"
    }
   }
  },
  {
   "cell_type": "code",
   "execution_count": null,
   "outputs": [],
   "source": [],
   "metadata": {
    "collapsed": false,
    "pycharm": {
     "name": "#%%\n"
    }
   }
  }
 ],
 "metadata": {
  "kernelspec": {
   "display_name": "Python 3",
   "language": "python",
   "name": "python3"
  },
  "language_info": {
   "codemirror_mode": {
    "name": "ipython",
    "version": 2
   },
   "file_extension": ".py",
   "mimetype": "text/x-python",
   "name": "python",
   "nbconvert_exporter": "python",
   "pygments_lexer": "ipython2",
   "version": "2.7.6"
  }
 },
 "nbformat": 4,
 "nbformat_minor": 0
}