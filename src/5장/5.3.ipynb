{
 "cells": [
  {
   "cell_type": "code",
   "execution_count": 18,
   "metadata": {
    "collapsed": true
   },
   "outputs": [
    {
     "name": "stdout",
     "output_type": "stream",
     "text": [
      "0\n",
      "0\n",
      "0\n",
      "0\n",
      "0\n",
      "0\n",
      "0\n",
      "0\n",
      "0\n",
      "0\n",
      "0\n",
      "0\n",
      "0\n",
      "0\n",
      "0\n",
      "0\n",
      "0\n",
      "0\n",
      "0\n",
      "0\n",
      "0\n",
      "0\n",
      "0\n",
      "0\n",
      "0\n",
      "0\n",
      "0\n",
      "0\n",
      "0\n",
      "0\n",
      "0\n",
      "0\n",
      "0\n",
      "0\n",
      "0\n",
      "0\n",
      "0\n",
      "0\n",
      "0\n",
      "0\n",
      "0\n",
      "0\n",
      "0\n",
      "0\n",
      "0\n",
      "0\n",
      "0\n",
      "0\n",
      "0\n",
      "0\n",
      "1\n",
      "1\n",
      "1\n",
      "1\n",
      "1\n",
      "1\n",
      "1\n",
      "1\n",
      "1\n",
      "1\n",
      "1\n",
      "1\n",
      "1\n",
      "1\n",
      "1\n",
      "1\n",
      "1\n",
      "1\n",
      "1\n",
      "1\n",
      "1\n",
      "1\n",
      "1\n",
      "1\n",
      "1\n",
      "1\n",
      "1\n",
      "1\n",
      "1\n",
      "1\n",
      "1\n",
      "1\n",
      "1\n",
      "1\n",
      "1\n",
      "1\n",
      "1\n",
      "1\n",
      "1\n",
      "1\n",
      "1\n",
      "1\n",
      "1\n",
      "1\n",
      "1\n",
      "1\n",
      "1\n",
      "1\n",
      "1\n",
      "1\n",
      "1\n",
      "1\n",
      "1\n",
      "1\n",
      "1\n",
      "1\n",
      "1\n",
      "1\n",
      "1\n",
      "1\n",
      "1\n",
      "1\n",
      "1\n",
      "1\n",
      "1\n",
      "1\n",
      "1\n",
      "1\n",
      "1\n",
      "1\n",
      "1\n",
      "1\n",
      "1\n",
      "1\n",
      "1\n",
      "1\n",
      "1\n",
      "1\n",
      "1\n",
      "1\n",
      "1\n",
      "1\n",
      "132\n"
     ]
    }
   ],
   "source": [
    "import os\n",
    "import cv2\n",
    "import numpy as np\n",
    "\n",
    "dirs = ['ants_1', 'bees']\n",
    "pixels = []\n",
    "labels = []\n",
    "cnt =0\n",
    "for i, d in enumerate(dirs):\n",
    "    #print(i , d)\n",
    "    files = os.listdir('../data/' + d)\n",
    "\n",
    "    for f in files :\n",
    "        img = cv2.imread('../data/' + d + '/' + f, 0)\n",
    "        img = cv2.resize(img, (128, 128))\n",
    "        img = np.array(img).flatten().tolist()\n",
    "        pixels.append(img)\n",
    "        labels.append(i)\n",
    "        print(i)\n",
    "        cnt = cnt+1\n",
    "print(cnt)"
   ]
  },
  {
   "cell_type": "code",
   "execution_count": 19,
   "outputs": [
    {
     "name": "stdout",
     "output_type": "stream",
     "text": [
      "(132, 128, 128, 1)\n",
      "0\n"
     ]
    }
   ],
   "source": [
    "pixels = np.array(pixels)/255.0\n",
    "\n",
    "pixels = pixels.reshape([-1, 128,128, 1])\n",
    "labels = np.array(labels)\n",
    "\n",
    "print(pixels.shape)\n",
    "print(labels[0])"
   ],
   "metadata": {
    "collapsed": false,
    "pycharm": {
     "name": "#%%\n"
    }
   }
  },
  {
   "cell_type": "code",
   "execution_count": 20,
   "outputs": [
    {
     "name": "stdout",
     "output_type": "stream",
     "text": [
      "(105, 128, 128, 1)\n",
      "(27, 128, 128, 1)\n",
      "(105,)\n"
     ]
    }
   ],
   "source": [
    "from sklearn.model_selection import train_test_split\n",
    "\n",
    "train_input, train_test, target_input, target_test = train_test_split(pixels, labels, random_state=42, test_size=0.2)\n",
    "\n",
    "print(train_input.shape)\n",
    "print(train_test.shape)\n",
    "print(target_input.shape)"
   ],
   "metadata": {
    "collapsed": false,
    "pycharm": {
     "name": "#%%\n"
    }
   }
  },
  {
   "cell_type": "markdown",
   "source": [
    "연습문제 7"
   ],
   "metadata": {
    "collapsed": false,
    "pycharm": {
     "name": "#%% md\n"
    }
   }
  },
  {
   "cell_type": "code",
   "execution_count": 21,
   "outputs": [
    {
     "name": "stderr",
     "output_type": "stream",
     "text": [
      "C:\\Users\\user\\AppData\\Local\\Temp/ipykernel_11392/96120212.py:12: DeprecationWarning: tostring() is deprecated. Use tobytes() instead.\n",
      "  b = np.array(b).flatten().tostring()\n",
      "C:\\Users\\user\\AppData\\Local\\Temp/ipykernel_11392/96120212.py:13: DeprecationWarning: tostring() is deprecated. Use tobytes() instead.\n",
      "  g = np.array(g).flatten().tostring()\n",
      "C:\\Users\\user\\AppData\\Local\\Temp/ipykernel_11392/96120212.py:14: DeprecationWarning: tostring() is deprecated. Use tobytes() instead.\n",
      "  r = np.array(r).flatten().tostring()\n"
     ]
    },
    {
     "name": "stdout",
     "output_type": "stream",
     "text": [
      "132\n",
      "132\n"
     ]
    }
   ],
   "source": [
    "pixels2 = []\n",
    "labels2 = []\n",
    "path ='../data/'\n",
    "\n",
    "for i, d in enumerate(dirs):\n",
    "    files = os.listdir(path + d)\n",
    "\n",
    "    for file in files:\n",
    "        img = cv2.imread(path + d +'/' + file)\n",
    "        img = cv2.resize(img,(128, 128))\n",
    "        b, g, r = cv2.split(img)\n",
    "        b = np.array(b).flatten().tostring()\n",
    "        g = np.array(g).flatten().tostring()\n",
    "        r = np.array(r).flatten().tostring()\n",
    "\n",
    "        tmp = b + g + r\n",
    "        pixels2.append(tmp)\n",
    "        labels2.append(i)\n",
    "print(len(pixels2))\n",
    "print(len(labels2))\n",
    "\n",
    "train_input2, train_test2,target_input2, target_test2 = train_test_split(pixels2, labels2, test_size=0.2, random_state=42)"
   ],
   "metadata": {
    "collapsed": false,
    "pycharm": {
     "name": "#%%\n"
    }
   }
  },
  {
   "cell_type": "markdown",
   "source": [
    "이미지 반전"
   ],
   "metadata": {
    "collapsed": false
   }
  },
  {
   "cell_type": "code",
   "execution_count": 23,
   "outputs": [
    {
     "data": {
      "text/plain": "True"
     },
     "execution_count": 23,
     "metadata": {},
     "output_type": "execute_result"
    }
   ],
   "source": [
    "img = cv2.imread('../data/ants_1/0013035.jpg')\n",
    "\n",
    "x_img = cv2.flip(img, 0)\n",
    "y_img = cv2.flip(img, 1)\n",
    "z_img = cv2.flip(img, -1)\n",
    "\n",
    "cv2.imwrite('x_img.jpg', x_img)\n",
    "cv2.imwrite('y_img.jpg', y_img)\n",
    "cv2.imwrite('z_img.jpg', z_img)"
   ],
   "metadata": {
    "collapsed": false,
    "pycharm": {
     "name": "#%%\n"
    }
   }
  },
  {
   "cell_type": "code",
   "execution_count": null,
   "outputs": [],
   "source": [],
   "metadata": {
    "collapsed": false,
    "pycharm": {
     "name": "#%%\n"
    }
   }
  }
 ],
 "metadata": {
  "kernelspec": {
   "display_name": "Python 3",
   "language": "python",
   "name": "python3"
  },
  "language_info": {
   "codemirror_mode": {
    "name": "ipython",
    "version": 2
   },
   "file_extension": ".py",
   "mimetype": "text/x-python",
   "name": "python",
   "nbconvert_exporter": "python",
   "pygments_lexer": "ipython2",
   "version": "2.7.6"
  }
 },
 "nbformat": 4,
 "nbformat_minor": 0
}