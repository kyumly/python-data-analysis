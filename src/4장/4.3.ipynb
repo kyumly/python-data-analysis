{
 "cells": [
  {
   "cell_type": "code",
   "execution_count": 1,
   "metadata": {
    "collapsed": true
   },
   "outputs": [
    {
     "data": {
      "text/plain": "   age  default  balance  loan  day  duration  campaign  pdays  previous  y  \\\n0   58        0     2143     0    5       261         1     -1         0  0   \n1   36        0      265     1    5       348         1     -1         0  0   \n2   25        0       -7     0    5       365         1     -1         0  0   \n3   53        0       -3     0    5      1666         1     -1         0  0   \n4   24        0     -103     1    5       145         1     -1         0  0   \n\n   ...  dec  feb  jan  jul  jun  mar  may  nov  oct  sep  \n0  ...    0    0    0    0    0    0    1    0    0    0  \n1  ...    0    0    0    0    0    0    1    0    0    0  \n2  ...    0    0    0    0    0    0    1    0    0    0  \n3  ...    0    0    0    0    0    0    1    0    0    0  \n4  ...    0    0    0    0    0    0    1    0    0    0  \n\n[5 rows x 31 columns]",
      "text/html": "<div>\n<style scoped>\n    .dataframe tbody tr th:only-of-type {\n        vertical-align: middle;\n    }\n\n    .dataframe tbody tr th {\n        vertical-align: top;\n    }\n\n    .dataframe thead th {\n        text-align: right;\n    }\n</style>\n<table border=\"1\" class=\"dataframe\">\n  <thead>\n    <tr style=\"text-align: right;\">\n      <th></th>\n      <th>age</th>\n      <th>default</th>\n      <th>balance</th>\n      <th>loan</th>\n      <th>day</th>\n      <th>duration</th>\n      <th>campaign</th>\n      <th>pdays</th>\n      <th>previous</th>\n      <th>y</th>\n      <th>...</th>\n      <th>dec</th>\n      <th>feb</th>\n      <th>jan</th>\n      <th>jul</th>\n      <th>jun</th>\n      <th>mar</th>\n      <th>may</th>\n      <th>nov</th>\n      <th>oct</th>\n      <th>sep</th>\n    </tr>\n  </thead>\n  <tbody>\n    <tr>\n      <th>0</th>\n      <td>58</td>\n      <td>0</td>\n      <td>2143</td>\n      <td>0</td>\n      <td>5</td>\n      <td>261</td>\n      <td>1</td>\n      <td>-1</td>\n      <td>0</td>\n      <td>0</td>\n      <td>...</td>\n      <td>0</td>\n      <td>0</td>\n      <td>0</td>\n      <td>0</td>\n      <td>0</td>\n      <td>0</td>\n      <td>1</td>\n      <td>0</td>\n      <td>0</td>\n      <td>0</td>\n    </tr>\n    <tr>\n      <th>1</th>\n      <td>36</td>\n      <td>0</td>\n      <td>265</td>\n      <td>1</td>\n      <td>5</td>\n      <td>348</td>\n      <td>1</td>\n      <td>-1</td>\n      <td>0</td>\n      <td>0</td>\n      <td>...</td>\n      <td>0</td>\n      <td>0</td>\n      <td>0</td>\n      <td>0</td>\n      <td>0</td>\n      <td>0</td>\n      <td>1</td>\n      <td>0</td>\n      <td>0</td>\n      <td>0</td>\n    </tr>\n    <tr>\n      <th>2</th>\n      <td>25</td>\n      <td>0</td>\n      <td>-7</td>\n      <td>0</td>\n      <td>5</td>\n      <td>365</td>\n      <td>1</td>\n      <td>-1</td>\n      <td>0</td>\n      <td>0</td>\n      <td>...</td>\n      <td>0</td>\n      <td>0</td>\n      <td>0</td>\n      <td>0</td>\n      <td>0</td>\n      <td>0</td>\n      <td>1</td>\n      <td>0</td>\n      <td>0</td>\n      <td>0</td>\n    </tr>\n    <tr>\n      <th>3</th>\n      <td>53</td>\n      <td>0</td>\n      <td>-3</td>\n      <td>0</td>\n      <td>5</td>\n      <td>1666</td>\n      <td>1</td>\n      <td>-1</td>\n      <td>0</td>\n      <td>0</td>\n      <td>...</td>\n      <td>0</td>\n      <td>0</td>\n      <td>0</td>\n      <td>0</td>\n      <td>0</td>\n      <td>0</td>\n      <td>1</td>\n      <td>0</td>\n      <td>0</td>\n      <td>0</td>\n    </tr>\n    <tr>\n      <th>4</th>\n      <td>24</td>\n      <td>0</td>\n      <td>-103</td>\n      <td>1</td>\n      <td>5</td>\n      <td>145</td>\n      <td>1</td>\n      <td>-1</td>\n      <td>0</td>\n      <td>0</td>\n      <td>...</td>\n      <td>0</td>\n      <td>0</td>\n      <td>0</td>\n      <td>0</td>\n      <td>0</td>\n      <td>0</td>\n      <td>1</td>\n      <td>0</td>\n      <td>0</td>\n      <td>0</td>\n    </tr>\n  </tbody>\n</table>\n<p>5 rows × 31 columns</p>\n</div>"
     },
     "execution_count": 1,
     "metadata": {},
     "output_type": "execute_result"
    }
   ],
   "source": [
    "import pandas as pd\n",
    "import os\n",
    "os.getcwd()\n",
    "bank_df = pd.read_csv('../data/bank-prep.csv', sep=',')\n",
    "#C:\\\\Users\\\\user\\\\Desktop\\\\AI 실습\\\\파이썬데이터 분석\\\\data\\\\bank-prep.csv\n",
    "bank_df.head()"
   ]
  },
  {
   "cell_type": "code",
   "execution_count": 2,
   "outputs": [],
   "source": [
    "from sklearn.preprocessing import StandardScaler\n",
    "\n",
    "sc = StandardScaler()\n",
    "\n",
    "sc.fit(bank_df)\n",
    "\n",
    "bank_df_sc = pd.DataFrame(sc.transform(bank_df), columns=bank_df.columns)"
   ],
   "metadata": {
    "collapsed": false,
    "pycharm": {
     "name": "#%%\n"
    }
   }
  },
  {
   "cell_type": "code",
   "execution_count": 3,
   "outputs": [
    {
     "name": "stdout",
     "output_type": "stream",
     "text": [
      "18\n",
      "(6933, 18)\n"
     ]
    }
   ],
   "source": [
    "from sklearn.decomposition import PCA\n",
    "\n",
    "pca = PCA(0.80)\n",
    "bank_df_pca = pca.fit_transform(bank_df_sc)\n",
    "\n",
    "print(pca.n_components_)\n",
    "print(bank_df_pca.shape)"
   ],
   "metadata": {
    "collapsed": false,
    "pycharm": {
     "name": "#%%\n"
    }
   }
  },
  {
   "cell_type": "code",
   "execution_count": 11,
   "outputs": [
    {
     "name": "stdout",
     "output_type": "stream",
     "text": [
      "0       0\n",
      "1       0\n",
      "2       0\n",
      "3       0\n",
      "4       0\n",
      "       ..\n",
      "6928    0\n",
      "6929    1\n",
      "6930    0\n",
      "6931    0\n",
      "6932    1\n",
      "Name: y, Length: 6933, dtype: int64\n"
     ]
    }
   ],
   "source": [
    "y = pd.read_csv('../data/bank-prep.csv', sep=',')['y']\n",
    "print(y)"
   ],
   "metadata": {
    "collapsed": false,
    "pycharm": {
     "name": "#%%\n"
    }
   }
  },
  {
   "cell_type": "code",
   "execution_count": 16,
   "outputs": [
    {
     "name": "stdout",
     "output_type": "stream",
     "text": [
      "(6933, 19)\n",
      "             0         1         2         3         4         5         6  \\\n",
      "0    -2.066400  0.901689  0.545575  1.930463 -0.900185  0.340225  0.346553   \n",
      "1    -2.292393 -2.626270  0.277499 -0.586547 -0.018635 -0.342242 -0.057734   \n",
      "2    -2.574350 -0.968757  1.061501 -0.506883 -1.012169 -0.060720  1.195264   \n",
      "3    -2.360338 -0.097053  2.039684  0.169390  1.405604 -0.296795  2.887949   \n",
      "4    -2.308022 -3.079531  0.000461 -0.754381 -0.566293 -0.259946 -0.247247   \n",
      "...        ...       ...       ...       ...       ...       ...       ...   \n",
      "6928  1.813013 -2.359591  0.770691 -0.834734 -0.333869  0.739371 -0.756156   \n",
      "6929  2.743848 -1.842520 -0.150333  1.976529  0.948672  1.019543  0.649291   \n",
      "6930  2.103856  1.715265  1.124256  0.393837 -0.884287  1.147959 -1.213413   \n",
      "6931  1.327679  1.109769 -0.816693  0.857529 -0.576852  0.716147  0.454839   \n",
      "6932  1.601943 -2.110052 -0.456730 -1.020569  1.711814 -0.018790  1.121086   \n",
      "\n",
      "             7         8         9        10        11        12        13  \\\n",
      "0     0.041545 -0.300246 -0.921216 -1.228754 -0.695668  0.272163  0.177850   \n",
      "1    -0.661389  0.349057 -0.586445 -0.758793 -0.219000 -0.152283 -0.325579   \n",
      "2    -0.253281 -0.124560 -0.396115 -0.992560 -0.055239  0.252866  0.016434   \n",
      "3    -1.068797 -1.180580 -0.937531 -1.377417 -0.030475  0.575750 -1.105143   \n",
      "4    -0.679632  0.590571 -0.526120 -0.691583 -0.188135 -0.195350 -0.129721   \n",
      "...        ...       ...       ...       ...       ...       ...       ...   \n",
      "6928  1.646029  1.483326 -0.532419  0.383092  0.135806 -0.910563 -0.375958   \n",
      "6929  0.470455  0.959075 -1.178904 -0.124367 -0.497769 -0.839039 -0.439716   \n",
      "6930  0.752769  1.296754 -2.018535  0.782382 -1.898102 -1.234747 -0.318732   \n",
      "6931  1.476731  0.944524 -2.075253 -0.586608 -0.192039 -0.313252 -0.190784   \n",
      "6932  0.530173  1.198070 -1.559325 -0.129988 -0.048622 -0.948563 -0.694209   \n",
      "\n",
      "            14        15        16        17  y  \n",
      "0    -0.582398  0.033845 -0.841625  0.376837  0  \n",
      "1    -0.067356 -0.043491 -0.051781 -0.156841  0  \n",
      "2    -0.063897  0.006346 -0.348356  0.060004  0  \n",
      "3     0.404793  0.181484 -0.400230  0.447347  0  \n",
      "4    -0.122079 -0.054722 -0.014053 -0.197053  0  \n",
      "...        ...       ...       ...       ... ..  \n",
      "6928  1.108812  0.146768  1.590165 -0.541562  0  \n",
      "6929  1.112777  0.320283  1.485120  0.079947  1  \n",
      "6930  0.185764  0.462775  0.550755  0.226764  0  \n",
      "6931  0.601667  0.295886  0.570894  0.132859  0  \n",
      "6932  1.315316  0.210025  1.568537 -0.380458  1  \n",
      "\n",
      "[6933 rows x 19 columns]\n"
     ]
    }
   ],
   "source": [
    "bank_df_pca = pd.DataFrame(bank_df_pca)\n",
    "bank_df_pca['y'] = y\n",
    "print(bank_df_pca.shape)\n",
    "print(bank_df_pca)"
   ],
   "metadata": {
    "collapsed": false,
    "pycharm": {
     "name": "#%%\n"
    }
   }
  },
  {
   "cell_type": "code",
   "execution_count": 19,
   "outputs": [
    {
     "data": {
      "text/plain": "<Figure size 432x288 with 1 Axes>",
      "image/png": "[encoded data removed]"
     },
     "metadata": {
      "needs_background": "light"
     },
     "output_type": "display_data"
    }
   ],
   "source": [
    "import matplotlib.pyplot as plt\n",
    "\n",
    "bank_df_pca_0 = bank_df_pca[bank_df_pca['y'] == 0]\n",
    "bank_df_pca_0 = bank_df_pca_0.drop('y', axis = 1)\n",
    "#bank_df_pca_0.head()\n",
    "\n",
    "plt.scatter(bank_df_pca_0[0], bank_df_pca_0[1], c='red', label=0)\n",
    "\n",
    "bank_df_pca_1 = bank_df_pca[bank_df_pca['y'] == 1]\n",
    "bank_df_pca_1 = bank_df_pca_1.drop('y', axis = 1)\n",
    "#bank_df_pca_0.head()\n",
    "\n",
    "plt.scatter(bank_df_pca_1[0], bank_df_pca_1[1], c='blue', label=1)\n",
    "\n",
    "plt.legend()\n",
    "\n",
    "plt.xlabel('1st-comp')\n",
    "plt.ylabel('2nd-comp')\n",
    "\n",
    "plt.show()"
   ],
   "metadata": {
    "collapsed": false,
    "pycharm": {
     "name": "#%%\n"
    }
   }
  }
 ],
 "metadata": {
  "kernelspec": {
   "display_name": "Python 3",
   "language": "python",
   "name": "python3"
  },
  "language_info": {
   "codemirror_mode": {
    "name": "ipython",
    "version": 2
   },
   "file_extension": ".py",
   "mimetype": "text/x-python",
   "name": "python",
   "nbconvert_exporter": "python",
   "pygments_lexer": "ipython2",
   "version": "2.7.6"
  }
 },
 "nbformat": 4,
 "nbformat_minor": 0
}