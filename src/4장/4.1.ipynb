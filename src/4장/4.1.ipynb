{
 "cells": [
  {
   "cell_type": "code",
   "execution_count": 11,
   "metadata": {
    "collapsed": true
   },
   "outputs": [],
   "source": [
    "import pandas as pd\n",
    "import os\n",
    "os.getcwd()\n",
    "bank_df = pd.read_csv('../data/bank-prep.csv', sep=',')\n",
    "#C:\\\\Users\\\\user\\\\Desktop\\\\AI 실습\\\\파이썬데이터 분석\\\\data\\\\bank-prep.csv"
   ]
  },
  {
   "cell_type": "code",
   "execution_count": 12,
   "outputs": [
    {
     "data": {
      "text/plain": "   age  default  balance  loan  day  duration  campaign  pdays  previous  y  \\\n0   58        0     2143     0    5       261         1     -1         0  0   \n1   36        0      265     1    5       348         1     -1         0  0   \n2   25        0       -7     0    5       365         1     -1         0  0   \n3   53        0       -3     0    5      1666         1     -1         0  0   \n4   24        0     -103     1    5       145         1     -1         0  0   \n\n   ...  dec  feb  jan  jul  jun  mar  may  nov  oct  sep  \n0  ...    0    0    0    0    0    0    1    0    0    0  \n1  ...    0    0    0    0    0    0    1    0    0    0  \n2  ...    0    0    0    0    0    0    1    0    0    0  \n3  ...    0    0    0    0    0    0    1    0    0    0  \n4  ...    0    0    0    0    0    0    1    0    0    0  \n\n[5 rows x 31 columns]",
      "text/html": "<div>\n<style scoped>\n    .dataframe tbody tr th:only-of-type {\n        vertical-align: middle;\n    }\n\n    .dataframe tbody tr th {\n        vertical-align: top;\n    }\n\n    .dataframe thead th {\n        text-align: right;\n    }\n</style>\n<table border=\"1\" class=\"dataframe\">\n  <thead>\n    <tr style=\"text-align: right;\">\n      <th></th>\n      <th>age</th>\n      <th>default</th>\n      <th>balance</th>\n      <th>loan</th>\n      <th>day</th>\n      <th>duration</th>\n      <th>campaign</th>\n      <th>pdays</th>\n      <th>previous</th>\n      <th>y</th>\n      <th>...</th>\n      <th>dec</th>\n      <th>feb</th>\n      <th>jan</th>\n      <th>jul</th>\n      <th>jun</th>\n      <th>mar</th>\n      <th>may</th>\n      <th>nov</th>\n      <th>oct</th>\n      <th>sep</th>\n    </tr>\n  </thead>\n  <tbody>\n    <tr>\n      <th>0</th>\n      <td>58</td>\n      <td>0</td>\n      <td>2143</td>\n      <td>0</td>\n      <td>5</td>\n      <td>261</td>\n      <td>1</td>\n      <td>-1</td>\n      <td>0</td>\n      <td>0</td>\n      <td>...</td>\n      <td>0</td>\n      <td>0</td>\n      <td>0</td>\n      <td>0</td>\n      <td>0</td>\n      <td>0</td>\n      <td>1</td>\n      <td>0</td>\n      <td>0</td>\n      <td>0</td>\n    </tr>\n    <tr>\n      <th>1</th>\n      <td>36</td>\n      <td>0</td>\n      <td>265</td>\n      <td>1</td>\n      <td>5</td>\n      <td>348</td>\n      <td>1</td>\n      <td>-1</td>\n      <td>0</td>\n      <td>0</td>\n      <td>...</td>\n      <td>0</td>\n      <td>0</td>\n      <td>0</td>\n      <td>0</td>\n      <td>0</td>\n      <td>0</td>\n      <td>1</td>\n      <td>0</td>\n      <td>0</td>\n      <td>0</td>\n    </tr>\n    <tr>\n      <th>2</th>\n      <td>25</td>\n      <td>0</td>\n      <td>-7</td>\n      <td>0</td>\n      <td>5</td>\n      <td>365</td>\n      <td>1</td>\n      <td>-1</td>\n      <td>0</td>\n      <td>0</td>\n      <td>...</td>\n      <td>0</td>\n      <td>0</td>\n      <td>0</td>\n      <td>0</td>\n      <td>0</td>\n      <td>0</td>\n      <td>1</td>\n      <td>0</td>\n      <td>0</td>\n      <td>0</td>\n    </tr>\n    <tr>\n      <th>3</th>\n      <td>53</td>\n      <td>0</td>\n      <td>-3</td>\n      <td>0</td>\n      <td>5</td>\n      <td>1666</td>\n      <td>1</td>\n      <td>-1</td>\n      <td>0</td>\n      <td>0</td>\n      <td>...</td>\n      <td>0</td>\n      <td>0</td>\n      <td>0</td>\n      <td>0</td>\n      <td>0</td>\n      <td>0</td>\n      <td>1</td>\n      <td>0</td>\n      <td>0</td>\n      <td>0</td>\n    </tr>\n    <tr>\n      <th>4</th>\n      <td>24</td>\n      <td>0</td>\n      <td>-103</td>\n      <td>1</td>\n      <td>5</td>\n      <td>145</td>\n      <td>1</td>\n      <td>-1</td>\n      <td>0</td>\n      <td>0</td>\n      <td>...</td>\n      <td>0</td>\n      <td>0</td>\n      <td>0</td>\n      <td>0</td>\n      <td>0</td>\n      <td>0</td>\n      <td>1</td>\n      <td>0</td>\n      <td>0</td>\n      <td>0</td>\n    </tr>\n  </tbody>\n</table>\n<p>5 rows × 31 columns</p>\n</div>"
     },
     "execution_count": 12,
     "metadata": {},
     "output_type": "execute_result"
    }
   ],
   "source": [
    "bank_df.head()"
   ],
   "metadata": {
    "collapsed": false,
    "pycharm": {
     "name": "#%%\n"
    }
   }
  },
  {
   "cell_type": "code",
   "execution_count": 14,
   "outputs": [
    {
     "name": "stdout",
     "output_type": "stream",
     "text": [
      "데이터 행, 열(6933, 31) \n",
      " 데이터 타입 : age          int64\n",
      "default      int64\n",
      "balance      int64\n",
      "loan         int64\n",
      "day          int64\n",
      "duration     int64\n",
      "campaign     int64\n",
      "pdays        int64\n",
      "previous     int64\n",
      "y            int64\n",
      "divorced     int64\n",
      "married      int64\n",
      "single       int64\n",
      "primary      int64\n",
      "secondary    int64\n",
      "tertiary     int64\n",
      "cellular     int64\n",
      "telephone    int64\n",
      "unknown      int64\n",
      "apr          int64\n",
      "aug          int64\n",
      "dec          int64\n",
      "feb          int64\n",
      "jan          int64\n",
      "jul          int64\n",
      "jun          int64\n",
      "mar          int64\n",
      "may          int64\n",
      "nov          int64\n",
      "oct          int64\n",
      "sep          int64\n",
      "dtype: object\n"
     ]
    }
   ],
   "source": [
    "print(f\"데이터 행, 열{bank_df.shape} \\n 데이터 타입 : {bank_df.dtypes}\")"
   ],
   "metadata": {
    "collapsed": false,
    "pycharm": {
     "name": "#%%\n"
    }
   }
  },
  {
   "cell_type": "code",
   "execution_count": 15,
   "outputs": [
    {
     "data": {
      "text/plain": "        age  default   balance  loan       day  duration  campaign  pdays  \\\n0  0.549296      0.0  0.064555   0.0  0.133333  0.077540       0.0    0.0   \n1  0.239437      0.0  0.042335   1.0  0.133333  0.103387       0.0    0.0   \n2  0.084507      0.0  0.039116   0.0  0.133333  0.108437       0.0    0.0   \n3  0.478873      0.0  0.039164   0.0  0.133333  0.494949       0.0    0.0   \n4  0.070423      0.0  0.037981   1.0  0.133333  0.043078       0.0    0.0   \n\n   previous  divorced  ...  dec  feb  jan  jul  jun  mar  may  nov  oct  sep  \n0       0.0       0.0  ...  0.0  0.0  0.0  0.0  0.0  0.0  1.0  0.0  0.0  0.0  \n1       0.0       0.0  ...  0.0  0.0  0.0  0.0  0.0  0.0  1.0  0.0  0.0  0.0  \n2       0.0       0.0  ...  0.0  0.0  0.0  0.0  0.0  0.0  1.0  0.0  0.0  0.0  \n3       0.0       0.0  ...  0.0  0.0  0.0  0.0  0.0  0.0  1.0  0.0  0.0  0.0  \n4       0.0       0.0  ...  0.0  0.0  0.0  0.0  0.0  0.0  1.0  0.0  0.0  0.0  \n\n[5 rows x 30 columns]",
      "text/html": "<div>\n<style scoped>\n    .dataframe tbody tr th:only-of-type {\n        vertical-align: middle;\n    }\n\n    .dataframe tbody tr th {\n        vertical-align: top;\n    }\n\n    .dataframe thead th {\n        text-align: right;\n    }\n</style>\n<table border=\"1\" class=\"dataframe\">\n  <thead>\n    <tr style=\"text-align: right;\">\n      <th></th>\n      <th>age</th>\n      <th>default</th>\n      <th>balance</th>\n      <th>loan</th>\n      <th>day</th>\n      <th>duration</th>\n      <th>campaign</th>\n      <th>pdays</th>\n      <th>previous</th>\n      <th>divorced</th>\n      <th>...</th>\n      <th>dec</th>\n      <th>feb</th>\n      <th>jan</th>\n      <th>jul</th>\n      <th>jun</th>\n      <th>mar</th>\n      <th>may</th>\n      <th>nov</th>\n      <th>oct</th>\n      <th>sep</th>\n    </tr>\n  </thead>\n  <tbody>\n    <tr>\n      <th>0</th>\n      <td>0.549296</td>\n      <td>0.0</td>\n      <td>0.064555</td>\n      <td>0.0</td>\n      <td>0.133333</td>\n      <td>0.077540</td>\n      <td>0.0</td>\n      <td>0.0</td>\n      <td>0.0</td>\n      <td>0.0</td>\n      <td>...</td>\n      <td>0.0</td>\n      <td>0.0</td>\n      <td>0.0</td>\n      <td>0.0</td>\n      <td>0.0</td>\n      <td>0.0</td>\n      <td>1.0</td>\n      <td>0.0</td>\n      <td>0.0</td>\n      <td>0.0</td>\n    </tr>\n    <tr>\n      <th>1</th>\n      <td>0.239437</td>\n      <td>0.0</td>\n      <td>0.042335</td>\n      <td>1.0</td>\n      <td>0.133333</td>\n      <td>0.103387</td>\n      <td>0.0</td>\n      <td>0.0</td>\n      <td>0.0</td>\n      <td>0.0</td>\n      <td>...</td>\n      <td>0.0</td>\n      <td>0.0</td>\n      <td>0.0</td>\n      <td>0.0</td>\n      <td>0.0</td>\n      <td>0.0</td>\n      <td>1.0</td>\n      <td>0.0</td>\n      <td>0.0</td>\n      <td>0.0</td>\n    </tr>\n    <tr>\n      <th>2</th>\n      <td>0.084507</td>\n      <td>0.0</td>\n      <td>0.039116</td>\n      <td>0.0</td>\n      <td>0.133333</td>\n      <td>0.108437</td>\n      <td>0.0</td>\n      <td>0.0</td>\n      <td>0.0</td>\n      <td>0.0</td>\n      <td>...</td>\n      <td>0.0</td>\n      <td>0.0</td>\n      <td>0.0</td>\n      <td>0.0</td>\n      <td>0.0</td>\n      <td>0.0</td>\n      <td>1.0</td>\n      <td>0.0</td>\n      <td>0.0</td>\n      <td>0.0</td>\n    </tr>\n    <tr>\n      <th>3</th>\n      <td>0.478873</td>\n      <td>0.0</td>\n      <td>0.039164</td>\n      <td>0.0</td>\n      <td>0.133333</td>\n      <td>0.494949</td>\n      <td>0.0</td>\n      <td>0.0</td>\n      <td>0.0</td>\n      <td>0.0</td>\n      <td>...</td>\n      <td>0.0</td>\n      <td>0.0</td>\n      <td>0.0</td>\n      <td>0.0</td>\n      <td>0.0</td>\n      <td>0.0</td>\n      <td>1.0</td>\n      <td>0.0</td>\n      <td>0.0</td>\n      <td>0.0</td>\n    </tr>\n    <tr>\n      <th>4</th>\n      <td>0.070423</td>\n      <td>0.0</td>\n      <td>0.037981</td>\n      <td>1.0</td>\n      <td>0.133333</td>\n      <td>0.043078</td>\n      <td>0.0</td>\n      <td>0.0</td>\n      <td>0.0</td>\n      <td>0.0</td>\n      <td>...</td>\n      <td>0.0</td>\n      <td>0.0</td>\n      <td>0.0</td>\n      <td>0.0</td>\n      <td>0.0</td>\n      <td>0.0</td>\n      <td>1.0</td>\n      <td>0.0</td>\n      <td>0.0</td>\n      <td>0.0</td>\n    </tr>\n  </tbody>\n</table>\n<p>5 rows × 30 columns</p>\n</div>"
     },
     "execution_count": 15,
     "metadata": {},
     "output_type": "execute_result"
    }
   ],
   "source": [
    "from sklearn.preprocessing import MinMaxScaler\n",
    "\n",
    "bank_df = bank_df.drop('y', axis=1)\n",
    "\n",
    "mc = MinMaxScaler()\n",
    "mc.fit(bank_df)\n",
    "\n",
    "bank_df_mc = pd.DataFrame(mc.transform(bank_df), columns=bank_df.columns)\n",
    "bank_df_mc.head()"
   ],
   "metadata": {
    "collapsed": false,
    "pycharm": {
     "name": "#%%\n"
    }
   }
  },
  {
   "cell_type": "code",
   "execution_count": 20,
   "outputs": [],
   "source": [
    "from sklearn.preprocessing import StandardScaler\n",
    "\n",
    "sc = StandardScaler()\n",
    "\n",
    "sc.fit(bank_df)\n",
    "\n",
    "bank_df_sc = pd.DataFrame(sc.transform(bank_df), columns=bank_df.columns)"
   ],
   "metadata": {
    "collapsed": false,
    "pycharm": {
     "name": "#%%\n"
    }
   }
  },
  {
   "cell_type": "code",
   "execution_count": 21,
   "outputs": [
    {
     "data": {
      "text/plain": "        age   default   balance      loan       day  duration  campaign  \\\n0  1.647908 -0.137148  0.250618 -0.444540 -1.275382 -0.006613 -0.574193   \n1 -0.443424 -0.137148 -0.362335  2.249514 -1.275382  0.317659 -0.574193   \n2 -1.489090 -0.137148 -0.451112 -0.444540 -1.275382  0.381022 -0.574193   \n3  1.172605 -0.137148 -0.449807 -0.444540 -1.275382  5.230180 -0.574193   \n4 -1.584150 -0.137148 -0.482445  2.249514 -1.275382 -0.438974 -0.574193   \n\n      pdays  previous  divorced  ...       dec       feb       jan      jul  \\\n0 -0.418664 -0.310149 -0.362951  ... -0.063679 -0.267818 -0.167406 -0.43473   \n1 -0.418664 -0.310149 -0.362951  ... -0.063679 -0.267818 -0.167406 -0.43473   \n2 -0.418664 -0.310149 -0.362951  ... -0.063679 -0.267818 -0.167406 -0.43473   \n3 -0.418664 -0.310149 -0.362951  ... -0.063679 -0.267818 -0.167406 -0.43473   \n4 -0.418664 -0.310149 -0.362951  ... -0.063679 -0.267818 -0.167406 -0.43473   \n\n        jun       mar       may       nov       oct       sep  \n0 -0.351657 -0.100262  1.510337 -0.320275 -0.134949 -0.112073  \n1 -0.351657 -0.100262  1.510337 -0.320275 -0.134949 -0.112073  \n2 -0.351657 -0.100262  1.510337 -0.320275 -0.134949 -0.112073  \n3 -0.351657 -0.100262  1.510337 -0.320275 -0.134949 -0.112073  \n4 -0.351657 -0.100262  1.510337 -0.320275 -0.134949 -0.112073  \n\n[5 rows x 30 columns]",
      "text/html": "<div>\n<style scoped>\n    .dataframe tbody tr th:only-of-type {\n        vertical-align: middle;\n    }\n\n    .dataframe tbody tr th {\n        vertical-align: top;\n    }\n\n    .dataframe thead th {\n        text-align: right;\n    }\n</style>\n<table border=\"1\" class=\"dataframe\">\n  <thead>\n    <tr style=\"text-align: right;\">\n      <th></th>\n      <th>age</th>\n      <th>default</th>\n      <th>balance</th>\n      <th>loan</th>\n      <th>day</th>\n      <th>duration</th>\n      <th>campaign</th>\n      <th>pdays</th>\n      <th>previous</th>\n      <th>divorced</th>\n      <th>...</th>\n      <th>dec</th>\n      <th>feb</th>\n      <th>jan</th>\n      <th>jul</th>\n      <th>jun</th>\n      <th>mar</th>\n      <th>may</th>\n      <th>nov</th>\n      <th>oct</th>\n      <th>sep</th>\n    </tr>\n  </thead>\n  <tbody>\n    <tr>\n      <th>0</th>\n      <td>1.647908</td>\n      <td>-0.137148</td>\n      <td>0.250618</td>\n      <td>-0.444540</td>\n      <td>-1.275382</td>\n      <td>-0.006613</td>\n      <td>-0.574193</td>\n      <td>-0.418664</td>\n      <td>-0.310149</td>\n      <td>-0.362951</td>\n      <td>...</td>\n      <td>-0.063679</td>\n      <td>-0.267818</td>\n      <td>-0.167406</td>\n      <td>-0.43473</td>\n      <td>-0.351657</td>\n      <td>-0.100262</td>\n      <td>1.510337</td>\n      <td>-0.320275</td>\n      <td>-0.134949</td>\n      <td>-0.112073</td>\n    </tr>\n    <tr>\n      <th>1</th>\n      <td>-0.443424</td>\n      <td>-0.137148</td>\n      <td>-0.362335</td>\n      <td>2.249514</td>\n      <td>-1.275382</td>\n      <td>0.317659</td>\n      <td>-0.574193</td>\n      <td>-0.418664</td>\n      <td>-0.310149</td>\n      <td>-0.362951</td>\n      <td>...</td>\n      <td>-0.063679</td>\n      <td>-0.267818</td>\n      <td>-0.167406</td>\n      <td>-0.43473</td>\n      <td>-0.351657</td>\n      <td>-0.100262</td>\n      <td>1.510337</td>\n      <td>-0.320275</td>\n      <td>-0.134949</td>\n      <td>-0.112073</td>\n    </tr>\n    <tr>\n      <th>2</th>\n      <td>-1.489090</td>\n      <td>-0.137148</td>\n      <td>-0.451112</td>\n      <td>-0.444540</td>\n      <td>-1.275382</td>\n      <td>0.381022</td>\n      <td>-0.574193</td>\n      <td>-0.418664</td>\n      <td>-0.310149</td>\n      <td>-0.362951</td>\n      <td>...</td>\n      <td>-0.063679</td>\n      <td>-0.267818</td>\n      <td>-0.167406</td>\n      <td>-0.43473</td>\n      <td>-0.351657</td>\n      <td>-0.100262</td>\n      <td>1.510337</td>\n      <td>-0.320275</td>\n      <td>-0.134949</td>\n      <td>-0.112073</td>\n    </tr>\n    <tr>\n      <th>3</th>\n      <td>1.172605</td>\n      <td>-0.137148</td>\n      <td>-0.449807</td>\n      <td>-0.444540</td>\n      <td>-1.275382</td>\n      <td>5.230180</td>\n      <td>-0.574193</td>\n      <td>-0.418664</td>\n      <td>-0.310149</td>\n      <td>-0.362951</td>\n      <td>...</td>\n      <td>-0.063679</td>\n      <td>-0.267818</td>\n      <td>-0.167406</td>\n      <td>-0.43473</td>\n      <td>-0.351657</td>\n      <td>-0.100262</td>\n      <td>1.510337</td>\n      <td>-0.320275</td>\n      <td>-0.134949</td>\n      <td>-0.112073</td>\n    </tr>\n    <tr>\n      <th>4</th>\n      <td>-1.584150</td>\n      <td>-0.137148</td>\n      <td>-0.482445</td>\n      <td>2.249514</td>\n      <td>-1.275382</td>\n      <td>-0.438974</td>\n      <td>-0.574193</td>\n      <td>-0.418664</td>\n      <td>-0.310149</td>\n      <td>-0.362951</td>\n      <td>...</td>\n      <td>-0.063679</td>\n      <td>-0.267818</td>\n      <td>-0.167406</td>\n      <td>-0.43473</td>\n      <td>-0.351657</td>\n      <td>-0.100262</td>\n      <td>1.510337</td>\n      <td>-0.320275</td>\n      <td>-0.134949</td>\n      <td>-0.112073</td>\n    </tr>\n  </tbody>\n</table>\n<p>5 rows × 30 columns</p>\n</div>"
     },
     "execution_count": 21,
     "metadata": {},
     "output_type": "execute_result"
    }
   ],
   "source": [
    "bank_df_sc.head()"
   ],
   "metadata": {
    "collapsed": false,
    "pycharm": {
     "name": "#%%\n"
    }
   }
  },
  {
   "cell_type": "code",
   "execution_count": 22,
   "outputs": [
    {
     "name": "stdout",
     "output_type": "stream",
     "text": [
      "age         -2.859389e-16\n",
      "default      4.099482e-17\n",
      "balance     -3.279586e-17\n",
      "loan        -3.279586e-17\n",
      "day          8.198964e-18\n",
      "duration    -2.049741e-18\n",
      "campaign     0.000000e+00\n",
      "pdays       -3.279586e-17\n",
      "previous     3.279586e-17\n",
      "divorced    -8.198964e-18\n",
      "married     -2.869637e-17\n",
      "single      -9.838757e-17\n",
      "primary      7.379068e-17\n",
      "secondary    1.065865e-16\n",
      "tertiary    -8.198964e-18\n",
      "cellular     1.967751e-16\n",
      "telephone   -3.279586e-17\n",
      "unknown     -9.838757e-17\n",
      "apr         -1.639793e-17\n",
      "aug          0.000000e+00\n",
      "dec          1.639793e-17\n",
      "feb          0.000000e+00\n",
      "jan         -4.919379e-17\n",
      "jul          0.000000e+00\n",
      "jun         -3.279586e-17\n",
      "mar         -1.639793e-17\n",
      "may          9.838757e-17\n",
      "nov         -3.279586e-17\n",
      "oct          1.639793e-17\n",
      "sep         -6.559171e-17\n",
      "dtype: float64\n",
      "age          1.000072\n",
      "default      1.000072\n",
      "balance      1.000072\n",
      "loan         1.000072\n",
      "day          1.000072\n",
      "duration     1.000072\n",
      "campaign     1.000072\n",
      "pdays        1.000072\n",
      "previous     1.000072\n",
      "divorced     1.000072\n",
      "married      1.000072\n",
      "single       1.000072\n",
      "primary      1.000072\n",
      "secondary    1.000072\n",
      "tertiary     1.000072\n",
      "cellular     1.000072\n",
      "telephone    1.000072\n",
      "unknown      1.000072\n",
      "apr          1.000072\n",
      "aug          1.000072\n",
      "dec          1.000072\n",
      "feb          1.000072\n",
      "jan          1.000072\n",
      "jul          1.000072\n",
      "jun          1.000072\n",
      "mar          1.000072\n",
      "may          1.000072\n",
      "nov          1.000072\n",
      "oct          1.000072\n",
      "sep          1.000072\n",
      "dtype: float64\n"
     ]
    }
   ],
   "source": [
    "print(bank_df_sc.mean())\n",
    "print(bank_df_sc.std())"
   ],
   "metadata": {
    "collapsed": false,
    "pycharm": {
     "name": "#%%\n"
    }
   }
  }
 ],
 "metadata": {
  "kernelspec": {
   "display_name": "Python 3",
   "language": "python",
   "name": "python3"
  },
  "language_info": {
   "codemirror_mode": {
    "name": "ipython",
    "version": 2
   },
   "file_extension": ".py",
   "mimetype": "text/x-python",
   "name": "python",
   "nbconvert_exporter": "python",
   "pygments_lexer": "ipython2",
   "version": "2.7.6"
  }
 },
 "nbformat": 4,
 "nbformat_minor": 0
}