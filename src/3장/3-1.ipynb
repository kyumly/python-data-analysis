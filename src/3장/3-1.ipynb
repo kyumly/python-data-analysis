{
 "cells": [
  {
   "cell_type": "markdown",
   "source": [
    "데이터 출력하기"
   ],
   "metadata": {
    "collapsed": false
   }
  },
  {
   "cell_type": "code",
   "execution_count": 1,
   "metadata": {
    "collapsed": true
   },
   "outputs": [
    {
     "data": {
      "text/plain": "   age          job  marital  education default  balance housing loan contact  \\\n0   58   management  married   tertiary      no     2143     yes   no     NaN   \n1   36   technician   single  secondary      no      265     yes  yes     NaN   \n2   25  blue-collar  married  secondary      no       -7     yes   no     NaN   \n3   53   technician  married  secondary      no       -3      no   no     NaN   \n4   24   technician   single  secondary      no     -103     yes  yes     NaN   \n\n   day month  duration  campaign  pdays  previous poutcome   y  \n0    5   may       261         1     -1         0      NaN  no  \n1    5   may       348         1     -1         0      NaN  no  \n2    5   may       365         1     -1         0      NaN  no  \n3    5   may      1666         1     -1         0      NaN  no  \n4    5   may       145         1     -1         0      NaN  no  ",
      "text/html": "<div>\n<style scoped>\n    .dataframe tbody tr th:only-of-type {\n        vertical-align: middle;\n    }\n\n    .dataframe tbody tr th {\n        vertical-align: top;\n    }\n\n    .dataframe thead th {\n        text-align: right;\n    }\n</style>\n<table border=\"1\" class=\"dataframe\">\n  <thead>\n    <tr style=\"text-align: right;\">\n      <th></th>\n      <th>age</th>\n      <th>job</th>\n      <th>marital</th>\n      <th>education</th>\n      <th>default</th>\n      <th>balance</th>\n      <th>housing</th>\n      <th>loan</th>\n      <th>contact</th>\n      <th>day</th>\n      <th>month</th>\n      <th>duration</th>\n      <th>campaign</th>\n      <th>pdays</th>\n      <th>previous</th>\n      <th>poutcome</th>\n      <th>y</th>\n    </tr>\n  </thead>\n  <tbody>\n    <tr>\n      <th>0</th>\n      <td>58</td>\n      <td>management</td>\n      <td>married</td>\n      <td>tertiary</td>\n      <td>no</td>\n      <td>2143</td>\n      <td>yes</td>\n      <td>no</td>\n      <td>NaN</td>\n      <td>5</td>\n      <td>may</td>\n      <td>261</td>\n      <td>1</td>\n      <td>-1</td>\n      <td>0</td>\n      <td>NaN</td>\n      <td>no</td>\n    </tr>\n    <tr>\n      <th>1</th>\n      <td>36</td>\n      <td>technician</td>\n      <td>single</td>\n      <td>secondary</td>\n      <td>no</td>\n      <td>265</td>\n      <td>yes</td>\n      <td>yes</td>\n      <td>NaN</td>\n      <td>5</td>\n      <td>may</td>\n      <td>348</td>\n      <td>1</td>\n      <td>-1</td>\n      <td>0</td>\n      <td>NaN</td>\n      <td>no</td>\n    </tr>\n    <tr>\n      <th>2</th>\n      <td>25</td>\n      <td>blue-collar</td>\n      <td>married</td>\n      <td>secondary</td>\n      <td>no</td>\n      <td>-7</td>\n      <td>yes</td>\n      <td>no</td>\n      <td>NaN</td>\n      <td>5</td>\n      <td>may</td>\n      <td>365</td>\n      <td>1</td>\n      <td>-1</td>\n      <td>0</td>\n      <td>NaN</td>\n      <td>no</td>\n    </tr>\n    <tr>\n      <th>3</th>\n      <td>53</td>\n      <td>technician</td>\n      <td>married</td>\n      <td>secondary</td>\n      <td>no</td>\n      <td>-3</td>\n      <td>no</td>\n      <td>no</td>\n      <td>NaN</td>\n      <td>5</td>\n      <td>may</td>\n      <td>1666</td>\n      <td>1</td>\n      <td>-1</td>\n      <td>0</td>\n      <td>NaN</td>\n      <td>no</td>\n    </tr>\n    <tr>\n      <th>4</th>\n      <td>24</td>\n      <td>technician</td>\n      <td>single</td>\n      <td>secondary</td>\n      <td>no</td>\n      <td>-103</td>\n      <td>yes</td>\n      <td>yes</td>\n      <td>NaN</td>\n      <td>5</td>\n      <td>may</td>\n      <td>145</td>\n      <td>1</td>\n      <td>-1</td>\n      <td>0</td>\n      <td>NaN</td>\n      <td>no</td>\n    </tr>\n  </tbody>\n</table>\n</div>"
     },
     "execution_count": 1,
     "metadata": {},
     "output_type": "execute_result"
    }
   ],
   "source": [
    "import pandas as pd\n",
    "bank_df = pd.read_csv('bank.csv', sep=',')\n",
    "\n",
    "bank_df.head()"
   ]
  },
  {
   "cell_type": "markdown",
   "source": [
    "연습문제<br>\n",
    "밑에서 출력 tail() 메소드 사용"
   ],
   "metadata": {
    "collapsed": false
   }
  },
  {
   "cell_type": "code",
   "execution_count": 3,
   "outputs": [
    {
     "data": {
      "text/plain": "      age            job  marital  education default  balance housing loan  \\\n7224   63        retired  married    primary      no     3738      no   no   \n7225   29         admin.   single  secondary      no      464      no   no   \n7226   33         admin.   single  secondary      no      690      no   no   \n7227   36         admin.   single   tertiary      no      980      no   no   \n7228   38   entrepreneur   single  secondary      no     2543      no   no   \n7229   25       services   single  secondary      no      199      no   no   \n7230   28  self-employed   single   tertiary      no      159      no   no   \n7231   59     management  married   tertiary      no      138     yes  yes   \n7232   37     management  married   tertiary      no     1428      no   no   \n7233   25     technician   single  secondary      no      505      no  yes   \n\n        contact  day month  duration  campaign  pdays  previous poutcome    y  \n7224  telephone    9   nov       301         1    456         4  failure   no  \n7225   cellular    9   nov       208         2     91         3  success  yes  \n7226   cellular   10   nov       223         3    555        16  failure   no  \n7227   cellular   11   nov       118         4    104         7  failure   no  \n7228   cellular   11   nov       357         3     93         5  success  yes  \n7229   cellular   16   nov       173         1     92         5  failure   no  \n7230   cellular   16   nov       449         2     33         4  success  yes  \n7231   cellular   16   nov       162         2    187         5  failure   no  \n7232   cellular   16   nov       333         2     -1         0      NaN   no  \n7233   cellular   17   nov       386         2     -1         0      NaN  yes  ",
      "text/html": "<div>\n<style scoped>\n    .dataframe tbody tr th:only-of-type {\n        vertical-align: middle;\n    }\n\n    .dataframe tbody tr th {\n        vertical-align: top;\n    }\n\n    .dataframe thead th {\n        text-align: right;\n    }\n</style>\n<table border=\"1\" class=\"dataframe\">\n  <thead>\n    <tr style=\"text-align: right;\">\n      <th></th>\n      <th>age</th>\n      <th>job</th>\n      <th>marital</th>\n      <th>education</th>\n      <th>default</th>\n      <th>balance</th>\n      <th>housing</th>\n      <th>loan</th>\n      <th>contact</th>\n      <th>day</th>\n      <th>month</th>\n      <th>duration</th>\n      <th>campaign</th>\n      <th>pdays</th>\n      <th>previous</th>\n      <th>poutcome</th>\n      <th>y</th>\n    </tr>\n  </thead>\n  <tbody>\n    <tr>\n      <th>7224</th>\n      <td>63</td>\n      <td>retired</td>\n      <td>married</td>\n      <td>primary</td>\n      <td>no</td>\n      <td>3738</td>\n      <td>no</td>\n      <td>no</td>\n      <td>telephone</td>\n      <td>9</td>\n      <td>nov</td>\n      <td>301</td>\n      <td>1</td>\n      <td>456</td>\n      <td>4</td>\n      <td>failure</td>\n      <td>no</td>\n    </tr>\n    <tr>\n      <th>7225</th>\n      <td>29</td>\n      <td>admin.</td>\n      <td>single</td>\n      <td>secondary</td>\n      <td>no</td>\n      <td>464</td>\n      <td>no</td>\n      <td>no</td>\n      <td>cellular</td>\n      <td>9</td>\n      <td>nov</td>\n      <td>208</td>\n      <td>2</td>\n      <td>91</td>\n      <td>3</td>\n      <td>success</td>\n      <td>yes</td>\n    </tr>\n    <tr>\n      <th>7226</th>\n      <td>33</td>\n      <td>admin.</td>\n      <td>single</td>\n      <td>secondary</td>\n      <td>no</td>\n      <td>690</td>\n      <td>no</td>\n      <td>no</td>\n      <td>cellular</td>\n      <td>10</td>\n      <td>nov</td>\n      <td>223</td>\n      <td>3</td>\n      <td>555</td>\n      <td>16</td>\n      <td>failure</td>\n      <td>no</td>\n    </tr>\n    <tr>\n      <th>7227</th>\n      <td>36</td>\n      <td>admin.</td>\n      <td>single</td>\n      <td>tertiary</td>\n      <td>no</td>\n      <td>980</td>\n      <td>no</td>\n      <td>no</td>\n      <td>cellular</td>\n      <td>11</td>\n      <td>nov</td>\n      <td>118</td>\n      <td>4</td>\n      <td>104</td>\n      <td>7</td>\n      <td>failure</td>\n      <td>no</td>\n    </tr>\n    <tr>\n      <th>7228</th>\n      <td>38</td>\n      <td>entrepreneur</td>\n      <td>single</td>\n      <td>secondary</td>\n      <td>no</td>\n      <td>2543</td>\n      <td>no</td>\n      <td>no</td>\n      <td>cellular</td>\n      <td>11</td>\n      <td>nov</td>\n      <td>357</td>\n      <td>3</td>\n      <td>93</td>\n      <td>5</td>\n      <td>success</td>\n      <td>yes</td>\n    </tr>\n    <tr>\n      <th>7229</th>\n      <td>25</td>\n      <td>services</td>\n      <td>single</td>\n      <td>secondary</td>\n      <td>no</td>\n      <td>199</td>\n      <td>no</td>\n      <td>no</td>\n      <td>cellular</td>\n      <td>16</td>\n      <td>nov</td>\n      <td>173</td>\n      <td>1</td>\n      <td>92</td>\n      <td>5</td>\n      <td>failure</td>\n      <td>no</td>\n    </tr>\n    <tr>\n      <th>7230</th>\n      <td>28</td>\n      <td>self-employed</td>\n      <td>single</td>\n      <td>tertiary</td>\n      <td>no</td>\n      <td>159</td>\n      <td>no</td>\n      <td>no</td>\n      <td>cellular</td>\n      <td>16</td>\n      <td>nov</td>\n      <td>449</td>\n      <td>2</td>\n      <td>33</td>\n      <td>4</td>\n      <td>success</td>\n      <td>yes</td>\n    </tr>\n    <tr>\n      <th>7231</th>\n      <td>59</td>\n      <td>management</td>\n      <td>married</td>\n      <td>tertiary</td>\n      <td>no</td>\n      <td>138</td>\n      <td>yes</td>\n      <td>yes</td>\n      <td>cellular</td>\n      <td>16</td>\n      <td>nov</td>\n      <td>162</td>\n      <td>2</td>\n      <td>187</td>\n      <td>5</td>\n      <td>failure</td>\n      <td>no</td>\n    </tr>\n    <tr>\n      <th>7232</th>\n      <td>37</td>\n      <td>management</td>\n      <td>married</td>\n      <td>tertiary</td>\n      <td>no</td>\n      <td>1428</td>\n      <td>no</td>\n      <td>no</td>\n      <td>cellular</td>\n      <td>16</td>\n      <td>nov</td>\n      <td>333</td>\n      <td>2</td>\n      <td>-1</td>\n      <td>0</td>\n      <td>NaN</td>\n      <td>no</td>\n    </tr>\n    <tr>\n      <th>7233</th>\n      <td>25</td>\n      <td>technician</td>\n      <td>single</td>\n      <td>secondary</td>\n      <td>no</td>\n      <td>505</td>\n      <td>no</td>\n      <td>yes</td>\n      <td>cellular</td>\n      <td>17</td>\n      <td>nov</td>\n      <td>386</td>\n      <td>2</td>\n      <td>-1</td>\n      <td>0</td>\n      <td>NaN</td>\n      <td>yes</td>\n    </tr>\n  </tbody>\n</table>\n</div>"
     },
     "execution_count": 3,
     "metadata": {},
     "output_type": "execute_result"
    }
   ],
   "source": [
    "bank_df.tail(10)"
   ],
   "metadata": {
    "collapsed": false,
    "pycharm": {
     "name": "#%%\n"
    }
   }
  },
  {
   "cell_type": "markdown",
   "source": [
    "데이터의 행수와 열수 확인, 데이터 형확인"
   ],
   "metadata": {
    "collapsed": false,
    "pycharm": {
     "name": "#%% md\n"
    }
   }
  },
  {
   "cell_type": "code",
   "execution_count": 4,
   "outputs": [
    {
     "name": "stdout",
     "output_type": "stream",
     "text": [
      "(7234, 17)\n",
      "age           int64\n",
      "job          object\n",
      "marital      object\n",
      "education    object\n",
      "default      object\n",
      "balance       int64\n",
      "housing      object\n",
      "loan         object\n",
      "contact      object\n",
      "day           int64\n",
      "month        object\n",
      "duration      int64\n",
      "campaign      int64\n",
      "pdays         int64\n",
      "previous      int64\n",
      "poutcome     object\n",
      "y            object\n",
      "dtype: object\n"
     ]
    }
   ],
   "source": [
    "print(bank_df.shape)\n",
    "print(bank_df.dtypes)"
   ],
   "metadata": {
    "collapsed": false,
    "pycharm": {
     "name": "#%%\n"
    }
   }
  },
  {
   "cell_type": "markdown",
   "source": [
    "결손값 확인"
   ],
   "metadata": {
    "collapsed": false,
    "pycharm": {
     "name": "#%% md\n"
    }
   }
  },
  {
   "cell_type": "code",
   "execution_count": 5,
   "outputs": [
    {
     "name": "stdout",
     "output_type": "stream",
     "text": [
      "0        True\n",
      "1        True\n",
      "2        True\n",
      "3        True\n",
      "4        True\n",
      "        ...  \n",
      "7229    False\n",
      "7230    False\n",
      "7231    False\n",
      "7232     True\n",
      "7233     True\n",
      "Length: 7234, dtype: bool\n"
     ]
    }
   ],
   "source": [
    "print(bank_df.isnull().any(axis=1))"
   ],
   "metadata": {
    "collapsed": false,
    "pycharm": {
     "name": "#%%\n"
    }
   }
  },
  {
   "cell_type": "markdown",
   "source": [
    "결손값 개수 파악"
   ],
   "metadata": {
    "collapsed": false
   }
  },
  {
   "cell_type": "code",
   "execution_count": 6,
   "outputs": [
    {
     "name": "stdout",
     "output_type": "stream",
     "text": [
      "0       2\n",
      "1       2\n",
      "2       2\n",
      "3       2\n",
      "4       2\n",
      "       ..\n",
      "7229    0\n",
      "7230    0\n",
      "7231    0\n",
      "7232    1\n",
      "7233    1\n",
      "Length: 7234, dtype: int64\n"
     ]
    }
   ],
   "source": [
    "print(bank_df.isnull().sum(axis=1))"
   ],
   "metadata": {
    "collapsed": false,
    "pycharm": {
     "name": "#%%\n"
    }
   }
  },
  {
   "cell_type": "code",
   "execution_count": 2,
   "outputs": [
    {
     "name": "stdout",
     "output_type": "stream",
     "text": [
      "poutcome     5900\n",
      "contact      2038\n",
      "education     273\n",
      "job            44\n",
      "month           0\n",
      "previous        0\n",
      "pdays           0\n",
      "campaign        0\n",
      "duration        0\n",
      "age             0\n",
      "day             0\n",
      "loan            0\n",
      "housing         0\n",
      "balance         0\n",
      "default         0\n",
      "marital         0\n",
      "y               0\n",
      "dtype: int64\n"
     ]
    }
   ],
   "source": [
    "print(bank_df.isnull().sum(axis=0).sort_values(ascending=False))"
   ],
   "metadata": {
    "collapsed": false,
    "pycharm": {
     "name": "#%%\n"
    }
   }
  },
  {
   "cell_type": "code",
   "execution_count": 8,
   "outputs": [
    {
     "name": "stdout",
     "output_type": "stream",
     "text": [
      "0       2\n",
      "1       2\n",
      "2       2\n",
      "3       2\n",
      "4       2\n",
      "       ..\n",
      "7229    0\n",
      "7230    0\n",
      "7231    0\n",
      "7232    1\n",
      "7233    1\n",
      "Length: 7234, dtype: int64\n"
     ]
    }
   ],
   "source": [
    "print(bank_df.isnull().sum(axis=1).sor)"
   ],
   "metadata": {
    "collapsed": false,
    "pycharm": {
     "name": "#%%\n"
    }
   }
  },
  {
   "cell_type": "markdown",
   "source": [
    "통계량 계산하기"
   ],
   "metadata": {
    "collapsed": false
   }
  },
  {
   "cell_type": "code",
   "execution_count": 9,
   "outputs": [
    {
     "data": {
      "text/plain": "               age       balance          day     duration     campaign  \\\ncount  7234.000000   7234.000000  7234.000000  7234.000000  7234.000000   \nmean     40.834808   1374.912911    15.623860   262.875311     2.713989   \nstd      10.706442   3033.882933     8.307826   268.921065     2.983740   \nmin       2.000000  -3313.000000     1.000000     0.000000     1.000000   \n25%      33.000000     74.000000     8.000000   103.000000     1.000000   \n50%      39.000000    453.500000    16.000000   183.000000     2.000000   \n75%      48.000000   1470.750000    21.000000   321.750000     3.000000   \nmax     157.000000  81204.000000    31.000000  3366.000000    44.000000   \n\n             pdays     previous  \ncount  7234.000000  7234.000000  \nmean     40.277716     0.565939  \nstd      99.188008     1.825100  \nmin      -1.000000     0.000000  \n25%      -1.000000     0.000000  \n50%      -1.000000     0.000000  \n75%      -1.000000     0.000000  \nmax     850.000000    40.000000  ",
      "text/html": "<div>\n<style scoped>\n    .dataframe tbody tr th:only-of-type {\n        vertical-align: middle;\n    }\n\n    .dataframe tbody tr th {\n        vertical-align: top;\n    }\n\n    .dataframe thead th {\n        text-align: right;\n    }\n</style>\n<table border=\"1\" class=\"dataframe\">\n  <thead>\n    <tr style=\"text-align: right;\">\n      <th></th>\n      <th>age</th>\n      <th>balance</th>\n      <th>day</th>\n      <th>duration</th>\n      <th>campaign</th>\n      <th>pdays</th>\n      <th>previous</th>\n    </tr>\n  </thead>\n  <tbody>\n    <tr>\n      <th>count</th>\n      <td>7234.000000</td>\n      <td>7234.000000</td>\n      <td>7234.000000</td>\n      <td>7234.000000</td>\n      <td>7234.000000</td>\n      <td>7234.000000</td>\n      <td>7234.000000</td>\n    </tr>\n    <tr>\n      <th>mean</th>\n      <td>40.834808</td>\n      <td>1374.912911</td>\n      <td>15.623860</td>\n      <td>262.875311</td>\n      <td>2.713989</td>\n      <td>40.277716</td>\n      <td>0.565939</td>\n    </tr>\n    <tr>\n      <th>std</th>\n      <td>10.706442</td>\n      <td>3033.882933</td>\n      <td>8.307826</td>\n      <td>268.921065</td>\n      <td>2.983740</td>\n      <td>99.188008</td>\n      <td>1.825100</td>\n    </tr>\n    <tr>\n      <th>min</th>\n      <td>2.000000</td>\n      <td>-3313.000000</td>\n      <td>1.000000</td>\n      <td>0.000000</td>\n      <td>1.000000</td>\n      <td>-1.000000</td>\n      <td>0.000000</td>\n    </tr>\n    <tr>\n      <th>25%</th>\n      <td>33.000000</td>\n      <td>74.000000</td>\n      <td>8.000000</td>\n      <td>103.000000</td>\n      <td>1.000000</td>\n      <td>-1.000000</td>\n      <td>0.000000</td>\n    </tr>\n    <tr>\n      <th>50%</th>\n      <td>39.000000</td>\n      <td>453.500000</td>\n      <td>16.000000</td>\n      <td>183.000000</td>\n      <td>2.000000</td>\n      <td>-1.000000</td>\n      <td>0.000000</td>\n    </tr>\n    <tr>\n      <th>75%</th>\n      <td>48.000000</td>\n      <td>1470.750000</td>\n      <td>21.000000</td>\n      <td>321.750000</td>\n      <td>3.000000</td>\n      <td>-1.000000</td>\n      <td>0.000000</td>\n    </tr>\n    <tr>\n      <th>max</th>\n      <td>157.000000</td>\n      <td>81204.000000</td>\n      <td>31.000000</td>\n      <td>3366.000000</td>\n      <td>44.000000</td>\n      <td>850.000000</td>\n      <td>40.000000</td>\n    </tr>\n  </tbody>\n</table>\n</div>"
     },
     "execution_count": 9,
     "metadata": {},
     "output_type": "execute_result"
    }
   ],
   "source": [
    "bank_df.describe()"
   ],
   "metadata": {
    "collapsed": false,
    "pycharm": {
     "name": "#%%\n"
    }
   }
  },
  {
   "cell_type": "markdown",
   "source": [
    "연습문제 3"
   ],
   "metadata": {
    "collapsed": false
   }
  },
  {
   "cell_type": "code",
   "execution_count": 10,
   "outputs": [
    {
     "data": {
      "text/plain": "               job  marital  education default housing  loan   contact month  \\\ncount         7190     7234       6961    7234    7234  7234      5196  7234   \nunique          11        3          3       2       2     2         2    12   \ntop     management  married  secondary      no     yes    no  cellular   may   \nfreq          1560     4343       3745    7101    4058  6066      4697  2202   \n\n       poutcome     y  \ncount      1334  7234  \nunique        3     2  \ntop     failure    no  \nfreq        772  6381  ",
      "text/html": "<div>\n<style scoped>\n    .dataframe tbody tr th:only-of-type {\n        vertical-align: middle;\n    }\n\n    .dataframe tbody tr th {\n        vertical-align: top;\n    }\n\n    .dataframe thead th {\n        text-align: right;\n    }\n</style>\n<table border=\"1\" class=\"dataframe\">\n  <thead>\n    <tr style=\"text-align: right;\">\n      <th></th>\n      <th>job</th>\n      <th>marital</th>\n      <th>education</th>\n      <th>default</th>\n      <th>housing</th>\n      <th>loan</th>\n      <th>contact</th>\n      <th>month</th>\n      <th>poutcome</th>\n      <th>y</th>\n    </tr>\n  </thead>\n  <tbody>\n    <tr>\n      <th>count</th>\n      <td>7190</td>\n      <td>7234</td>\n      <td>6961</td>\n      <td>7234</td>\n      <td>7234</td>\n      <td>7234</td>\n      <td>5196</td>\n      <td>7234</td>\n      <td>1334</td>\n      <td>7234</td>\n    </tr>\n    <tr>\n      <th>unique</th>\n      <td>11</td>\n      <td>3</td>\n      <td>3</td>\n      <td>2</td>\n      <td>2</td>\n      <td>2</td>\n      <td>2</td>\n      <td>12</td>\n      <td>3</td>\n      <td>2</td>\n    </tr>\n    <tr>\n      <th>top</th>\n      <td>management</td>\n      <td>married</td>\n      <td>secondary</td>\n      <td>no</td>\n      <td>yes</td>\n      <td>no</td>\n      <td>cellular</td>\n      <td>may</td>\n      <td>failure</td>\n      <td>no</td>\n    </tr>\n    <tr>\n      <th>freq</th>\n      <td>1560</td>\n      <td>4343</td>\n      <td>3745</td>\n      <td>7101</td>\n      <td>4058</td>\n      <td>6066</td>\n      <td>4697</td>\n      <td>2202</td>\n      <td>772</td>\n      <td>6381</td>\n    </tr>\n  </tbody>\n</table>\n</div>"
     },
     "execution_count": 10,
     "metadata": {},
     "output_type": "execute_result"
    }
   ],
   "source": [
    "bank_df.isnull().sum(axis=0)\n",
    "bank_df.describe(include=[object])"
   ],
   "metadata": {
    "collapsed": false,
    "pycharm": {
     "name": "#%%\n"
    }
   }
  },
  {
   "cell_type": "markdown",
   "source": [
    "데이터 시각화(1)"
   ],
   "metadata": {
    "collapsed": false
   }
  },
  {
   "cell_type": "code",
   "execution_count": 11,
   "outputs": [
    {
     "data": {
      "text/plain": "<Figure size 432x288 with 1 Axes>",
      "image/png": "[encoded data removed]"
     },
     "metadata": {
      "needs_background": "light"
     },
     "output_type": "display_data"
    }
   ],
   "source": [
    "import matplotlib.pyplot as plt\n",
    "%matplotlib inline\n",
    "\n",
    "plt.hist(bank_df['age'])\n",
    "plt.xlabel('age')\n",
    "plt.ylabel('freq')\n",
    "plt.show()"
   ],
   "metadata": {
    "collapsed": false,
    "pycharm": {
     "name": "#%%\n"
    }
   }
  },
  {
   "cell_type": "code",
   "execution_count": 12,
   "outputs": [
    {
     "data": {
      "text/plain": "<Figure size 432x288 with 1 Axes>",
      "image/png": "[encoded data removed]"
     },
     "metadata": {
      "needs_background": "light"
     },
     "output_type": "display_data"
    }
   ],
   "source": [
    "plt.hist(bank_df['age'].mean())\n",
    "plt.xlabel('age')\n",
    "plt.ylabel('freq')\n",
    "plt.show()"
   ],
   "metadata": {
    "collapsed": false,
    "pycharm": {
     "name": "#%%\n"
    }
   }
  },
  {
   "cell_type": "code",
   "execution_count": 13,
   "outputs": [
    {
     "data": {
      "text/plain": "<Figure size 432x288 with 1 Axes>",
      "image/png": "[encoded data removed]"
     },
     "metadata": {
      "needs_background": "light"
     },
     "output_type": "display_data"
    },
    {
     "data": {
      "text/plain": "              age   balance\nage      1.000000  0.112364\nbalance  0.112364  1.000000",
      "text/html": "<div>\n<style scoped>\n    .dataframe tbody tr th:only-of-type {\n        vertical-align: middle;\n    }\n\n    .dataframe tbody tr th {\n        vertical-align: top;\n    }\n\n    .dataframe thead th {\n        text-align: right;\n    }\n</style>\n<table border=\"1\" class=\"dataframe\">\n  <thead>\n    <tr style=\"text-align: right;\">\n      <th></th>\n      <th>age</th>\n      <th>balance</th>\n    </tr>\n  </thead>\n  <tbody>\n    <tr>\n      <th>age</th>\n      <td>1.000000</td>\n      <td>0.112364</td>\n    </tr>\n    <tr>\n      <th>balance</th>\n      <td>0.112364</td>\n      <td>1.000000</td>\n    </tr>\n  </tbody>\n</table>\n</div>"
     },
     "execution_count": 13,
     "metadata": {},
     "output_type": "execute_result"
    }
   ],
   "source": [
    "plt.scatter(bank_df['age'], bank_df['balance'])\n",
    "plt.xlabel('age')\n",
    "plt.ylabel('balance')\n",
    "plt.show()\n",
    "\n",
    "bank_df[['age', 'balance']].corr()"
   ],
   "metadata": {
    "collapsed": false,
    "pycharm": {
     "name": "#%%\n"
    }
   }
  },
  {
   "cell_type": "markdown",
   "source": [
    "연습문제 4"
   ],
   "metadata": {
    "collapsed": false
   }
  },
  {
   "cell_type": "code",
   "execution_count": 14,
   "outputs": [
    {
     "data": {
      "text/plain": "<Figure size 432x288 with 1 Axes>",
      "image/png": "[encoded data removed]"
     },
     "metadata": {
      "needs_background": "light"
     },
     "output_type": "display_data"
    }
   ],
   "source": [
    "plt.hist(bank_df['balance'])\n",
    "plt.xlabel('balance')\n",
    "plt.ylabel('freq')\n",
    "\n",
    "plt.show()"
   ],
   "metadata": {
    "collapsed": false,
    "pycharm": {
     "name": "#%%\n"
    }
   }
  },
  {
   "cell_type": "code",
   "execution_count": 15,
   "outputs": [
    {
     "data": {
      "text/plain": "<Figure size 432x288 with 1 Axes>",
      "image/png": "[encoded data removed]"
     },
     "metadata": {
      "needs_background": "light"
     },
     "output_type": "display_data"
    }
   ],
   "source": [
    "plt.hist(bank_df['day'])\n",
    "plt.xlabel('day')\n",
    "plt.ylabel('freq')\n",
    "\n",
    "plt.show()"
   ],
   "metadata": {
    "collapsed": false,
    "pycharm": {
     "name": "#%%\n"
    }
   }
  },
  {
   "cell_type": "code",
   "execution_count": 16,
   "outputs": [
    {
     "data": {
      "text/plain": "<Figure size 432x288 with 1 Axes>",
      "image/png": "[encoded data removed]"
     },
     "metadata": {
      "needs_background": "light"
     },
     "output_type": "display_data"
    }
   ],
   "source": [
    "plt.hist(bank_df['duration'])\n",
    "plt.xlabel('duration')\n",
    "plt.ylabel('freq')\n",
    "\n",
    "plt.show()"
   ],
   "metadata": {
    "collapsed": false,
    "pycharm": {
     "name": "#%%\n"
    }
   }
  },
  {
   "cell_type": "code",
   "execution_count": 17,
   "outputs": [
    {
     "data": {
      "text/plain": "<Figure size 432x288 with 1 Axes>",
      "image/png": "[encoded data removed]"
     },
     "metadata": {
      "needs_background": "light"
     },
     "output_type": "display_data"
    }
   ],
   "source": [
    "plt.hist(bank_df['campaign'])\n",
    "plt.xlabel('campaign')\n",
    "plt.ylabel('freq')\n",
    "\n",
    "plt.show()"
   ],
   "metadata": {
    "collapsed": false,
    "pycharm": {
     "name": "#%%\n"
    }
   }
  },
  {
   "cell_type": "code",
   "execution_count": 18,
   "outputs": [
    {
     "data": {
      "text/plain": "<Figure size 432x288 with 1 Axes>",
      "image/png": "[encoded data removed]"
     },
     "metadata": {
      "needs_background": "light"
     },
     "output_type": "display_data"
    }
   ],
   "source": [
    "plt.hist(bank_df['pdays'])\n",
    "plt.xlabel('pdays')\n",
    "plt.ylabel('freq')\n",
    "\n",
    "plt.show()"
   ],
   "metadata": {
    "collapsed": false,
    "pycharm": {
     "name": "#%%\n"
    }
   }
  },
  {
   "cell_type": "code",
   "execution_count": 19,
   "outputs": [
    {
     "data": {
      "text/plain": "<Figure size 432x288 with 1 Axes>",
      "image/png": "[encoded data removed]"
     },
     "metadata": {
      "needs_background": "light"
     },
     "output_type": "display_data"
    }
   ],
   "source": [
    "plt.hist(bank_df['previous'])\n",
    "plt.xlabel('previous')\n",
    "plt.ylabel('freq')\n",
    "\n",
    "plt.show()"
   ],
   "metadata": {
    "collapsed": false,
    "pycharm": {
     "name": "#%%\n"
    }
   }
  },
  {
   "cell_type": "markdown",
   "source": [
    "연습문제 5"
   ],
   "metadata": {
    "collapsed": false
   }
  },
  {
   "cell_type": "code",
   "execution_count": 20,
   "outputs": [
    {
     "data": {
      "text/plain": "<Figure size 432x288 with 16 Axes>",
      "image/png": "[encoded data removed]"
     },
     "metadata": {
      "needs_background": "light"
     },
     "output_type": "display_data"
    },
    {
     "data": {
      "text/plain": "               age   balance       day  duration\nage       1.000000  0.112364 -0.015818  0.006794\nbalance   0.112364  1.000000  0.011404  0.009340\nday      -0.015818  0.011404  1.000000 -0.031867\nduration  0.006794  0.009340 -0.031867  1.000000",
      "text/html": "<div>\n<style scoped>\n    .dataframe tbody tr th:only-of-type {\n        vertical-align: middle;\n    }\n\n    .dataframe tbody tr th {\n        vertical-align: top;\n    }\n\n    .dataframe thead th {\n        text-align: right;\n    }\n</style>\n<table border=\"1\" class=\"dataframe\">\n  <thead>\n    <tr style=\"text-align: right;\">\n      <th></th>\n      <th>age</th>\n      <th>balance</th>\n      <th>day</th>\n      <th>duration</th>\n    </tr>\n  </thead>\n  <tbody>\n    <tr>\n      <th>age</th>\n      <td>1.000000</td>\n      <td>0.112364</td>\n      <td>-0.015818</td>\n      <td>0.006794</td>\n    </tr>\n    <tr>\n      <th>balance</th>\n      <td>0.112364</td>\n      <td>1.000000</td>\n      <td>0.011404</td>\n      <td>0.009340</td>\n    </tr>\n    <tr>\n      <th>day</th>\n      <td>-0.015818</td>\n      <td>0.011404</td>\n      <td>1.000000</td>\n      <td>-0.031867</td>\n    </tr>\n    <tr>\n      <th>duration</th>\n      <td>0.006794</td>\n      <td>0.009340</td>\n      <td>-0.031867</td>\n      <td>1.000000</td>\n    </tr>\n  </tbody>\n</table>\n</div>"
     },
     "execution_count": 20,
     "metadata": {},
     "output_type": "execute_result"
    }
   ],
   "source": [
    "pd.plotting.scatter_matrix(bank_df[['age', 'balance', 'day', 'duration']])\n",
    "\n",
    "plt.tight_layout()\n",
    "plt.show()\n",
    "\n",
    "bank_df[['age', 'balance', 'day', 'duration']].corr()"
   ],
   "metadata": {
    "collapsed": false,
    "pycharm": {
     "name": "#%%\n"
    }
   }
  },
  {
   "cell_type": "markdown",
   "source": [
    "문자열 항목 중 job의 원 그래프 작성"
   ],
   "metadata": {
    "collapsed": false,
    "pycharm": {
     "name": "#%% md\n"
    }
   }
  },
  {
   "cell_type": "code",
   "execution_count": 21,
   "outputs": [
    {
     "name": "stdout",
     "output_type": "stream",
     "text": [
      "management       0.216968\n",
      "blue-collar      0.208484\n",
      "technician       0.167733\n",
      "admin.           0.115994\n",
      "services         0.091933\n",
      "retired          0.048818\n",
      "self-employed    0.035605\n",
      "entrepreneur     0.033241\n",
      "unemployed       0.031015\n",
      "housemaid        0.028929\n",
      "student          0.021280\n",
      "Name: job, dtype: float64\n"
     ]
    }
   ],
   "source": [
    "print(bank_df['job'].value_counts(ascending=False, normalize=True))"
   ],
   "metadata": {
    "collapsed": false,
    "pycharm": {
     "name": "#%%\n"
    }
   }
  },
  {
   "cell_type": "code",
   "execution_count": 22,
   "outputs": [
    {
     "name": "stderr",
     "output_type": "stream",
     "text": [
      "C:\\Users\\user\\AppData\\Local\\Temp/ipykernel_1116/2335501510.py:4: MatplotlibDeprecationWarning: normalize=None does not normalize if the sum is less than 1 but this behavior is deprecated since 3.3 until two minor releases later. After the deprecation period the default value will be normalize=True. To prevent normalization pass normalize=False \n",
      "  plt.pie(job_val, labels=job_label)\n"
     ]
    },
    {
     "data": {
      "text/plain": "<Figure size 432x288 with 1 Axes>",
      "image/png": "[encoded data removed]"
     },
     "metadata": {},
     "output_type": "display_data"
    }
   ],
   "source": [
    "job_label = bank_df['job'].value_counts(ascending=False, normalize=True).index\n",
    "job_val = bank_df['job'].value_counts(ascending=False, normalize=True).values\n",
    "\n",
    "plt.pie(job_val, labels=job_label)\n",
    "plt.axis('equal')\n",
    "plt.show()"
   ],
   "metadata": {
    "collapsed": false,
    "pycharm": {
     "name": "#%%\n"
    }
   }
  },
  {
   "cell_type": "markdown",
   "source": [
    "연습문제 6"
   ],
   "metadata": {
    "collapsed": false
   }
  },
  {
   "cell_type": "code",
   "execution_count": 23,
   "outputs": [
    {
     "data": {
      "text/plain": "<Figure size 432x288 with 1 Axes>",
      "image/png": "[encoded data removed]"
     },
     "metadata": {},
     "output_type": "display_data"
    }
   ],
   "source": [
    "marital_label = bank_df['marital'].value_counts(ascending=False, normalize=True).index\n",
    "marital_value = bank_df['marital'].value_counts(ascending=False, normalize=True).values\n",
    "\n",
    "plt.pie(marital_value, labels=marital_label)\n",
    "plt.show()"
   ],
   "metadata": {
    "collapsed": false,
    "pycharm": {
     "name": "#%%\n"
    }
   }
  },
  {
   "cell_type": "code",
   "execution_count": 24,
   "outputs": [
    {
     "name": "stdout",
     "output_type": "stream",
     "text": [
      "[0.53799741 0.31288608 0.14911651]\n"
     ]
    },
    {
     "data": {
      "text/plain": "<Figure size 432x288 with 1 Axes>",
      "image/png": "[encoded data removed]"
     },
     "metadata": {},
     "output_type": "display_data"
    }
   ],
   "source": [
    "education_label = bank_df['education'].value_counts(ascending=False, normalize=True).index\n",
    "\n",
    "education_value = bank_df['education'].value_counts(ascending=False, normalize=True).values\n",
    "\n",
    "\n",
    "print(education_value)\n",
    "plt.pie(education_value, labels=education_label)\n",
    "plt.show()"
   ],
   "metadata": {
    "collapsed": false,
    "pycharm": {
     "name": "#%%\n"
    }
   }
  },
  {
   "cell_type": "code",
   "execution_count": 25,
   "outputs": [
    {
     "name": "stdout",
     "output_type": "stream",
     "text": [
      "Index(['no', 'yes'], dtype='object')\n",
      "[0.8820846 0.1179154]\n"
     ]
    },
    {
     "data": {
      "text/plain": "<Figure size 432x288 with 1 Axes>",
      "image/png": "[encoded data removed]"
     },
     "metadata": {},
     "output_type": "display_data"
    }
   ],
   "source": [
    "y_label = bank_df['y'].value_counts(ascending=False, normalize=True).index\n",
    "y_val = bank_df['y'].value_counts(ascending=False, normalize=True).values\n",
    "\n",
    "print(y_label)\n",
    "print(y_val)\n",
    "\n",
    "plt.pie(y_val, labels=y_label)\n",
    "plt.axis('equal')\n",
    "plt.show()"
   ],
   "metadata": {
    "collapsed": false,
    "pycharm": {
     "name": "#%%\n"
    }
   }
  },
  {
   "cell_type": "markdown",
   "source": [
    "데이터 시각화(2)"
   ],
   "metadata": {
    "collapsed": false
   }
  },
  {
   "cell_type": "code",
   "execution_count": 26,
   "outputs": [
    {
     "name": "stdout",
     "output_type": "stream",
     "text": [
      "    age         job   marital  education default  balance housing loan  \\\n",
      "9    56      admin.   married  secondary      no       45      no   no   \n",
      "10   41  technician   married  secondary      no     1270     yes   no   \n",
      "18   54      admin.   married   tertiary      no      184      no   no   \n",
      "34   42  management    single   tertiary      no        0     yes  yes   \n",
      "67   55  unemployed  divorced  secondary      no      387     yes   no   \n",
      "\n",
      "   contact  day month  duration  campaign  pdays  previous poutcome    y  \n",
      "9      NaN    5   may      1467         1     -1         0      NaN  yes  \n",
      "10     NaN    5   may      1389         1     -1         0      NaN  yes  \n",
      "18     NaN    5   may       673         2     -1         0      NaN  yes  \n",
      "34     NaN    5   may       562         2     -1         0      NaN  yes  \n",
      "67     NaN    6   may       918         1     -1         0      NaN  yes  \n"
     ]
    },
    {
     "data": {
      "text/plain": "<Figure size 432x288 with 1 Axes>",
      "image/png": "[encoded data removed]"
     },
     "metadata": {
      "needs_background": "light"
     },
     "output_type": "display_data"
    }
   ],
   "source": [
    "y_yes = bank_df[bank_df['y'] == 'yes']\n",
    "y_no = bank_df[bank_df['y'] == 'no']\n",
    "# yes와 no의 데이터를 정리\n",
    "y_age = [y_yes['age'], y_no['age']]\n",
    "\n",
    "print(y_yes.head())\n",
    "# 박스수염 플롯의 작성\n",
    "plt.boxplot(y_age)\n",
    "# x축(횡축)과 y축（종축）의 레이블을 추가\n",
    "plt.xlabel('y')\n",
    "plt.ylabel('age')\n",
    "ax = plt.gca()\n",
    "# y축 （종축）의 레이블을 추가\n",
    "plt.setp(ax, xticklabels = ['yes','no'])\n",
    "plt.show()"
   ],
   "metadata": {
    "collapsed": false,
    "pycharm": {
     "name": "#%%\n"
    }
   }
  },
  {
   "cell_type": "markdown",
   "source": [
    "2장 데이터 준비"
   ],
   "metadata": {
    "collapsed": false
   }
  },
  {
   "cell_type": "code",
   "execution_count": 27,
   "outputs": [
    {
     "data": {
      "text/plain": "   age          job  marital  education default  balance housing loan contact  \\\n0   58   management  married   tertiary      no     2143     yes   no     NaN   \n1   36   technician   single  secondary      no      265     yes  yes     NaN   \n2   25  blue-collar  married  secondary      no       -7     yes   no     NaN   \n3   53   technician  married  secondary      no       -3      no   no     NaN   \n4   24   technician   single  secondary      no     -103     yes  yes     NaN   \n\n   day month  duration  campaign  pdays  previous poutcome   y  \n0    5   may       261         1     -1         0      NaN  no  \n1    5   may       348         1     -1         0      NaN  no  \n2    5   may       365         1     -1         0      NaN  no  \n3    5   may      1666         1     -1         0      NaN  no  \n4    5   may       145         1     -1         0      NaN  no  ",
      "text/html": "<div>\n<style scoped>\n    .dataframe tbody tr th:only-of-type {\n        vertical-align: middle;\n    }\n\n    .dataframe tbody tr th {\n        vertical-align: top;\n    }\n\n    .dataframe thead th {\n        text-align: right;\n    }\n</style>\n<table border=\"1\" class=\"dataframe\">\n  <thead>\n    <tr style=\"text-align: right;\">\n      <th></th>\n      <th>age</th>\n      <th>job</th>\n      <th>marital</th>\n      <th>education</th>\n      <th>default</th>\n      <th>balance</th>\n      <th>housing</th>\n      <th>loan</th>\n      <th>contact</th>\n      <th>day</th>\n      <th>month</th>\n      <th>duration</th>\n      <th>campaign</th>\n      <th>pdays</th>\n      <th>previous</th>\n      <th>poutcome</th>\n      <th>y</th>\n    </tr>\n  </thead>\n  <tbody>\n    <tr>\n      <th>0</th>\n      <td>58</td>\n      <td>management</td>\n      <td>married</td>\n      <td>tertiary</td>\n      <td>no</td>\n      <td>2143</td>\n      <td>yes</td>\n      <td>no</td>\n      <td>NaN</td>\n      <td>5</td>\n      <td>may</td>\n      <td>261</td>\n      <td>1</td>\n      <td>-1</td>\n      <td>0</td>\n      <td>NaN</td>\n      <td>no</td>\n    </tr>\n    <tr>\n      <th>1</th>\n      <td>36</td>\n      <td>technician</td>\n      <td>single</td>\n      <td>secondary</td>\n      <td>no</td>\n      <td>265</td>\n      <td>yes</td>\n      <td>yes</td>\n      <td>NaN</td>\n      <td>5</td>\n      <td>may</td>\n      <td>348</td>\n      <td>1</td>\n      <td>-1</td>\n      <td>0</td>\n      <td>NaN</td>\n      <td>no</td>\n    </tr>\n    <tr>\n      <th>2</th>\n      <td>25</td>\n      <td>blue-collar</td>\n      <td>married</td>\n      <td>secondary</td>\n      <td>no</td>\n      <td>-7</td>\n      <td>yes</td>\n      <td>no</td>\n      <td>NaN</td>\n      <td>5</td>\n      <td>may</td>\n      <td>365</td>\n      <td>1</td>\n      <td>-1</td>\n      <td>0</td>\n      <td>NaN</td>\n      <td>no</td>\n    </tr>\n    <tr>\n      <th>3</th>\n      <td>53</td>\n      <td>technician</td>\n      <td>married</td>\n      <td>secondary</td>\n      <td>no</td>\n      <td>-3</td>\n      <td>no</td>\n      <td>no</td>\n      <td>NaN</td>\n      <td>5</td>\n      <td>may</td>\n      <td>1666</td>\n      <td>1</td>\n      <td>-1</td>\n      <td>0</td>\n      <td>NaN</td>\n      <td>no</td>\n    </tr>\n    <tr>\n      <th>4</th>\n      <td>24</td>\n      <td>technician</td>\n      <td>single</td>\n      <td>secondary</td>\n      <td>no</td>\n      <td>-103</td>\n      <td>yes</td>\n      <td>yes</td>\n      <td>NaN</td>\n      <td>5</td>\n      <td>may</td>\n      <td>145</td>\n      <td>1</td>\n      <td>-1</td>\n      <td>0</td>\n      <td>NaN</td>\n      <td>no</td>\n    </tr>\n  </tbody>\n</table>\n</div>"
     },
     "execution_count": 27,
     "metadata": {},
     "output_type": "execute_result"
    }
   ],
   "source": [
    "# Pandas의 로드\n",
    "import pandas as pd\n",
    "\n",
    "# 파일 리드\n",
    "bank_df = pd.read_csv('bank.csv', sep=',')\n",
    "\n",
    "# 선두에서 5행까지 표시\n",
    "bank_df.head()"
   ],
   "metadata": {
    "collapsed": false,
    "pycharm": {
     "name": "#%%\n"
    }
   }
  },
  {
   "cell_type": "code",
   "execution_count": 28,
   "outputs": [
    {
     "name": "stdout",
     "output_type": "stream",
     "text": [
      "(7234, 17)\n",
      "age           int64\n",
      "job          object\n",
      "marital      object\n",
      "education    object\n",
      "default      object\n",
      "balance       int64\n",
      "housing      object\n",
      "loan         object\n",
      "contact      object\n",
      "day           int64\n",
      "month        object\n",
      "duration      int64\n",
      "campaign      int64\n",
      "pdays         int64\n",
      "previous      int64\n",
      "poutcome     object\n",
      "y            object\n",
      "dtype: object\n"
     ]
    }
   ],
   "source": [
    "# 데이터의 건수, 항목수를 확인\n",
    "print(bank_df.shape)\n",
    "# 데이터형을 확인\n",
    "print(bank_df.dtypes)"
   ],
   "metadata": {
    "collapsed": false,
    "pycharm": {
     "name": "#%%\n"
    }
   }
  },
  {
   "cell_type": "code",
   "execution_count": 29,
   "outputs": [
    {
     "name": "stdout",
     "output_type": "stream",
     "text": [
      "(6935, 17)\n",
      "age             0\n",
      "job             0\n",
      "marital         0\n",
      "education       0\n",
      "default         0\n",
      "balance         0\n",
      "housing         0\n",
      "loan            0\n",
      "contact      1925\n",
      "day             0\n",
      "month           0\n",
      "duration        0\n",
      "campaign        0\n",
      "pdays           0\n",
      "previous        0\n",
      "poutcome     5648\n",
      "y               0\n",
      "dtype: int64\n"
     ]
    }
   ],
   "source": [
    "bank_df = bank_df.dropna(subset=['job', 'education'])\n",
    "print(bank_df.shape)\n",
    "print(bank_df.isnull().sum())"
   ],
   "metadata": {
    "collapsed": false,
    "pycharm": {
     "name": "#%%\n"
    }
   }
  },
  {
   "cell_type": "code",
   "execution_count": 30,
   "outputs": [
    {
     "data": {
      "text/plain": "   age          job  marital  education default  balance housing loan  \\\n0   58   management  married   tertiary      no     2143     yes   no   \n1   36   technician   single  secondary      no      265     yes  yes   \n2   25  blue-collar  married  secondary      no       -7     yes   no   \n3   53   technician  married  secondary      no       -3      no   no   \n4   24   technician   single  secondary      no     -103     yes  yes   \n\n   contact  day month  duration  campaign  pdays  previous poutcome   y  \n0  unknown    5   may       261         1     -1         0      NaN  no  \n1  unknown    5   may       348         1     -1         0      NaN  no  \n2  unknown    5   may       365         1     -1         0      NaN  no  \n3  unknown    5   may      1666         1     -1         0      NaN  no  \n4  unknown    5   may       145         1     -1         0      NaN  no  ",
      "text/html": "<div>\n<style scoped>\n    .dataframe tbody tr th:only-of-type {\n        vertical-align: middle;\n    }\n\n    .dataframe tbody tr th {\n        vertical-align: top;\n    }\n\n    .dataframe thead th {\n        text-align: right;\n    }\n</style>\n<table border=\"1\" class=\"dataframe\">\n  <thead>\n    <tr style=\"text-align: right;\">\n      <th></th>\n      <th>age</th>\n      <th>job</th>\n      <th>marital</th>\n      <th>education</th>\n      <th>default</th>\n      <th>balance</th>\n      <th>housing</th>\n      <th>loan</th>\n      <th>contact</th>\n      <th>day</th>\n      <th>month</th>\n      <th>duration</th>\n      <th>campaign</th>\n      <th>pdays</th>\n      <th>previous</th>\n      <th>poutcome</th>\n      <th>y</th>\n    </tr>\n  </thead>\n  <tbody>\n    <tr>\n      <th>0</th>\n      <td>58</td>\n      <td>management</td>\n      <td>married</td>\n      <td>tertiary</td>\n      <td>no</td>\n      <td>2143</td>\n      <td>yes</td>\n      <td>no</td>\n      <td>unknown</td>\n      <td>5</td>\n      <td>may</td>\n      <td>261</td>\n      <td>1</td>\n      <td>-1</td>\n      <td>0</td>\n      <td>NaN</td>\n      <td>no</td>\n    </tr>\n    <tr>\n      <th>1</th>\n      <td>36</td>\n      <td>technician</td>\n      <td>single</td>\n      <td>secondary</td>\n      <td>no</td>\n      <td>265</td>\n      <td>yes</td>\n      <td>yes</td>\n      <td>unknown</td>\n      <td>5</td>\n      <td>may</td>\n      <td>348</td>\n      <td>1</td>\n      <td>-1</td>\n      <td>0</td>\n      <td>NaN</td>\n      <td>no</td>\n    </tr>\n    <tr>\n      <th>2</th>\n      <td>25</td>\n      <td>blue-collar</td>\n      <td>married</td>\n      <td>secondary</td>\n      <td>no</td>\n      <td>-7</td>\n      <td>yes</td>\n      <td>no</td>\n      <td>unknown</td>\n      <td>5</td>\n      <td>may</td>\n      <td>365</td>\n      <td>1</td>\n      <td>-1</td>\n      <td>0</td>\n      <td>NaN</td>\n      <td>no</td>\n    </tr>\n    <tr>\n      <th>3</th>\n      <td>53</td>\n      <td>technician</td>\n      <td>married</td>\n      <td>secondary</td>\n      <td>no</td>\n      <td>-3</td>\n      <td>no</td>\n      <td>no</td>\n      <td>unknown</td>\n      <td>5</td>\n      <td>may</td>\n      <td>1666</td>\n      <td>1</td>\n      <td>-1</td>\n      <td>0</td>\n      <td>NaN</td>\n      <td>no</td>\n    </tr>\n    <tr>\n      <th>4</th>\n      <td>24</td>\n      <td>technician</td>\n      <td>single</td>\n      <td>secondary</td>\n      <td>no</td>\n      <td>-103</td>\n      <td>yes</td>\n      <td>yes</td>\n      <td>unknown</td>\n      <td>5</td>\n      <td>may</td>\n      <td>145</td>\n      <td>1</td>\n      <td>-1</td>\n      <td>0</td>\n      <td>NaN</td>\n      <td>no</td>\n    </tr>\n  </tbody>\n</table>\n</div>"
     },
     "execution_count": 30,
     "metadata": {},
     "output_type": "execute_result"
    }
   ],
   "source": [
    "bank_df = bank_df.fillna({'contact' : 'unknown'})\n",
    "bank_df.head()"
   ],
   "metadata": {
    "collapsed": false,
    "pycharm": {
     "name": "#%%\n"
    }
   }
  },
  {
   "cell_type": "code",
   "execution_count": 31,
   "outputs": [
    {
     "name": "stdout",
     "output_type": "stream",
     "text": [
      "(6933, 17)\n"
     ]
    }
   ],
   "source": [
    "bank_df = bank_df[bank_df['age'] >= 18]\n",
    "bank_df = bank_df[bank_df['age'] < 100]\n",
    "\n",
    "print(bank_df.shape)"
   ],
   "metadata": {
    "collapsed": false,
    "pycharm": {
     "name": "#%%\n"
    }
   }
  },
  {
   "cell_type": "code",
   "execution_count": 32,
   "outputs": [
    {
     "data": {
      "text/plain": "   age          job  marital  education default  balance housing loan  \\\n0   58   management  married   tertiary       0     2143       1    0   \n1   36   technician   single  secondary       0      265       1    1   \n2   25  blue-collar  married  secondary       0       -7       1    0   \n3   53   technician  married  secondary       0       -3       0    0   \n4   24   technician   single  secondary       0     -103       1    1   \n\n   contact  day month  duration  campaign  pdays  previous poutcome  y  \n0  unknown    5   may       261         1     -1         0      NaN  0  \n1  unknown    5   may       348         1     -1         0      NaN  0  \n2  unknown    5   may       365         1     -1         0      NaN  0  \n3  unknown    5   may      1666         1     -1         0      NaN  0  \n4  unknown    5   may       145         1     -1         0      NaN  0  ",
      "text/html": "<div>\n<style scoped>\n    .dataframe tbody tr th:only-of-type {\n        vertical-align: middle;\n    }\n\n    .dataframe tbody tr th {\n        vertical-align: top;\n    }\n\n    .dataframe thead th {\n        text-align: right;\n    }\n</style>\n<table border=\"1\" class=\"dataframe\">\n  <thead>\n    <tr style=\"text-align: right;\">\n      <th></th>\n      <th>age</th>\n      <th>job</th>\n      <th>marital</th>\n      <th>education</th>\n      <th>default</th>\n      <th>balance</th>\n      <th>housing</th>\n      <th>loan</th>\n      <th>contact</th>\n      <th>day</th>\n      <th>month</th>\n      <th>duration</th>\n      <th>campaign</th>\n      <th>pdays</th>\n      <th>previous</th>\n      <th>poutcome</th>\n      <th>y</th>\n    </tr>\n  </thead>\n  <tbody>\n    <tr>\n      <th>0</th>\n      <td>58</td>\n      <td>management</td>\n      <td>married</td>\n      <td>tertiary</td>\n      <td>0</td>\n      <td>2143</td>\n      <td>1</td>\n      <td>0</td>\n      <td>unknown</td>\n      <td>5</td>\n      <td>may</td>\n      <td>261</td>\n      <td>1</td>\n      <td>-1</td>\n      <td>0</td>\n      <td>NaN</td>\n      <td>0</td>\n    </tr>\n    <tr>\n      <th>1</th>\n      <td>36</td>\n      <td>technician</td>\n      <td>single</td>\n      <td>secondary</td>\n      <td>0</td>\n      <td>265</td>\n      <td>1</td>\n      <td>1</td>\n      <td>unknown</td>\n      <td>5</td>\n      <td>may</td>\n      <td>348</td>\n      <td>1</td>\n      <td>-1</td>\n      <td>0</td>\n      <td>NaN</td>\n      <td>0</td>\n    </tr>\n    <tr>\n      <th>2</th>\n      <td>25</td>\n      <td>blue-collar</td>\n      <td>married</td>\n      <td>secondary</td>\n      <td>0</td>\n      <td>-7</td>\n      <td>1</td>\n      <td>0</td>\n      <td>unknown</td>\n      <td>5</td>\n      <td>may</td>\n      <td>365</td>\n      <td>1</td>\n      <td>-1</td>\n      <td>0</td>\n      <td>NaN</td>\n      <td>0</td>\n    </tr>\n    <tr>\n      <th>3</th>\n      <td>53</td>\n      <td>technician</td>\n      <td>married</td>\n      <td>secondary</td>\n      <td>0</td>\n      <td>-3</td>\n      <td>0</td>\n      <td>0</td>\n      <td>unknown</td>\n      <td>5</td>\n      <td>may</td>\n      <td>1666</td>\n      <td>1</td>\n      <td>-1</td>\n      <td>0</td>\n      <td>NaN</td>\n      <td>0</td>\n    </tr>\n    <tr>\n      <th>4</th>\n      <td>24</td>\n      <td>technician</td>\n      <td>single</td>\n      <td>secondary</td>\n      <td>0</td>\n      <td>-103</td>\n      <td>1</td>\n      <td>1</td>\n      <td>unknown</td>\n      <td>5</td>\n      <td>may</td>\n      <td>145</td>\n      <td>1</td>\n      <td>-1</td>\n      <td>0</td>\n      <td>NaN</td>\n      <td>0</td>\n    </tr>\n  </tbody>\n</table>\n</div>"
     },
     "execution_count": 32,
     "metadata": {},
     "output_type": "execute_result"
    }
   ],
   "source": [
    "bank_df = bank_df.replace('yes', '1')\n",
    "bank_df = bank_df.replace('no', '0')\n",
    "\n",
    "bank_df.head()"
   ],
   "metadata": {
    "collapsed": false,
    "pycharm": {
     "name": "#%%\n"
    }
   }
  },
  {
   "cell_type": "code",
   "execution_count": 33,
   "outputs": [
    {
     "data": {
      "text/plain": "   admin.  blue-collar  entrepreneur  housemaid  management  retired  \\\n0       0            0             0          0           1        0   \n1       0            0             0          0           0        0   \n2       0            1             0          0           0        0   \n3       0            0             0          0           0        0   \n4       0            0             0          0           0        0   \n\n   self-employed  services  student  technician  unemployed  \n0              0         0        0           0           0  \n1              0         0        0           1           0  \n2              0         0        0           0           0  \n3              0         0        0           1           0  \n4              0         0        0           1           0  ",
      "text/html": "<div>\n<style scoped>\n    .dataframe tbody tr th:only-of-type {\n        vertical-align: middle;\n    }\n\n    .dataframe tbody tr th {\n        vertical-align: top;\n    }\n\n    .dataframe thead th {\n        text-align: right;\n    }\n</style>\n<table border=\"1\" class=\"dataframe\">\n  <thead>\n    <tr style=\"text-align: right;\">\n      <th></th>\n      <th>admin.</th>\n      <th>blue-collar</th>\n      <th>entrepreneur</th>\n      <th>housemaid</th>\n      <th>management</th>\n      <th>retired</th>\n      <th>self-employed</th>\n      <th>services</th>\n      <th>student</th>\n      <th>technician</th>\n      <th>unemployed</th>\n    </tr>\n  </thead>\n  <tbody>\n    <tr>\n      <th>0</th>\n      <td>0</td>\n      <td>0</td>\n      <td>0</td>\n      <td>0</td>\n      <td>1</td>\n      <td>0</td>\n      <td>0</td>\n      <td>0</td>\n      <td>0</td>\n      <td>0</td>\n      <td>0</td>\n    </tr>\n    <tr>\n      <th>1</th>\n      <td>0</td>\n      <td>0</td>\n      <td>0</td>\n      <td>0</td>\n      <td>0</td>\n      <td>0</td>\n      <td>0</td>\n      <td>0</td>\n      <td>0</td>\n      <td>1</td>\n      <td>0</td>\n    </tr>\n    <tr>\n      <th>2</th>\n      <td>0</td>\n      <td>1</td>\n      <td>0</td>\n      <td>0</td>\n      <td>0</td>\n      <td>0</td>\n      <td>0</td>\n      <td>0</td>\n      <td>0</td>\n      <td>0</td>\n      <td>0</td>\n    </tr>\n    <tr>\n      <th>3</th>\n      <td>0</td>\n      <td>0</td>\n      <td>0</td>\n      <td>0</td>\n      <td>0</td>\n      <td>0</td>\n      <td>0</td>\n      <td>0</td>\n      <td>0</td>\n      <td>1</td>\n      <td>0</td>\n    </tr>\n    <tr>\n      <th>4</th>\n      <td>0</td>\n      <td>0</td>\n      <td>0</td>\n      <td>0</td>\n      <td>0</td>\n      <td>0</td>\n      <td>0</td>\n      <td>0</td>\n      <td>0</td>\n      <td>1</td>\n      <td>0</td>\n    </tr>\n  </tbody>\n</table>\n</div>"
     },
     "execution_count": 33,
     "metadata": {},
     "output_type": "execute_result"
    }
   ],
   "source": [
    "bank_df_job = pd.get_dummies(bank_df['job'])\n",
    "bank_df_job.head()"
   ],
   "metadata": {
    "collapsed": false,
    "pycharm": {
     "name": "#%%\n"
    }
   }
  },
  {
   "cell_type": "markdown",
   "source": [
    "연습문제 9"
   ],
   "metadata": {
    "collapsed": false
   }
  },
  {
   "cell_type": "code",
   "execution_count": 39,
   "outputs": [],
   "source": [
    "bank_df_marital = pd.get_dummies(bank_df['marital'])\n",
    "bank_df_education = pd.get_dummies(bank_df['education'])\n",
    "bank_df_contact = pd.get_dummies(bank_df['contact'])\n",
    "bank_df_month = pd.get_dummies(bank_df['month'])\n"
   ],
   "metadata": {
    "collapsed": false,
    "pycharm": {
     "name": "#%%\n"
    }
   }
  },
  {
   "cell_type": "code",
   "execution_count": 40,
   "outputs": [
    {
     "data": {
      "text/plain": "   age default  balance loan  day  duration  campaign  pdays  previous  y\n0   58       0     2143    0    5       261         1     -1         0  0\n1   36       0      265    1    5       348         1     -1         0  0\n2   25       0       -7    0    5       365         1     -1         0  0\n3   53       0       -3    0    5      1666         1     -1         0  0\n4   24       0     -103    1    5       145         1     -1         0  0",
      "text/html": "<div>\n<style scoped>\n    .dataframe tbody tr th:only-of-type {\n        vertical-align: middle;\n    }\n\n    .dataframe tbody tr th {\n        vertical-align: top;\n    }\n\n    .dataframe thead th {\n        text-align: right;\n    }\n</style>\n<table border=\"1\" class=\"dataframe\">\n  <thead>\n    <tr style=\"text-align: right;\">\n      <th></th>\n      <th>age</th>\n      <th>default</th>\n      <th>balance</th>\n      <th>loan</th>\n      <th>day</th>\n      <th>duration</th>\n      <th>campaign</th>\n      <th>pdays</th>\n      <th>previous</th>\n      <th>y</th>\n    </tr>\n  </thead>\n  <tbody>\n    <tr>\n      <th>0</th>\n      <td>58</td>\n      <td>0</td>\n      <td>2143</td>\n      <td>0</td>\n      <td>5</td>\n      <td>261</td>\n      <td>1</td>\n      <td>-1</td>\n      <td>0</td>\n      <td>0</td>\n    </tr>\n    <tr>\n      <th>1</th>\n      <td>36</td>\n      <td>0</td>\n      <td>265</td>\n      <td>1</td>\n      <td>5</td>\n      <td>348</td>\n      <td>1</td>\n      <td>-1</td>\n      <td>0</td>\n      <td>0</td>\n    </tr>\n    <tr>\n      <th>2</th>\n      <td>25</td>\n      <td>0</td>\n      <td>-7</td>\n      <td>0</td>\n      <td>5</td>\n      <td>365</td>\n      <td>1</td>\n      <td>-1</td>\n      <td>0</td>\n      <td>0</td>\n    </tr>\n    <tr>\n      <th>3</th>\n      <td>53</td>\n      <td>0</td>\n      <td>-3</td>\n      <td>0</td>\n      <td>5</td>\n      <td>1666</td>\n      <td>1</td>\n      <td>-1</td>\n      <td>0</td>\n      <td>0</td>\n    </tr>\n    <tr>\n      <th>4</th>\n      <td>24</td>\n      <td>0</td>\n      <td>-103</td>\n      <td>1</td>\n      <td>5</td>\n      <td>145</td>\n      <td>1</td>\n      <td>-1</td>\n      <td>0</td>\n      <td>0</td>\n    </tr>\n  </tbody>\n</table>\n</div>"
     },
     "execution_count": 40,
     "metadata": {},
     "output_type": "execute_result"
    }
   ],
   "source": [
    "tmp1 = bank_df[['age', 'default', 'balance', 'loan', 'day', 'duration', 'campaign', 'pdays', 'previous', 'y']]\n",
    "\n",
    "tmp1.head()"
   ],
   "metadata": {
    "collapsed": false,
    "pycharm": {
     "name": "#%%\n"
    }
   }
  },
  {
   "cell_type": "code",
   "execution_count": 41,
   "outputs": [
    {
     "name": "stdout",
     "output_type": "stream",
     "text": [
      "(6933, 31)\n",
      "(6933, 17)\n"
     ]
    }
   ],
   "source": [
    "\n",
    "tmp2 = pd.concat([tmp1, bank_df_marital], axis=1)\n",
    "tmp3 = pd.concat([tmp2, bank_df_education], axis=1)\n",
    "tmp4 = pd.concat([tmp3, bank_df_contact], axis=1)\n",
    "bank_df_new = pd.concat([tmp4, bank_df_month], axis=1)\n",
    "\n",
    "bank_df_new.head()\n",
    "print(bank_df_new.shape)\n",
    "print(bank_df.shape)"
   ],
   "metadata": {
    "collapsed": false,
    "pycharm": {
     "name": "#%%\n"
    }
   }
  },
  {
   "cell_type": "code",
   "execution_count": 36,
   "outputs": [],
   "source": [
    "#bank_df_new.to_csv('bank-prep.csv', index=False)"
   ],
   "metadata": {
    "collapsed": false,
    "pycharm": {
     "name": "#%%\n"
    }
   }
  }
 ],
 "metadata": {
  "kernelspec": {
   "display_name": "Python 3",
   "language": "python",
   "name": "python3"
  },
  "language_info": {
   "codemirror_mode": {
    "name": "ipython",
    "version": 2
   },
   "file_extension": ".py",
   "mimetype": "text/x-python",
   "name": "python",
   "nbconvert_exporter": "python",
   "pygments_lexer": "ipython2",
   "version": "2.7.6"
  }
 },
 "nbformat": 4,
 "nbformat_minor": 0
}